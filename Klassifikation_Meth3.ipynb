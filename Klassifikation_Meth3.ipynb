{
 "cells": [
  {
   "cell_type": "code",
   "execution_count": 1,
   "id": "59f91c26-5b76-492c-8490-863b5e160008",
   "metadata": {},
   "outputs": [],
   "source": [
    "#Klassifikation Meht3 LGBM-Classifier\n",
    "from lightgbm import LGBMClassifier\n",
    "from sklearn.preprocessing import StandardScaler, LabelEncoder\n",
    "from sklearn.model_selection import train_test_split\n",
    "from sklearn.metrics import classification_report, confusion_matrix, accuracy_score\n",
    "\n",
    "import pandas as pd\n"
   ]
  },
  {
   "cell_type": "code",
   "execution_count": 2,
   "id": "2ff095b9-5fc2-4019-a718-42a4c25a6359",
   "metadata": {},
   "outputs": [],
   "source": [
    "df_accidents = pd.read_csv('data/MA3_finished.csv', index_col='ID')"
   ]
  },
  {
   "cell_type": "code",
   "execution_count": 3,
   "id": "ae40dcb1-b9d2-4cb3-a0a9-2428f400c62e",
   "metadata": {},
   "outputs": [
    {
     "data": {
      "text/plain": [
       "Unnamed: 0                 int64\n",
       "Severity                   int64\n",
       "Start_Time                object\n",
       "End_Time                  object\n",
       "Start_Lat                float64\n",
       "Start_Lng                float64\n",
       "Distance(mi)             float64\n",
       "Description               object\n",
       "Street                    object\n",
       "City                      object\n",
       "County                    object\n",
       "State                     object\n",
       "Zipcode                   object\n",
       "Country                   object\n",
       "Timezone                  object\n",
       "Airport_Code              object\n",
       "Temperature(F)           float64\n",
       "Humidity(%)              float64\n",
       "Pressure(in)             float64\n",
       "Visibility(mi)           float64\n",
       "Wind_Direction            object\n",
       "Wind_Speed(mph)          float64\n",
       "Weather_Condition         object\n",
       "Amenity                     bool\n",
       "Bump                        bool\n",
       "Crossing                    bool\n",
       "Give_Way                    bool\n",
       "Junction                    bool\n",
       "No_Exit                     bool\n",
       "Railway                     bool\n",
       "Roundabout                  bool\n",
       "Station                     bool\n",
       "Stop                        bool\n",
       "Traffic_Calming             bool\n",
       "Traffic_Signal              bool\n",
       "Turning_Loop                bool\n",
       "Sunrise_Sunset            object\n",
       "Civil_Twilight            object\n",
       "Nautical_Twilight         object\n",
       "Astronomical_Twilight     object\n",
       "Year                       int64\n",
       "Month                      int64\n",
       "Day                        int64\n",
       "Hour                       int64\n",
       "Duration                 float64\n",
       "State Name                object\n",
       "Region                    object\n",
       "Division                  object\n",
       "dtype: object"
      ]
     },
     "execution_count": 3,
     "metadata": {},
     "output_type": "execute_result"
    }
   ],
   "source": [
    "df_accidents.dtypes"
   ]
  },
  {
   "cell_type": "code",
   "execution_count": 4,
   "id": "54020480-5237-4862-8a7b-aee13902eba9",
   "metadata": {},
   "outputs": [],
   "source": [
    "#featureselection\n",
    "#features to encode\n",
    "obj_bool_features = df_accidents[['Weather_Condition', 'Amenity', 'Bump', 'Crossing', 'Give_Way', 'Junction', 'No_Exit',\n",
    "                         'Railway', 'Roundabout', 'Station', 'Stop', 'Traffic_Calming', 'Traffic_Signal', 'Turning_Loop',\n",
    "                         'Sunrise_Sunset']]"
   ]
  },
  {
   "cell_type": "code",
   "execution_count": 5,
   "id": "7c660a57-c679-4ff2-abf3-e4cbeb09d3c1",
   "metadata": {},
   "outputs": [],
   "source": [
    "#encode features above\n",
    "le = LabelEncoder()\n",
    "#create copy of df\n",
    "df_encoded = pd.DataFrame()\n",
    "#LabelEncoder can only encode one column at a time --> forloop\n",
    "#obj_bool_feat = le.fit_transform(obj_bool_features)\n",
    "for feature in obj_bool_features:\n",
    "    df_encoded[feature] = le.fit_transform(df_accidents[feature])"
   ]
  },
  {
   "cell_type": "code",
   "execution_count": 6,
   "id": "ed442168-b159-4de1-b9c8-aef01e8b8387",
   "metadata": {},
   "outputs": [
    {
     "data": {
      "text/plain": [
       "Index(['Weather_Condition', 'Amenity', 'Bump', 'Crossing', 'Give_Way',\n",
       "       'Junction', 'No_Exit', 'Railway', 'Roundabout', 'Station', 'Stop',\n",
       "       'Traffic_Calming', 'Traffic_Signal', 'Turning_Loop', 'Sunrise_Sunset',\n",
       "       'Severity', 'Start_Lng', 'Start_Lat', 'Temperature(F)', 'Humidity(%)',\n",
       "       'Pressure(in)', 'Visibility(mi)', 'Wind_Speed(mph)'],\n",
       "      dtype='object')"
      ]
     },
     "execution_count": 6,
     "metadata": {},
     "output_type": "execute_result"
    }
   ],
   "source": [
    "#float/int features\n",
    "float_int_features = df_accidents[['Severity','Start_Lng', 'Start_Lat', 'Temperature(F)', 'Humidity(%)', 'Pressure(in)', 'Visibility(mi)', 'Wind_Speed(mph)',]]\n",
    "\n",
    "for feature in float_int_features:\n",
    "    df_encoded[feature] = df_accidents[feature]\n",
    "\n",
    "#check if combination worked \n",
    "df_encoded.columns"
   ]
  },
  {
   "cell_type": "code",
   "execution_count": 7,
   "id": "2e981db2-a31c-4533-9045-7f4badbbf720",
   "metadata": {},
   "outputs": [
    {
     "name": "stdout",
     "output_type": "stream",
     "text": [
      "         Weather_Condition  Amenity  Bump  Crossing  Give_Way  Junction  \\\n",
      "0                       86        0     0         0         0         0   \n",
      "1                       83        0     0         0         0         0   \n",
      "2                       83        0     0         0         0         0   \n",
      "3                       60        0     0         0         0         0   \n",
      "4                       86        0     0         0         0         0   \n",
      "...                    ...      ...   ...       ...       ...       ...   \n",
      "7051551                 15        0     0         0         0         0   \n",
      "7051552                 15        0     0         0         0         0   \n",
      "7051553                 89        0     0         0         0         1   \n",
      "7051554                 15        0     0         0         0         0   \n",
      "7051555                 15        0     0         0         0         0   \n",
      "\n",
      "         No_Exit  Railway  Roundabout  Station  ...  Turning_Loop  \\\n",
      "0              0        0           0        0  ...             0   \n",
      "1              0        0           0        0  ...             0   \n",
      "2              0        0           0        0  ...             0   \n",
      "3              0        0           0        0  ...             0   \n",
      "4              0        0           0        0  ...             0   \n",
      "...          ...      ...         ...      ...  ...           ...   \n",
      "7051551        0        0           0        0  ...             0   \n",
      "7051552        0        0           0        0  ...             0   \n",
      "7051553        0        0           0        0  ...             0   \n",
      "7051554        0        0           0        0  ...             0   \n",
      "7051555        0        0           0        0  ...             0   \n",
      "\n",
      "         Sunrise_Sunset  Severity   Start_Lng  Start_Lat  Temperature(F)  \\\n",
      "0                     1         2  -84.032608  39.063148            36.0   \n",
      "1                     1         3  -84.205582  39.747753            35.1   \n",
      "2                     0         2  -84.188354  39.627781            36.0   \n",
      "3                     0         3  -82.925194  40.100590            37.9   \n",
      "4                     0         2  -84.230507  39.758274            34.0   \n",
      "...                 ...       ...         ...        ...             ...   \n",
      "7051551               0         2 -117.379360  34.002480            86.0   \n",
      "7051552               0         2 -117.148060  32.766960            70.0   \n",
      "7051553               0         2 -117.847790  33.775450            73.0   \n",
      "7051554               0         2 -118.403020  33.992460            71.0   \n",
      "7051555               0         2 -117.230920  34.133930            79.0   \n",
      "\n",
      "         Humidity(%)  Pressure(in)  Visibility(mi)  Wind_Speed(mph)  \n",
      "0              100.0         29.67            10.0              3.5  \n",
      "1               96.0         29.64             9.0              4.6  \n",
      "2               89.0         29.65             6.0              3.5  \n",
      "3               97.0         29.63             7.0              3.5  \n",
      "4              100.0         29.66             7.0              3.5  \n",
      "...              ...           ...             ...              ...  \n",
      "7051551         40.0         28.92            10.0             13.0  \n",
      "7051552         73.0         29.39            10.0              6.0  \n",
      "7051553         64.0         29.74            10.0             10.0  \n",
      "7051554         81.0         29.62            10.0              8.0  \n",
      "7051555         47.0         28.63             7.0              7.0  \n",
      "\n",
      "[7051556 rows x 23 columns]\n"
     ]
    }
   ],
   "source": [
    "#check if encoding worked \n",
    "print(df_encoded)"
   ]
  },
  {
   "cell_type": "code",
   "execution_count": 8,
   "id": "96df0265-daf7-4874-8ea5-e32abc44b12f",
   "metadata": {},
   "outputs": [
    {
     "name": "stdout",
     "output_type": "stream",
     "text": [
      "Severity\n",
      "2    5671502\n",
      "3    1136465\n",
      "4     178538\n",
      "1      65051\n",
      "Name: count, dtype: int64\n"
     ]
    }
   ],
   "source": [
    "#check amount of severity for each level\n",
    "print(df_encoded['Severity'].value_counts())"
   ]
  },
  {
   "cell_type": "code",
   "execution_count": 9,
   "id": "6ad8f1e4-8883-48b7-8764-2c34e54d94f0",
   "metadata": {},
   "outputs": [],
   "source": [
    "#set Target\n",
    "target = df_encoded['Severity']\n",
    "#set features\n",
    "features = df_encoded.drop(columns=['Severity'])\n",
    "#scale features\n",
    "scaler = StandardScaler()\n",
    "features_scaled = scaler.fit_transform(features)"
   ]
  },
  {
   "cell_type": "code",
   "execution_count": 10,
   "id": "ef253eb4-8b00-4fa7-89ad-da3d9b1693c4",
   "metadata": {},
   "outputs": [],
   "source": [
    "#Split Data 80/20\n",
    "features_train, features_test, target_train, target_test = train_test_split(features_scaled, target, test_size=0.2, random_state=42)"
   ]
  },
  {
   "cell_type": "code",
   "execution_count": 11,
   "id": "9efd7739-9188-4aac-b996-af6cc8e0ee3f",
   "metadata": {},
   "outputs": [
    {
     "name": "stderr",
     "output_type": "stream",
     "text": [
      "C:\\Users\\forte\\AppData\\Local\\Programs\\Python\\Python312\\Lib\\site-packages\\joblib\\externals\\loky\\backend\\context.py:136: UserWarning: Could not find the number of physical cores for the following reason:\n",
      "found 0 physical cores < 1\n",
      "Returning the number of logical cores instead. You can silence this warning by setting LOKY_MAX_CPU_COUNT to the number of cores you want to use.\n",
      "  warnings.warn(\n",
      "  File \"C:\\Users\\forte\\AppData\\Local\\Programs\\Python\\Python312\\Lib\\site-packages\\joblib\\externals\\loky\\backend\\context.py\", line 282, in _count_physical_cores\n",
      "    raise ValueError(f\"found {cpu_count_physical} physical cores < 1\")\n"
     ]
    },
    {
     "name": "stdout",
     "output_type": "stream",
     "text": [
      "[LightGBM] [Warning] Unknown parameter: n_estimator\n",
      "[LightGBM] [Warning] Unknown parameter: n_estimator\n",
      "[LightGBM] [Info] Auto-choosing row-wise multi-threading, the overhead of testing was 0.171328 seconds.\n",
      "You can set `force_row_wise=true` to remove the overhead.\n",
      "And if memory is not enough, you can set `force_col_wise=true`.\n",
      "[LightGBM] [Info] Total Bins 1265\n",
      "[LightGBM] [Info] Number of data points in the train set: 5641244, number of used features: 21\n",
      "[LightGBM] [Info] Start training from score -4.687059\n",
      "[LightGBM] [Info] Start training from score -0.217710\n",
      "[LightGBM] [Info] Start training from score -1.825832\n",
      "[LightGBM] [Info] Start training from score -3.675211\n",
      "[LightGBM] [Warning] Unknown parameter: n_estimator\n"
     ]
    }
   ],
   "source": [
    "#lgbm-classifier\n",
    "lgbm_classifier = LGBMClassifier(n_estimator = 50, random_state=42)\n",
    "\n",
    "#train classifier\n",
    "lgbm_classifier.fit(features_train, target_train)\n",
    "\n",
    "#predict\n",
    "target_predict = lgbm_classifier.predict(features_test)"
   ]
  },
  {
   "cell_type": "code",
   "execution_count": 12,
   "id": "89bb2a1b-271c-4b36-b513-bf210c5b0c84",
   "metadata": {},
   "outputs": [
    {
     "name": "stdout",
     "output_type": "stream",
     "text": [
      "Accuracy=  {0.8168547101634248}\n",
      "              precision    recall  f1-score   support\n",
      "\n",
      "           1       0.40      0.03      0.05     13074\n",
      "           2       0.83      0.98      0.90   1133919\n",
      "           3       0.62      0.18      0.28    227753\n",
      "           4       0.66      0.01      0.01     35566\n",
      "\n",
      "    accuracy                           0.82   1410312\n",
      "   macro avg       0.63      0.30      0.31   1410312\n",
      "weighted avg       0.79      0.82      0.77   1410312\n",
      "\n",
      "[[    337   12670      67       0]\n",
      " [    445 1110730   22668      76]\n",
      " [     39  186958   40704      52]\n",
      " [     18   32920    2379     249]]\n"
     ]
    }
   ],
   "source": [
    "accuracy = accuracy_score(target_test, target_predict)\n",
    "print('Accuracy= ', {accuracy})\n",
    "print(classification_report(target_test, target_predict))\n",
    "print(confusion_matrix(target_test, target_predict))"
   ]
  },
  {
   "cell_type": "code",
   "execution_count": null,
   "id": "cce57dbe-39ae-418b-a9b6-1e690e239739",
   "metadata": {},
   "outputs": [],
   "source": []
  }
 ],
 "metadata": {
  "kernelspec": {
   "display_name": "Python 3 (ipykernel)",
   "language": "python",
   "name": "python3"
  },
  "language_info": {
   "codemirror_mode": {
    "name": "ipython",
    "version": 3
   },
   "file_extension": ".py",
   "mimetype": "text/x-python",
   "name": "python",
   "nbconvert_exporter": "python",
   "pygments_lexer": "ipython3",
   "version": "3.12.0"
  }
 },
 "nbformat": 4,
 "nbformat_minor": 5
}
