{
 "cells": [
  {
   "cell_type": "code",
   "execution_count": 1,
   "id": "fd5278b0-e9f6-41a7-a34e-c72e3ca109bf",
   "metadata": {},
   "outputs": [],
   "source": [
    "from sklearn.datasets import fetch_20newsgroups\n",
    "\n",
    "from sklearn.model_selection import train_test_split\n",
    "\n",
    "from sklearn.feature_extraction.text import TfidfVectorizer\n",
    "\n",
    "from sklearn.feature_selection import SelectFromModel\n",
    "from sklearn.svm import LinearSVC\n",
    "\n",
    "from sklearn.pipeline import Pipeline\n",
    "\n",
    "from sklearn.svm import SVC\n",
    "\n",
    "from sklearn.model_selection import GridSearchCV\n",
    "\n",
    "from sklearn.metrics import classification_report, confusion_matrix\n",
    "from sklearn.model_selection import cross_val_predict\n",
    "\n",
    "import pandas as pd"
   ]
  },
  {
   "cell_type": "code",
   "execution_count": 2,
   "id": "93b8e0b5-3e78-4fee-8dc9-3c6ecc98dc14",
   "metadata": {},
   "outputs": [],
   "source": [
    "#read-in data\n",
    "accidents = pd.read_csv('data/edited_file.csv', index_col='ID')\n",
    "categories = [\n",
    "    'severity1',\n",
    "    'severity2',\n",
    "    'severity3',\n",
    "    'severity4'\n",
    "]"
   ]
  },
  {
   "cell_type": "code",
   "execution_count": 3,
   "id": "f04210e4-dfbd-4f6f-83cc-a0b5530b3583",
   "metadata": {},
   "outputs": [
    {
     "name": "stdout",
     "output_type": "stream",
     "text": [
      "0\n"
     ]
    }
   ],
   "source": [
    "#split data into train and test-data\n",
    "numeric_features = accidents.select_dtypes(include=['float64']).columns\n",
    "\n",
    "# Entferne Zeilen mit NaN-Werten\n",
    "accidents_cleaned = accidents.dropna(subset=numeric_features)\n",
    "\n",
    "# Extrahiere die ausgewählten numerischen Features\n",
    "features_for_clustering = accidents_cleaned[numeric_features]\n",
    "\n",
    "numeric_features = numeric_features.dropna()\n",
    "print(numeric_features.isnull().sum())\n",
    "\n",
    "X = accidents_cleaned[numeric_features]\n",
    "y = accidents_cleaned['Severity']  # Target (the 'severity' column)\n",
    "X_train, X_test, y_train, y_test = train_test_split(X, y, test_size=0.2, random_state=42)"
   ]
  },
  {
   "cell_type": "code",
   "execution_count": null,
   "id": "348632da-0abb-430f-ac65-bb1eef630d57",
   "metadata": {},
   "outputs": [],
   "source": [
    "classifier = SVC(kernel='linear')\n",
    "\n",
    "pipeline = Pipeline([('classifier', classifier)])\n",
    "\n",
    "# Pipeline auf 80% der Trainingsdaten laufen lassen\n",
    "pipeline.fit(X_train, y_train)\n",
    "\n",
    "# Vorhersage für 20% der Trainingsdaten (development-Daten) machen\n",
    "dev_labels = pipeline.predict(X_dev) "
   ]
  },
  {
   "cell_type": "code",
   "execution_count": null,
   "id": "8a702ca5-c551-4f8f-a06f-bb9ab40b469b",
   "metadata": {},
   "outputs": [],
   "source": []
  }
 ],
 "metadata": {
  "kernelspec": {
   "display_name": "Python 3 (ipykernel)",
   "language": "python",
   "name": "python3"
  },
  "language_info": {
   "codemirror_mode": {
    "name": "ipython",
    "version": 3
   },
   "file_extension": ".py",
   "mimetype": "text/x-python",
   "name": "python",
   "nbconvert_exporter": "python",
   "pygments_lexer": "ipython3",
   "version": "3.12.0"
  }
 },
 "nbformat": 4,
 "nbformat_minor": 5
}
