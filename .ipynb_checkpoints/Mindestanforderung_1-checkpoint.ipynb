{
 "cells": [
  {
   "cell_type": "code",
   "execution_count": 1,
   "id": "f9b00553-59c4-4ee0-a862-32b420b48143",
   "metadata": {},
   "outputs": [],
   "source": [
    "#Data Understanding und Data Preparation - 1: Einführung | VidalDosSantos, Jelic, Forte\n",
    "#The File contains information about how long the execution of a cell takes (format HH:MM:SS). duration for this file aprox. 00:03:02."
   ]
  },
  {
   "cell_type": "code",
   "execution_count": 2,
   "id": "4a108c8c-ef8c-4ab2-9aa1-4ad74a1439fa",
   "metadata": {},
   "outputs": [],
   "source": [
    "#imports used in this file\n",
    "import numpy as np\n",
    "import pandas as pd"
   ]
  },
  {
   "cell_type": "code",
   "execution_count": null,
   "id": "3a5f8c30-3501-49ed-8f0c-c4d30253577d",
   "metadata": {},
   "outputs": [],
   "source": [
    "#Dataset downloaded from Kaggle: https://www.kaggle.com/datasets/sobhanmoosavi/us-accidents\n",
    "#read-in data as pandaFrame\n",
    "df_accidents = pd.read_csv('data/US_Accidents_March23.csv', index_col = 'ID')\n",
    "#convert to numpy-Array in order to execute ops and print np_accidents \n",
    "np_accidents = df_accidents.to_numpy()\n",
    "np_accidents\n",
    "#aprox. 00:00:50"
   ]
  },
  {
   "cell_type": "code",
   "execution_count": null,
   "id": "1ce20153-f10d-4c8c-beea-078010e03152",
   "metadata": {},
   "outputs": [],
   "source": [
    "#In Order to check which Features are eligible for filtering we would like to have an overview over the datatypes\n",
    "print(df_accidents.dtypes)"
   ]
  },
  {
   "cell_type": "code",
   "execution_count": null,
   "id": "cc16a605-4377-486c-84d8-72dc879f5927",
   "metadata": {},
   "outputs": [],
   "source": [
    "#filter data with 2 conditions\n",
    "#filter the the Feature Severity. Take every entry bigger than 2\n",
    "#filter for temperature for values >20F and <50F\n",
    "#get right columns\n",
    "severity_feature = np_accidents[:,1]\n",
    "temperature_feature = np_accidents[:,19]\n",
    "\n",
    "#filter and print\n",
    "print(np_accidents[np.argwhere(severity_feature > 2)])\n",
    "print('-----------------------------------------------------------------')\n",
    "print(np_accidents[np.argwhere((temperature_feature > 20) & (temperature_feature < 50))])\n",
    "#--> after executing this cell we can see in the error printed that temperature contains invalid values --> data cleaning --> still outputs..."
   ]
  },
  {
   "cell_type": "code",
   "execution_count": null,
   "id": "43b29761-2dd4-450f-a5ea-db4423dfd650",
   "metadata": {},
   "outputs": [],
   "source": [
    "#statistics mean_severity and median temperature\n",
    "print('the mean severity is: ' + str(np.mean(severity_feature)))\n",
    "print(str(np.median(temperature_feature)) + '(F)')"
   ]
  },
  {
   "cell_type": "code",
   "execution_count": null,
   "id": "348be310-be34-4979-b7d2-372d4782689d",
   "metadata": {},
   "outputs": [],
   "source": [
    "#calculate new column\n",
    "df_accidents['source_severity'] = df_accidents['Source'].astype(str) + df_accidents['Severity'].astype(str)\n",
    "print(df_accidents['source_severity'])"
   ]
  },
  {
   "cell_type": "code",
   "execution_count": null,
   "id": "d80517e8-ac5c-47cc-95a4-23f687954dfc",
   "metadata": {},
   "outputs": [],
   "source": [
    "#change naming\n",
    "df_accidents.rename(columns={'source_severity':'severity_source'})"
   ]
  },
  {
   "cell_type": "code",
   "execution_count": null,
   "id": "17a0227e-51ef-43ed-bea1-693602d3a04c",
   "metadata": {},
   "outputs": [],
   "source": [
    "#change order of columns\n",
    "cols = list(df_accidents.columns)\n",
    "cols[-2], cols[-1] = cols[-1], cols[-2]\n",
    "df_accidents = df_accidents[cols]\n",
    "print(df_accidents)"
   ]
  },
  {
   "cell_type": "code",
   "execution_count": null,
   "id": "c7b3467f-2ffb-4bba-8627-100c98b1ce83",
   "metadata": {},
   "outputs": [],
   "source": [
    "#delete column severity_source\n",
    "df_accidents = df_accidents.drop('source_severity', axis=1)\n",
    "print(df_accidents)"
   ]
  },
  {
   "cell_type": "code",
   "execution_count": null,
   "id": "de82c626-48e3-417e-9d66-4f1f7c6f951f",
   "metadata": {},
   "outputs": [],
   "source": [
    "#use str-Accesor --> replace ID (A-1 --> 1)\n",
    "df_accidents.index = df_accidents.index.str.replace('A-','')\n",
    "print(df_accidents)"
   ]
  },
  {
   "cell_type": "code",
   "execution_count": null,
   "id": "31a8fdcc-b2c0-4354-af77-f1606f6eeee9",
   "metadata": {},
   "outputs": [],
   "source": [
    "df_accidents.to_csv('data/edited_file.csv')"
   ]
  }
 ],
 "metadata": {
  "kernelspec": {
   "display_name": "Python 3 (ipykernel)",
   "language": "python",
   "name": "python3"
  },
  "language_info": {
   "codemirror_mode": {
    "name": "ipython",
    "version": 3
   },
   "file_extension": ".py",
   "mimetype": "text/x-python",
   "name": "python",
   "nbconvert_exporter": "python",
   "pygments_lexer": "ipython3",
   "version": "3.12.0"
  }
 },
 "nbformat": 4,
 "nbformat_minor": 5
}
