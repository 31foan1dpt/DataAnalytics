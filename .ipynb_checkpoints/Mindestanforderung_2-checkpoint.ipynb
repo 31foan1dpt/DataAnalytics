{
 "cells": [
  {
   "cell_type": "code",
   "execution_count": 1,
   "id": "88f6aa8f-bc38-4246-a3aa-a4d0c853d876",
   "metadata": {},
   "outputs": [
    {
     "ename": "ModuleNotFoundError",
     "evalue": "No module named 'numpy'",
     "output_type": "error",
     "traceback": [
      "\u001b[1;31m---------------------------------------------------------------------------\u001b[0m",
      "\u001b[1;31mModuleNotFoundError\u001b[0m                       Traceback (most recent call last)",
      "Cell \u001b[1;32mIn[1], line 3\u001b[0m\n\u001b[0;32m      1\u001b[0m \u001b[38;5;66;03m#Assignment #2 VidalDosSantos, Jelic, Forte\u001b[39;00m\n\u001b[0;32m      2\u001b[0m \u001b[38;5;66;03m#read in bibs for visualization\u001b[39;00m\n\u001b[1;32m----> 3\u001b[0m \u001b[38;5;28;01mimport\u001b[39;00m \u001b[38;5;21;01mnumpy\u001b[39;00m \u001b[38;5;28;01mas\u001b[39;00m \u001b[38;5;21;01mnp\u001b[39;00m\n\u001b[0;32m      4\u001b[0m \u001b[38;5;28;01mimport\u001b[39;00m \u001b[38;5;21;01mpandas\u001b[39;00m \u001b[38;5;28;01mas\u001b[39;00m \u001b[38;5;21;01mpd\u001b[39;00m\n\u001b[0;32m      5\u001b[0m \u001b[38;5;28;01mimport\u001b[39;00m \u001b[38;5;21;01mmatplotlib\u001b[39;00m\u001b[38;5;21;01m.\u001b[39;00m\u001b[38;5;21;01mpyplot\u001b[39;00m \u001b[38;5;28;01mas\u001b[39;00m \u001b[38;5;21;01mplt\u001b[39;00m\n",
      "\u001b[1;31mModuleNotFoundError\u001b[0m: No module named 'numpy'"
     ]
    }
   ],
   "source": [
    "#Assignment #2 VidalDosSantos, Jelic, Forte\n",
    "#read in bibs for visualization\n",
    "import numpy as np\n",
    "import pandas as pd\n",
    "import matplotlib.pyplot as plt\n",
    "import seaborn as sns"
   ]
  },
  {
   "cell_type": "code",
   "execution_count": null,
   "id": "73a97a44-865c-493e-bff1-39b0d4e0bc17",
   "metadata": {},
   "outputs": [],
   "source": [
    "#read in data edited file from Assignment#1, set edited column ID als index col --> otherwise a second id column would be generated...\n",
    "accidents = pd.read_csv('data/edited_file.csv', index_col='ID')"
   ]
  },
  {
   "cell_type": "code",
   "execution_count": null,
   "id": "fd922b10-179e-4d39-8292-c609d1d4febd",
   "metadata": {},
   "outputs": [],
   "source": [
    "#set the max output number for the columns to none so all columns get displayed for this call + show head\n",
    "#get overview of all columns of the new file\n",
    "pd.set_option('display.max_columns', None)\n",
    "accidents.head()"
   ]
  },
  {
   "cell_type": "code",
   "execution_count": null,
   "id": "ee1cf0fd-a792-4986-8fd2-cae23d4a7cb0",
   "metadata": {},
   "outputs": [],
   "source": [
    "#revert function above so not all are shown...\n",
    "pd.reset_option('display.max_columns')"
   ]
  },
  {
   "cell_type": "code",
   "execution_count": null,
   "id": "1cac658e-80d2-453f-96e5-52c6ddb26774",
   "metadata": {},
   "outputs": [],
   "source": [
    "#check types of attributes --> evaluate which columns are suitable for different types of diagramms !good Overview! --> we took: Severity, Start_Time, Temperature, State\n",
    "accidents.dtypes"
   ]
  },
  {
   "cell_type": "code",
   "execution_count": null,
   "id": "611eb884-8c78-4f2d-a99a-8b612e7ca007",
   "metadata": {},
   "outputs": [],
   "source": [
    "#For the dataexploration the following columns will be seleceted: Severity, Start_Time, Temperature(F), State\n",
    "#create line-chart --> yearly (total) amount of accidents to see \"trends\"\n",
    "#create figure and axes\n",
    "fig, ax = plt.subplots(figsize=(10,6))\n",
    "\n",
    "#title\n",
    "ax.set_title(\"Total amount of accidents over the years\")\n",
    "#set naming for axes\n",
    "ax.set_xlabel(\"Years\")\n",
    "ax.set_ylabel(\"Amount of accidents\")\n",
    "\n",
    "#insert data\n",
    "#convert to String in order to execute str ops\n",
    "accidents['Start_Time'] = accidents['Start_Time'].astype(str)\n",
    "#clean Startdate so fractions are getting truncated (previous format: \"%Y-%m-%d %H:%M:%S\": \".000000 --> new format: \"%Y-%m-%d %H:%M:%S\"\n",
    "accidents['Start_Time'] = accidents['Start_Time'].str.split('.').str[0]\n",
    "#convert Start_time from object to dateTime \n",
    "accidents['Start_Time'] = pd.to_datetime(accidents['Start_Time'])\n",
    "#Extract Year from Start_Time\n",
    "accidents['Year'] = accidents['Start_Time'].dt.year\n",
    "#Count total amount of accidents\n",
    "total_amount_of_accidents_per_year = accidents['Year'].value_counts().sort_index()\n",
    "#plot the index/values\n",
    "ax.plot(total_amount_of_accidents_per_year.index, total_amount_of_accidents_per_year.values)\n",
    "\n",
    "plt.show()\n",
    "#This chart shows how the the total amount of accidents changes over the year. It is clear that the amount of accidents increased during the last years. in 2023 there is a down peak... \n",
    "#Interpretation: The data for 2023 is incomplete (only jan and feb) therefore there is less data available."
   ]
  },
  {
   "cell_type": "code",
   "execution_count": null,
   "id": "c64b5155-68a6-4269-bfe6-ae1104d240a4",
   "metadata": {},
   "outputs": [],
   "source": [
    "#Working line graph as alternative\n",
    "severity_sum = accidents.groupby('State')['Severity'].sum()\n",
    "top10states = severity_sum.nlargest(10)\n",
    "\n",
    "fig, ax = plt.subplots(figsize=(10,6))\n",
    "ax.set_xlabel(\"\")\n",
    "ax.set_ylabel(\"\")\n",
    "\n",
    "ax.plot(top10states.index, top10states.values)\n",
    "plt.show()\n",
    "#Top10 states with most accidents"
   ]
  },
  {
   "cell_type": "code",
   "execution_count": null,
   "id": "a2477aae-e2f8-4128-a049-584a9535b122",
   "metadata": {},
   "outputs": [],
   "source": [
    "#creation of scatter-plot\n",
    "# Create a plot with a given size\n",
    "worldmap = plt.imread('img/eo_base_2020_clean_720x360.jpg')\n",
    "# Seitenverhältnis des Bilds berechnen: Breite des Bilds / Höhe des Bilds\n",
    "# aspect_ratio = worldmap.shape[1] / worldmap.shape[0]\n",
    "# Das Bild ist eine \"platte\" Projektion der Erde, so das wir Geographische\n",
    "# Koordinaten direkt als x,y Position auf dem Bild verwenden können\n",
    "# Bounding Box: links, rechts, unten, oben\n",
    "# Das Bild geht von -180 bis +180 Längengrad und von -90 bis +90 Breitengrad\n",
    "bbox = (-180, 180, -90, 90)\n",
    "us_bbox = (-125, -66, 24, 50)\n",
    "\n",
    "# Erstellen eines Plots mit gegebener Größe\n",
    "fig, ax = plt.subplots(figsize=(18, 9))\n",
    "\n",
    "# Koordinatensystem über Bild legen\n",
    "ax.set_xlim(bbox[0], bbox[1])\n",
    "ax.set_ylim(bbox[2], bbox[3])\n",
    "\n",
    "# Anzeigen des Bilds\n",
    "ax.imshow( worldmap, zorder=0, extent=bbox)\n",
    "\n",
    "# Scatter plot of accidents\n",
    "ax.scatter(x=accidents['Start_Lng'], y=accidents['Start_Lat'], marker='.')\n",
    "plt.show()\n",
    "plt.show()\n",
    "\n",
    "#zoom in for NA only --> good for analysis of locations --> analysis: most of the accidents are on west/east coast. it gets less on middle part of US \n",
    "fig, ax = plt.subplots(figsize=(10,6))\n",
    "ax.scatter(x=accidents['Start_Lng'], y=accidents['Start_Lat'],marker='.')\n",
    "plt.show()"
   ]
  },
  {
   "cell_type": "code",
   "execution_count": null,
   "id": "5acc1d77-bec1-4363-a023-36570ad2d8b1",
   "metadata": {},
   "outputs": [],
   "source": [
    "#Boxplots for most weather conditons (Temperature, Humidity, Windchill, Pressure, Visability, Wind_Speed) \n",
    "#--> ax.boxplot scales the y-axis wrong --> use seaborn for creation of boxplot\n",
    "\n",
    "#fig, ax = plt.subplots()\n",
    "#ax.boxplot(accidents['Temperature(F)'], labels=['Temperature(F)'])\n",
    "\n",
    "#creating sub-plot for better overview\n",
    "plt.figure(figsize=(15,10))\n",
    "plt.suptitle('Box-plot Summary of Whather Conditions')\n",
    "\n",
    "#creation of the boxplots\n",
    "plt.subplot(2,3,1)\n",
    "sns.boxplot(y=accidents['Temperature(F)'])\n",
    "plt.title('Temperature(F)')\n",
    "\n",
    "plt.subplot(2,3,2)\n",
    "sns.boxplot(y=accidents['Humidity(%)'])\n",
    "plt.title('Humidity(%)')\n",
    "\n",
    "plt.subplot(2,3,3)\n",
    "sns.boxplot(y=accidents['Wind_Chill(F)'])\n",
    "plt.title('Wind_Chill(F)')\n",
    "\n",
    "plt.subplot(2,3,4)\n",
    "sns.boxplot(y=accidents['Pressure(in)'])\n",
    "plt.title('Pressure(in)')\n",
    "\n",
    "plt.subplot(2,3,5)\n",
    "sns.boxplot(y=accidents['Visibility(mi)'])\n",
    "plt.title('Visibility(mi)')\n",
    "\n",
    "plt.subplot(2,3,6)\n",
    "sns.boxplot(y=accidents['Wind_Speed(mph)'])\n",
    "plt.title('Wind_Speed(mph)')\n",
    "\n",
    "plt.show()"
   ]
  },
  {
   "cell_type": "code",
   "execution_count": null,
   "id": "c602759b-92ae-479e-9664-92f9aac6ce4a",
   "metadata": {},
   "outputs": [],
   "source": [
    "#Cleaning weather coinditions data\n",
    "#https://www.ncei.noaa.gov/access/monitoring/scec/records/all/tmax\n",
    "\n",
    "accidents = accidents[(accidents['Temperature(F)'] > 120) & (accidents['Temperature(F)'] < 38)]"
   ]
  },
  {
   "cell_type": "code",
   "execution_count": null,
   "id": "55db3f5a-9926-44dc-806b-ff94523b350d",
   "metadata": {},
   "outputs": [],
   "source": [
    "#barchart total amount of accidents for each severity level --> needs rework\n",
    "total_accidents_per_severity = accidents['Severity'].value_counts()\n",
    "\n",
    "plt.figure(figsize=(10,6))\n",
    "plt.bar(total_accidents_per_severity.index, total_accidents_per_severity.values)\n",
    "plt.xlabel('Severity')\n",
    "plt.ylabel('Total Number of Accidents')\n",
    "plt.title('Total Number of Accidents for Each Severity Level')\n",
    "plt.show()"
   ]
  },
  {
   "cell_type": "code",
   "execution_count": null,
   "id": "067d8908-730b-4b6f-ad39-57fe4912b2e9",
   "metadata": {},
   "outputs": [],
   "source": [
    "#statistics for column Start_Time\n",
    "#total amount of accidents\n",
    "print(f'total amount of accidents: {accidents[\"Start_Time\"].count()}')\n",
    "#calculate amount of accidents per year (formatting already done)\n",
    "\n",
    "#create new column year --> count for each year\n",
    "accidents['Year'] = accidents['Start_Time'].dt.year\n",
    "print(f'total amount of accidents per year: {accidents['Year'].value_counts().sort_index().to_string()}')\n",
    "\n",
    "#create new column month --> count for each month\n",
    "accidents['Month'] = accidents['Start_Time'].dt.month\n",
    "print(f'total amount of accidents per month: {accidents['Month'].value_counts().sort_index().to_string()}')\n",
    "\n",
    "#create new column day --> count for each day\n",
    "accidents['Day'] = accidents['Start_Time'].dt.dayofweek\n",
    "print(f'total amount of accidents per day: {accidents['Day'].value_counts().sort_index().to_string()}')\n",
    "\n",
    "#create new column hour --> count for each hour \n",
    "accidents['Hour'] = accidents['Start_Time'].dt.hour\n",
    "print(f'total amount of accidents per month: {accidents['Hour'].value_counts().sort_index().to_string()}')\n",
    "\n",
    "#alternative print out peak year/month/day/hour of accidents\n",
    "print(f'peak_year for accidents: {accidents['Start_Time'].dt.year.mode().to_string()}')\n",
    "print(f'peak_month for accidents: {accidents['Start_Time'].dt.month.mode().to_string()}')\n",
    "print(f'peak_day for accidents: {accidents['Start_Time'].dt.day.mode().to_string()}')\n",
    "print(f'peak_hour for accidents: {accidents['Start_Time'].dt.hour.mode().to_string()}')\n",
    "\n",
    "#Alternative: calculate avg duration of a accident\n",
    "#calculate start and end_date for each \n",
    "#Start_Time already converted to DT... convert End_Time into DT !Take care of format for End_Time from!\n",
    "#convert to String in order to execute str ops\n",
    "accidents['End_Time'] = accidents['End_Time'].astype(str)\n",
    "#clean End_Time so fractions are getting truncated (previous format: \"%Y-%m-%d %H:%M:%S\": \".000000 --> new format: \"%Y-%m-%d %H:%M:%S\")\n",
    "accidents['End_Time'] = accidents['End_Time'].str.split('.').str[0]\n",
    "#convert End_Time from object to dateTime\n",
    "accidents['End_Time'] = pd.to_datetime(accidents['End_Time'])\n",
    "#caculate avg duration\n",
    "accidents['Duration'] = (accidents['End_Time'] - accidents['Start_Time'])\n",
    "accidents['Duration'] = (accidents['Duration']).dt.total_seconds()\n",
    "print(f'the avereage duration of a accidents (time till traffic flow normalizes) is {accidents['Duration'].mean()/1} minutes')\n",
    "#-> some values are outlines that cannot be fixed! -> we need to document"
   ]
  },
  {
   "cell_type": "code",
   "execution_count": null,
   "id": "608d567a-1ca9-48ed-b4da-6bd68e6e548d",
   "metadata": {},
   "outputs": [],
   "source": [
    "#create visualization of calculation above via histograms\n",
    "#Histograms for Year, Month, Day, Hour, Weak\n",
    "\n",
    "#create subplot\n",
    "plt.figure(figsize=(10,10))\n",
    "plt.suptitle('Amount')\n",
    "\n",
    "ax = plt.subplot(2,2,1)\n",
    "ax.set_title(\"Total amount of accidents per year\")\n",
    "ax.set_xlabel('amount')\n",
    "ax.set_ylabel('years')\n",
    "ax.hist(accidents['Year'], bins=[2015,2016,2017,2018,2019,2020,2021,2022,2023,2024,2025])\n",
    "\n",
    "ax = plt.subplot(2,2,2)\n",
    "ax.set_title(\"Total amount of accidents per month\")\n",
    "ax.set_xlabel('amount')\n",
    "ax.set_ylabel('month')\n",
    "ax.hist(accidents['Month'], bins=[1,2,3,4,5,6,7,8,9,10,11,12])\n",
    "\n",
    "ax = plt.subplot(2,2,3)\n",
    "ax.set_title(\"Total amount of accidents per day\")\n",
    "ax.set_xlabel('amount')\n",
    "ax.set_ylabel('Day')\n",
    "ax.hist(accidents['Day'], bins=[0,1,2,3,4,5,6])\n",
    "\n",
    "ax = plt.subplot(2,2,4)\n",
    "ax.set_title(\"Total amount of accidents per hour\")\n",
    "ax.set_xlabel('amount')\n",
    "ax.set_ylabel('hour')\n",
    "ax.hist(accidents['Hour'], bins=[0,1,2,3,4,5,6,7,8,9,10,11,12,13,14,15,16,17,18,19,20,21,22,23])\n",
    "\n",
    "plt.show()\n",
    "#furthermore we could analyse hours on weekdays/weekend or for single years "
   ]
  },
  {
   "cell_type": "code",
   "execution_count": null,
   "id": "687c5021-4c92-403c-9695-417c2a3db0bf",
   "metadata": {},
   "outputs": [],
   "source": [
    "#grouping by county\n",
    "\n",
    "accidents.groupby('State').agg({'Severity':'mean', 'Duration': 'mean', })\n",
    "#Gruppiert nach Staaten."
   ]
  },
  {
   "cell_type": "code",
   "execution_count": null,
   "id": "7ad7024b-4eb0-454f-b8c9-cc44e343be76",
   "metadata": {},
   "outputs": [],
   "source": [
    "#Overview\n",
    "accidents.dtypes"
   ]
  },
  {
   "cell_type": "code",
   "execution_count": null,
   "id": "ba72e64f-7aaa-42b1-9065-06c435f2191f",
   "metadata": {},
   "outputs": [],
   "source": []
  }
 ],
 "metadata": {
  "kernelspec": {
   "display_name": "Python 3 (ipykernel)",
   "language": "python",
   "name": "python3"
  },
  "language_info": {
   "codemirror_mode": {
    "name": "ipython",
    "version": 3
   },
   "file_extension": ".py",
   "mimetype": "text/x-python",
   "name": "python",
   "nbconvert_exporter": "python",
   "pygments_lexer": "ipython3",
   "version": "3.12.0"
  }
 },
 "nbformat": 4,
 "nbformat_minor": 5
}
