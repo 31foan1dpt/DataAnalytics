{
 "cells": [
  {
   "cell_type": "code",
   "execution_count": 1,
   "id": "c82158e5-fef2-49a3-9242-10aa35f85e4b",
   "metadata": {},
   "outputs": [],
   "source": [
    "from sklearn.model_selection import train_test_split\n",
    "from sklearn.preprocessing import StandardScaler, LabelEncoder\n",
    "import numpy as np\n",
    "import matplotlib.pyplot as plt\n",
    "from sklearn.metrics import f1_score\n",
    "from sklearn.pipeline import Pipeline\n",
    "from sklearn.feature_extraction.text import TfidfVectorizer\n",
    "from sklearn.feature_selection import SelectFromModel\n",
    "from sklearn.svm import LinearSVC, SVC\n",
    "from sklearn.pipeline import Pipeline\n",
    "from sklearn.naive_bayes import GaussianNB\n",
    "from sklearn.preprocessing import FunctionTransformer\n",
    "from sklearn.metrics import classification_report\n",
    "import pandas as pd\n",
    "from sklearn.linear_model import LinearRegression\n",
    "from math import sqrt\n",
    "import sklearn.ensemble\n",
    "import numpy as np\n",
    "from sklearn.linear_model import LinearRegression\n",
    "from sklearn.metrics import mean_squared_error\n",
    "from math import sqrt"
   ]
  },
  {
   "cell_type": "code",
   "execution_count": 2,
   "id": "b1923478-07b3-4367-b74b-737d78608b5e",
   "metadata": {},
   "outputs": [],
   "source": [
    "accidents = pd.read_csv('data/MA3_finished.csv', index_col='ID')"
   ]
  },
  {
   "cell_type": "code",
   "execution_count": 3,
   "id": "36257219-4622-43c5-af7a-cf3274626326",
   "metadata": {},
   "outputs": [
    {
     "data": {
      "text/plain": [
       "Index(['Weather_Condition', 'Amenity', 'Bump', 'Crossing', 'Give_Way',\n",
       "       'Junction', 'No_Exit', 'Railway', 'Roundabout', 'Station', 'Stop',\n",
       "       'Traffic_Calming', 'Traffic_Signal', 'Turning_Loop', 'Sunrise_Sunset',\n",
       "       'Severity', 'Start_Lng', 'Start_Lat', 'Temperature(F)', 'Humidity(%)',\n",
       "       'Pressure(in)', 'Visibility(mi)', 'Wind_Speed(mph)'],\n",
       "      dtype='object')"
      ]
     },
     "execution_count": 3,
     "metadata": {},
     "output_type": "execute_result"
    }
   ],
   "source": [
    "#featureselection\n",
    "#features to encode\n",
    "obj_bool_features = accidents[['Weather_Condition', 'Amenity', 'Bump', 'Crossing', 'Give_Way', 'Junction', 'No_Exit',\n",
    "                         'Railway', 'Roundabout', 'Station', 'Stop', 'Traffic_Calming', 'Traffic_Signal', 'Turning_Loop',\n",
    "                         'Sunrise_Sunset']]\n",
    "\n",
    "#encode features above\n",
    "le = LabelEncoder()\n",
    "#create copy of df\n",
    "df_encoded = pd.DataFrame()\n",
    "#LabelEncoder can only encode one column at a time --> forloop\n",
    "#obj_bool_feat = le.fit_transform(obj_bool_features)\n",
    "for feature in obj_bool_features:\n",
    "    df_encoded[feature] = le.fit_transform(accidents[feature])\n",
    "\n",
    "#float/int features\n",
    "float_int_features = accidents[['Severity','Start_Lng', 'Start_Lat', 'Temperature(F)', 'Humidity(%)', 'Pressure(in)', 'Visibility(mi)', 'Wind_Speed(mph)',]]\n",
    "\n",
    "for feature in float_int_features:\n",
    "    df_encoded[feature] = accidents[feature]\n",
    "\n",
    "#check if combination worked \n",
    "df_encoded.columns"
   ]
  },
  {
   "cell_type": "code",
   "execution_count": 4,
   "id": "8bd2da81-db2e-4276-b59d-834ac1302254",
   "metadata": {},
   "outputs": [],
   "source": [
    "#set Target\n",
    "target = df_encoded['Severity']\n",
    "#set features\n",
    "features = df_encoded.drop(columns=['Severity'])\n",
    "#scale features\n",
    "scaler = StandardScaler()\n",
    "features_scaled = scaler.fit_transform(features)"
   ]
  },
  {
   "cell_type": "code",
   "execution_count": 5,
   "id": "c9b4ad1d-f0c8-4c6f-aeb3-7d3c2d892332",
   "metadata": {},
   "outputs": [],
   "source": [
    "# Trainings- und Testdaten aufteilen\n",
    "features_train, features_test1, target_train, target_test1 = train_test_split(features_scaled, target, test_size=0.2, random_state=42)\n",
    "features_dev, features_test, target_dev, target_test = train_test_split(features_test1, target_test1, test_size=0.2, random_state=42)"
   ]
  },
  {
   "cell_type": "code",
   "execution_count": 6,
   "id": "a3f7f4fa-59c6-474c-91b3-bbfda6e05fed",
   "metadata": {},
   "outputs": [
    {
     "name": "stdout",
     "output_type": "stream",
     "text": [
      "Gesamtzahl Datenpunkte Training:  5641244\n",
      "Anzahl Kategorie 1 51977\n",
      "Anzahl Kategorie 2 4537583\n",
      "Anzahl Kategorie 3 908712\n",
      "Anzahl Kategorie 4 142972\n"
     ]
    }
   ],
   "source": [
    "# Übersicht über Klassen in den Trainingsdaten\n",
    "\n",
    "print(\"Gesamtzahl Datenpunkte Training: \", len(target_train))\n",
    "\n",
    "# Range(0,4) gibt bei Kategorie 0 = 0\n",
    "# Range (1,6) gibt bei Katg. 5 = 0\n",
    "# deswegen (1,5) (4 Severitys)\n",
    "for i in range(1,5):\n",
    "    print(\"Anzahl Kategorie\", str(i), list(target_train).count(i))"
   ]
  },
  {
   "cell_type": "code",
   "execution_count": 7,
   "id": "3666978f-a639-4129-a439-e2ba165d3ac5",
   "metadata": {},
   "outputs": [
    {
     "name": "stdout",
     "output_type": "stream",
     "text": [
      "Gesamtzahl Datenpunkte Dev:  1128249\n",
      "Anzahl Kategorie 1 10570\n",
      "Anzahl Kategorie 2 907116\n",
      "Anzahl Kategorie 3 182136\n",
      "Anzahl Kategorie 4 28427\n"
     ]
    }
   ],
   "source": [
    "# Und die Entwicklungsdaten?\n",
    "print(\"Gesamtzahl Datenpunkte Dev: \", len(target_dev))\n",
    "for i in range(1,5):\n",
    "    print(\"Anzahl Kategorie\", str(i), list(target_dev).count(i))"
   ]
  },
  {
   "cell_type": "code",
   "execution_count": 8,
   "id": "d5e6e647-1f08-4d29-ad49-82903f2ee651",
   "metadata": {},
   "outputs": [
    {
     "name": "stdout",
     "output_type": "stream",
     "text": [
      "1128249 1128249\n"
     ]
    }
   ],
   "source": [
    "# Vorhersage-Array bauen: Für jedes Element der Entwicklungsdaten Klasse '2' vorhersagen\n",
    "pred = np.full(len(target_dev),2)\n",
    "\n",
    "print(len(target_dev), len(pred))\n"
   ]
  },
  {
   "cell_type": "code",
   "execution_count": 9,
   "id": "aa92be7e-fc4e-48a6-9b39-fe9b2f5eed9c",
   "metadata": {},
   "outputs": [
    {
     "name": "stdout",
     "output_type": "stream",
     "text": [
      "F1-Score (weighted) für die Vorhersageklasse '2': 0.7166521212940437\n"
     ]
    }
   ],
   "source": [
    "#Berechnung Vorhersage immer 2\n",
    "f1_weighted = f1_score(target_dev, pred, average='weighted')\n",
    "\n",
    "# Ergebnis anzeigen\n",
    "print(\"F1-Score (weighted) für die Vorhersageklasse '2':\", f1_weighted)"
   ]
  },
  {
   "cell_type": "code",
   "execution_count": 10,
   "id": "0769d499-f9b8-40c7-9244-845949d284d3",
   "metadata": {},
   "outputs": [
    {
     "ename": "NameError",
     "evalue": "name 'mean_squared_error' is not defined",
     "output_type": "error",
     "traceback": [
      "\u001b[0;31m---------------------------------------------------------------------------\u001b[0m",
      "\u001b[0;31mNameError\u001b[0m                                 Traceback (most recent call last)",
      "Cell \u001b[0;32mIn[10], line 11\u001b[0m\n\u001b[1;32m      8\u001b[0m \u001b[38;5;66;03m# Modell evaluieren\u001b[39;00m\n\u001b[1;32m     10\u001b[0m test_predict \u001b[38;5;241m=\u001b[39m clf\u001b[38;5;241m.\u001b[39mpredict(features_test)\n\u001b[0;32m---> 11\u001b[0m \u001b[38;5;28mprint\u001b[39m(\u001b[38;5;124m\"\u001b[39m\u001b[38;5;124mRMSE der Modellvorhersagen: \u001b[39m\u001b[38;5;124m\"\u001b[39m, sqrt(\u001b[43mmean_squared_error\u001b[49m(target_test, test_predict)))\n\u001b[1;32m     13\u001b[0m \u001b[38;5;66;03m# Mittelwertsvorhersage: Vorhersage ist ein Array in Länge der Testdaten, der an jeder Position den\u001b[39;00m\n\u001b[1;32m     14\u001b[0m \u001b[38;5;66;03m# Mittelwert der Zieldaten aus dem Trainingsset enthält\u001b[39;00m\n\u001b[1;32m     16\u001b[0m test_predict_mean \u001b[38;5;241m=\u001b[39m np\u001b[38;5;241m.\u001b[39mfull(\u001b[38;5;28mlen\u001b[39m(target_test),target_train\u001b[38;5;241m.\u001b[39mmean())\n",
      "\u001b[0;31mNameError\u001b[0m: name 'mean_squared_error' is not defined"
     ]
    }
   ],
   "source": [
    "#Mittelwertbaseline \n",
    "#Daten aufteilen\n",
    "features_train, features_test1, target_train, target_test1 = train_test_split(features_scaled, target, test_size=0.2, random_state=42)\n",
    "# Modell trainieren\n",
    "clf = LinearRegression()\n",
    "clf.fit(features_train, target_train)\n",
    "\n",
    "# Modell evaluieren\n",
    "\n",
    "test_predict = clf.predict(features_test)\n",
    "print(\"RMSE der Modellvorhersagen: \", sqrt(mean_squared_error(target_test, test_predict)))\n",
    "\n",
    "# Mittelwertsvorhersage: Vorhersage ist ein Array in Länge der Testdaten, der an jeder Position den\n",
    "# Mittelwert der Zieldaten aus dem Trainingsset enthält\n",
    "\n",
    "test_predict_mean = np.full(len(target_test),target_train.mean())\n",
    "\n",
    "print(\"RMSE der Mittelwertsbaseline: \", sqrt(mean_squared_error(target_test, test_predict_mean)))"
   ]
  },
  {
   "cell_type": "code",
   "execution_count": null,
   "id": "5d4205cc-e2a8-4c69-82a1-8b71470cf4e4",
   "metadata": {},
   "outputs": [],
   "source": []
  }
 ],
 "metadata": {
  "kernelspec": {
   "display_name": "Python 3 (ipykernel)",
   "language": "python",
   "name": "python3"
  },
  "language_info": {
   "codemirror_mode": {
    "name": "ipython",
    "version": 3
   },
   "file_extension": ".py",
   "mimetype": "text/x-python",
   "name": "python",
   "nbconvert_exporter": "python",
   "pygments_lexer": "ipython3",
   "version": "3.12.0"
  }
 },
 "nbformat": 4,
 "nbformat_minor": 5
}
