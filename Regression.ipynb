{
 "cells": [
  {
   "cell_type": "code",
   "execution_count": 1,
   "id": "6a1c5c99-cf17-42a7-bb35-12c8e792e006",
   "metadata": {},
   "outputs": [],
   "source": [
    "import statsmodels.api as sm\n",
    "from statsmodels.formula.api import ols\n",
    "from statsmodels.stats.anova import anova_lm\n",
    "import pandas as pd"
   ]
  },
  {
   "cell_type": "code",
   "execution_count": 2,
   "id": "98890e62-c045-4267-8f04-20f8b34549f3",
   "metadata": {},
   "outputs": [],
   "source": [
    "accidents = pd.read_csv('data/MA3_finished.csv', index_col='ID')\n",
    "accidents = accidents.dropna()\n",
    "accidents = accidents.sample(n=70000, random_state=1)"
   ]
  },
  {
   "cell_type": "code",
   "execution_count": 3,
   "id": "84567d23-21be-4e81-b221-de1a1d7fdf94",
   "metadata": {},
   "outputs": [
    {
     "name": "stdout",
     "output_type": "stream",
     "text": [
      "         Unnamed: 0      Severity     Start_Lat     Start_Lng  Distance(mi)  \\\n",
      "count  7.000000e+04  70000.000000  70000.000000  70000.000000  70000.000000   \n",
      "mean   3.511065e+06      2.203957     36.194397    -94.511348      0.567594   \n",
      "std    2.042222e+06      0.482484      5.121751     17.269038      1.842401   \n",
      "min    2.400000e+01      1.000000     24.599692   -124.471670      0.000000   \n",
      "25%    1.740537e+06      2.000000     33.277239   -117.132985      0.000000   \n",
      "50%    3.504510e+06      2.000000     35.834835    -87.653003      0.035000   \n",
      "75%    5.291416e+06      2.000000     40.121849    -80.365944      0.483000   \n",
      "max    7.051429e+06      4.000000     48.986462    -69.220414    176.279999   \n",
      "\n",
      "       Temperature(F)   Humidity(%)  Pressure(in)  Visibility(mi)  \\\n",
      "count    70000.000000  70000.000000  70000.000000    70000.000000   \n",
      "mean        61.824187     64.411800     29.514970        9.102158   \n",
      "std         19.054524     22.805129      1.022298        2.571070   \n",
      "min        -27.000000      1.000000     19.860000        0.000000   \n",
      "25%         49.000000     48.000000     29.340000       10.000000   \n",
      "50%         64.000000     67.000000     29.840000       10.000000   \n",
      "75%         76.000000     84.000000     30.020000       10.000000   \n",
      "max        172.000000    100.000000     56.540000       80.000000   \n",
      "\n",
      "       Wind_Speed(mph)          Year         Month           Day  \\\n",
      "count     70000.000000  70000.000000  70000.000000  70000.000000   \n",
      "mean          7.710206   2020.020257      6.680114      2.597886   \n",
      "std           6.212866      1.862812      3.636950      1.807874   \n",
      "min           0.000000   2016.000000      1.000000      0.000000   \n",
      "25%           4.600000   2019.000000      3.000000      1.000000   \n",
      "50%           7.000000   2020.000000      7.000000      3.000000   \n",
      "75%          10.400000   2022.000000     10.000000      4.000000   \n",
      "max         822.800000   2023.000000     12.000000      6.000000   \n",
      "\n",
      "               Hour      Duration  \n",
      "count  70000.000000  7.000000e+04  \n",
      "mean      12.423086  2.694178e+04  \n",
      "std        5.444609  7.813946e+05  \n",
      "min        0.000000  3.300000e+02  \n",
      "25%        8.000000  2.010000e+03  \n",
      "50%       13.000000  4.501000e+03  \n",
      "75%       17.000000  7.512000e+03  \n",
      "max       23.000000  3.154536e+07  \n"
     ]
    }
   ],
   "source": [
    "print(accidents.describe())"
   ]
  },
  {
   "cell_type": "code",
   "execution_count": 4,
   "id": "1509743f-7189-493d-b68e-10cec949a79d",
   "metadata": {},
   "outputs": [
    {
     "name": "stdout",
     "output_type": "stream",
     "text": [
      "[86481]\n",
      "       Unnamed: 0  Severity           Start_Time             End_Time  \\\n",
      "ID                                                                      \n",
      "86481       86481         3  2016-06-13 20:30:47  2016-06-13 21:15:47   \n",
      "\n",
      "       Start_Lat   Start_Lng  Distance(mi)  \\\n",
      "ID                                           \n",
      "86481  34.266048 -118.450768           0.0   \n",
      "\n",
      "                                             Description               Street  \\\n",
      "ID                                                                              \n",
      "86481  Accident on I-5 Northbound near Exits 156A 156...  Ronald Reagan Fwy W   \n",
      "\n",
      "                City  ... Nautical_Twilight Astronomical_Twilight  Year Month  \\\n",
      "ID                    ...                                                       \n",
      "86481  Mission Hills  ...               Day                   Day  2016     6   \n",
      "\n",
      "      Day Hour  Duration  State Name  Region  Division  \n",
      "ID                                                      \n",
      "86481   0   20    2700.0  California    West   Pacific  \n",
      "\n",
      "[1 rows x 48 columns]\n"
     ]
    }
   ],
   "source": [
    "# Wind Speed 822 mph zu hoch\n",
    "print(accidents.index[accidents ['Wind_Speed(mph)'] >822].tolist())\n",
    "print(accidents.loc[[86481]])\n",
    "accidents.drop(labels=[86481],axis=0, inplace=True)"
   ]
  },
  {
   "cell_type": "code",
   "execution_count": 5,
   "id": "ae7d071c-7013-47cf-9c93-b2c49f6e418e",
   "metadata": {},
   "outputs": [
    {
     "name": "stdout",
     "output_type": "stream",
     "text": [
      "         Unnamed: 0      Severity     Start_Lat     Start_Lng  Distance(mi)  \\\n",
      "count  6.999900e+04  69999.000000  69999.000000  69999.000000  69999.000000   \n",
      "mean   3.511113e+06      2.203946     36.194425    -94.511006      0.567602   \n",
      "std    2.042196e+06      0.482478      5.121783     17.268924      1.842413   \n",
      "min    2.400000e+01      1.000000     24.599692   -124.471670      0.000000   \n",
      "25%    1.740631e+06      2.000000     33.277111   -117.132851      0.000000   \n",
      "50%    3.504535e+06      2.000000     35.834835    -87.652842      0.035000   \n",
      "75%    5.291466e+06      2.000000     40.121937    -80.365944      0.483000   \n",
      "max    7.051429e+06      4.000000     48.986462    -69.220414    176.279999   \n",
      "\n",
      "       Temperature(F)   Humidity(%)  Pressure(in)  Visibility(mi)  \\\n",
      "count    69999.000000  69999.000000  69999.000000    69999.000000   \n",
      "mean        61.824047     64.411963     29.514962        9.102145   \n",
      "std         19.054624     22.805251      1.022303        2.571086   \n",
      "min        -27.000000      1.000000     19.860000        0.000000   \n",
      "25%         49.000000     48.000000     29.340000       10.000000   \n",
      "50%         64.000000     67.000000     29.840000       10.000000   \n",
      "75%         76.000000     84.000000     30.020000       10.000000   \n",
      "max        172.000000    100.000000     56.540000       80.000000   \n",
      "\n",
      "       Wind_Speed(mph)          Year         Month           Day  \\\n",
      "count     69999.000000  69999.000000  69999.000000  69999.000000   \n",
      "mean          7.698561   2020.020315      6.680124      2.597923   \n",
      "std           5.395260      1.862763      3.636975      1.807860   \n",
      "min           0.000000   2016.000000      1.000000      0.000000   \n",
      "25%           4.600000   2019.000000      3.000000      1.000000   \n",
      "50%           7.000000   2020.000000      7.000000      3.000000   \n",
      "75%          10.400000   2022.000000     10.000000      4.000000   \n",
      "max         243.000000   2023.000000     12.000000      6.000000   \n",
      "\n",
      "               Hour      Duration  \n",
      "count  69999.000000  6.999900e+04  \n",
      "mean      12.422977  2.694213e+04  \n",
      "std        5.444572  7.814001e+05  \n",
      "min        0.000000  3.300000e+02  \n",
      "25%        8.000000  2.010000e+03  \n",
      "50%       13.000000  4.501000e+03  \n",
      "75%       17.000000  7.512000e+03  \n",
      "max       23.000000  3.154536e+07  \n"
     ]
    }
   ],
   "source": [
    "print(accidents.describe())"
   ]
  },
  {
   "cell_type": "code",
   "execution_count": 6,
   "id": "6d2383d2-b127-40cd-916f-5ad11b223091",
   "metadata": {},
   "outputs": [
    {
     "name": "stdout",
     "output_type": "stream",
     "text": [
      "[776748]\n",
      "        Unnamed: 0  Severity           Start_Time             End_Time  \\\n",
      "ID                                                                       \n",
      "776748      776748         2  2021-09-16 13:55:26  2021-09-16 14:40:10   \n",
      "\n",
      "        Start_Lat  Start_Lng  Distance(mi)  \\\n",
      "ID                                           \n",
      "776748  37.492962 -122.21312           0.0   \n",
      "\n",
      "                                     Description         Street          City  \\\n",
      "ID                                                                              \n",
      "776748  Accident on Bayshore Rd at Seaport Blvd.  E Bayshore Rd  Redwood City   \n",
      "\n",
      "        ... Nautical_Twilight Astronomical_Twilight  Year Month Day Hour  \\\n",
      "ID      ...                                                                \n",
      "776748  ...               Day                   Day  2021     9   3   13   \n",
      "\n",
      "        Duration  State Name  Region  Division  \n",
      "ID                                              \n",
      "776748    2684.0  California    West   Pacific  \n",
      "\n",
      "[1 rows x 48 columns]\n"
     ]
    }
   ],
   "source": [
    "# Wind Speed 243 mph zu hoch\n",
    "print(accidents.index[accidents ['Wind_Speed(mph)'] >242].tolist())\n",
    "print (accidents.loc[[776748]])\n",
    "accidents.drop(labels=[776748],axis=0, inplace=True)"
   ]
  },
  {
   "cell_type": "code",
   "execution_count": 7,
   "id": "cda875dc-543c-48f7-b92e-cced74e78bae",
   "metadata": {},
   "outputs": [
    {
     "name": "stdout",
     "output_type": "stream",
     "text": [
      "         Unnamed: 0      Severity     Start_Lat     Start_Lng  Distance(mi)  \\\n",
      "count  6.999800e+04  69998.000000  69998.000000  69998.000000  69998.000000   \n",
      "mean   3.511153e+06      2.203949     36.194406    -94.510610      0.567610   \n",
      "std    2.042184e+06      0.482481      5.121817     17.268730      1.842425   \n",
      "min    2.400000e+01      1.000000     24.599692   -124.471670      0.000000   \n",
      "25%    1.740696e+06      2.000000     33.276983   -117.132737      0.000000   \n",
      "50%    3.504564e+06      2.000000     35.834835    -87.652520      0.035000   \n",
      "75%    5.291517e+06      2.000000     40.122024    -80.365944      0.483000   \n",
      "max    7.051429e+06      4.000000     48.986462    -69.220414    176.279999   \n",
      "\n",
      "       Temperature(F)   Humidity(%)  Pressure(in)  Visibility(mi)  \\\n",
      "count    69998.000000  69998.000000  69998.000000    69998.000000   \n",
      "mean        61.823988     64.411840     29.514957        9.102132   \n",
      "std         19.054754     22.805391      1.022310        2.571102   \n",
      "min        -27.000000      1.000000     19.860000        0.000000   \n",
      "25%         49.000000     48.000000     29.340000       10.000000   \n",
      "50%         64.000000     67.000000     29.840000       10.000000   \n",
      "75%         76.000000     84.000000     30.020000       10.000000   \n",
      "max        172.000000    100.000000     56.540000       80.000000   \n",
      "\n",
      "       Wind_Speed(mph)          Year         Month           Day  \\\n",
      "count      69998.00000  69998.000000  69998.000000  69998.000000   \n",
      "mean           7.69520   2020.020301      6.680091      2.597917   \n",
      "std            5.32149      1.862773      3.636990      1.807872   \n",
      "min            0.00000   2016.000000      1.000000      0.000000   \n",
      "25%            4.60000   2019.000000      3.000000      1.000000   \n",
      "50%            7.00000   2020.000000      7.000000      3.000000   \n",
      "75%           10.40000   2022.000000     10.000000      4.000000   \n",
      "max          157.00000   2023.000000     12.000000      6.000000   \n",
      "\n",
      "               Hour      Duration  \n",
      "count  69998.000000  6.999800e+04  \n",
      "mean      12.422969  2.694247e+04  \n",
      "std        5.444611  7.814057e+05  \n",
      "min        0.000000  3.300000e+02  \n",
      "25%        8.000000  2.010000e+03  \n",
      "50%       13.000000  4.501000e+03  \n",
      "75%       17.000000  7.512000e+03  \n",
      "max       23.000000  3.154536e+07  \n"
     ]
    }
   ],
   "source": [
    "print(accidents.describe())"
   ]
  },
  {
   "cell_type": "code",
   "execution_count": null,
   "id": "79a806eb-0fe1-4e81-a579-5bce59dfbca2",
   "metadata": {},
   "outputs": [],
   "source": []
  }
 ],
 "metadata": {
  "kernelspec": {
   "display_name": "Python 3 (ipykernel)",
   "language": "python",
   "name": "python3"
  },
  "language_info": {
   "codemirror_mode": {
    "name": "ipython",
    "version": 3
   },
   "file_extension": ".py",
   "mimetype": "text/x-python",
   "name": "python",
   "nbconvert_exporter": "python",
   "pygments_lexer": "ipython3",
   "version": "3.12.0"
  }
 },
 "nbformat": 4,
 "nbformat_minor": 5
}
