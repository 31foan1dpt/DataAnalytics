{
 "cells": [
  {
   "cell_type": "code",
   "execution_count": 1,
   "id": "4a7740c1-5897-4a43-8f7f-1fcbf170fa1a",
   "metadata": {},
   "outputs": [],
   "source": [
    "from sklearn import svm, metrics\n",
    "from sklearn.pipeline import Pipeline\n",
    "from sklearn.feature_selection import VarianceThreshold\n",
    "from sklearn.model_selection import train_test_split\n",
    "from sklearn.preprocessing import LabelEncoder, StandardScaler\n",
    "import pandas as pd"
   ]
  },
  {
   "cell_type": "code",
   "execution_count": 2,
   "id": "a631738d-51cc-418b-a30c-3735cba8e7ee",
   "metadata": {},
   "outputs": [],
   "source": [
    "accidents = pd.read_csv('data/MA3_finished.csv', index_col='ID')\n",
    "accidents = accidents.dropna()\n",
    "accidents = accidents.sample(n=35000, random_state=1)"
   ]
  },
  {
   "cell_type": "code",
   "execution_count": 3,
   "id": "9aa4ea5e-3fab-4eb3-be8a-a705cc6e2a24",
   "metadata": {},
   "outputs": [
    {
     "name": "stdout",
     "output_type": "stream",
     "text": [
      "         Unnamed: 0      Severity     Start_Lat     Start_Lng  Distance(mi)  \\\n",
      "count  3.500000e+04  35000.000000  35000.000000  35000.000000  35000.000000   \n",
      "mean   3.531642e+06      2.202286     36.202748    -94.545803      0.568868   \n",
      "std    2.042209e+06      0.481487      5.118009     17.298071      1.793030   \n",
      "min    2.250000e+02      1.000000     24.599692   -124.471670      0.000000   \n",
      "25%    1.767246e+06      2.000000     33.326624   -117.150100      0.000000   \n",
      "50%    3.525615e+06      2.000000     35.838262    -87.706076      0.037000   \n",
      "75%    5.318387e+06      2.000000     40.127564    -80.355472      0.486000   \n",
      "max    7.051279e+06      4.000000     48.986462    -69.220414    112.968000   \n",
      "\n",
      "       Temperature(F)   Humidity(%)  Pressure(in)  Visibility(mi)  \\\n",
      "count    35000.000000  35000.000000  35000.000000    35000.000000   \n",
      "mean        61.848040     64.316743     29.511783        9.121617   \n",
      "std         19.002648     22.779095      1.021440        2.618279   \n",
      "min        -27.000000      3.000000     20.210000        0.000000   \n",
      "25%         49.000000     48.000000     29.330000       10.000000   \n",
      "50%         64.000000     67.000000     29.840000       10.000000   \n",
      "75%         76.000000     83.000000     30.020000       10.000000   \n",
      "max        113.000000    100.000000     30.890000       80.000000   \n",
      "\n",
      "       Wind_Speed(mph)          Year         Month           Day  \\\n",
      "count     35000.000000  35000.000000  35000.000000  35000.000000   \n",
      "mean          7.674246   2020.016971      6.673914      2.588514   \n",
      "std           5.438877      1.861423      3.638526      1.805080   \n",
      "min           0.000000   2016.000000      1.000000      0.000000   \n",
      "25%           4.600000   2019.000000      3.000000      1.000000   \n",
      "50%           7.000000   2020.000000      7.000000      3.000000   \n",
      "75%          10.400000   2022.000000     10.000000      4.000000   \n",
      "max         243.000000   2023.000000     12.000000      6.000000   \n",
      "\n",
      "               Hour      Duration  \n",
      "count  35000.000000  3.500000e+04  \n",
      "mean      12.423257  2.885953e+04  \n",
      "std        5.452789  8.197678e+05  \n",
      "min        0.000000  3.480000e+02  \n",
      "25%        8.000000  2.004750e+03  \n",
      "50%       13.000000  4.501000e+03  \n",
      "75%       17.000000  7.542000e+03  \n",
      "max       23.000000  3.154230e+07  \n"
     ]
    }
   ],
   "source": [
    "print(accidents.describe())\n",
    "\n",
    "#count = Anzahl der Daten\n",
    "#mean = Mittelwert\n",
    "#std = Standardabweichung\n",
    "#Min & Max\n",
    "#Quartile (25%, 50%, 75%):"
   ]
  },
  {
   "cell_type": "code",
   "execution_count": 4,
   "id": "f799a18b-9e3b-477e-a888-3d42e00dad4d",
   "metadata": {},
   "outputs": [],
   "source": [
    "#featureselection\n",
    "X = accidents[['Temperature(F)', 'Humidity(%)', 'Pressure(in)', 'Visibility(mi)', 'Wind_Speed(mph)',\n",
    "               'Weather_Condition', 'Amenity', 'Bump', 'Crossing', 'Give_Way', 'Junction', 'No_Exit',\n",
    "               'Railway', 'Roundabout', 'Station', 'Stop', 'Traffic_Calming', 'Traffic_Signal', 'Turning_Loop']]\n",
    "\n",
    "y = accidents['Severity']\n",
    "\n",
    "#Encoding text/categorical variables\n",
    "le = LabelEncoder()\n",
    "X.loc[:,'Weather_Condition']= le.fit_transform(X['Weather_Condition'])"
   ]
  },
  {
   "cell_type": "code",
   "execution_count": 5,
   "id": "e68760c1-3b57-4d32-bafa-87fcdea0d08f",
   "metadata": {},
   "outputs": [
    {
     "name": "stdout",
     "output_type": "stream",
     "text": [
      "X_train Shape: (17500, 19)\n",
      "y_train Shape: (17500,)\n"
     ]
    }
   ],
   "source": [
    "# Feature-Selection und SVC-Classifier\n",
    "dim_reduction = VarianceThreshold(0.1)\n",
    "classifier = svm.SVC()\n",
    "\n",
    "# Trainings- und Testdaten aufteilen\n",
    "X_train, X_test1, y_train, y_test1 = train_test_split(X, y, test_size=0.5, random_state=42)\n",
    "X_dev, X_test, y_dev, y_test = train_test_split(X_test1, y_test1, test_size=0.5, random_state=42)\n",
    "\n",
    "print(\"X_train Shape:\", X_train.shape)\n",
    "print(\"y_train Shape:\", y_train.shape)"
   ]
  },
  {
   "cell_type": "code",
   "execution_count": 9,
   "id": "213369a9-0150-437a-9d29-1f8ca47d45ef",
   "metadata": {},
   "outputs": [
    {
     "name": "stdout",
     "output_type": "stream",
     "text": [
      "Varianzen der Features nach VarianceThreshold:\n",
      "[3.61291495e+02 5.16489817e+02 1.04559647e+00 6.67043743e+00\n",
      " 3.12820863e+01 2.88165346e+02 1.10186939e-02 6.28176327e-04\n",
      " 1.02368405e-01 4.55053061e-03 6.82804898e-02 2.16671347e-03\n",
      " 8.27325388e-03 0.00000000e+00 2.63520784e-02 2.72699396e-02\n",
      " 1.02751347e-03 1.25854511e-01 0.00000000e+00]\n",
      "-----------------------------------------------------------------------\n",
      "Classification Report für die Pipeline (VarianceThreshold + SVC):\n",
      "              precision    recall  f1-score   support\n",
      "\n",
      "           1       0.00      0.00      0.00        89\n",
      "           2       0.80      1.00      0.89      6960\n",
      "           3       0.00      0.00      0.00      1454\n",
      "           4       0.00      0.00      0.00       247\n",
      "\n",
      "    accuracy                           0.80      8750\n",
      "   macro avg       0.20      0.25      0.22      8750\n",
      "weighted avg       0.63      0.80      0.70      8750\n",
      "\n"
     ]
    },
    {
     "name": "stderr",
     "output_type": "stream",
     "text": [
      "/Library/Frameworks/Python.framework/Versions/3.12/lib/python3.12/site-packages/sklearn/metrics/_classification.py:1471: UndefinedMetricWarning: Precision and F-score are ill-defined and being set to 0.0 in labels with no predicted samples. Use `zero_division` parameter to control this behavior.\n",
      "  _warn_prf(average, modifier, msg_start, len(result))\n",
      "/Library/Frameworks/Python.framework/Versions/3.12/lib/python3.12/site-packages/sklearn/metrics/_classification.py:1471: UndefinedMetricWarning: Precision and F-score are ill-defined and being set to 0.0 in labels with no predicted samples. Use `zero_division` parameter to control this behavior.\n",
      "  _warn_prf(average, modifier, msg_start, len(result))\n",
      "/Library/Frameworks/Python.framework/Versions/3.12/lib/python3.12/site-packages/sklearn/metrics/_classification.py:1471: UndefinedMetricWarning: Precision and F-score are ill-defined and being set to 0.0 in labels with no predicted samples. Use `zero_division` parameter to control this behavior.\n",
      "  _warn_prf(average, modifier, msg_start, len(result))\n"
     ]
    }
   ],
   "source": [
    "# Pipeline erstellen\n",
    "pipeline = Pipeline([\n",
    "    ('dim_reduction', dim_reduction),\n",
    "    ('classifier', classifier)\n",
    "])\n",
    "\n",
    "# Trainieren der Pipeline\n",
    "pipeline.fit(X_train, y_train)\n",
    "\n",
    "# Vorhersagen machen\n",
    "predicted_dev = pipeline.predict(X_dev)\n",
    "\n",
    "# Varianz der einzelnen Features ausgeben\n",
    "print(\"Varianzen der Features nach VarianceThreshold:\")\n",
    "print(dim_reduction.variances_)\n",
    "print(\"-----------------------------------------------------------------------\")\n",
    "# Bericht für die Pipeline ausgeben\n",
    "print(\"Classification Report für die Pipeline (VarianceThreshold + SVC):\")\n",
    "print(metrics.classification_report(y_dev, predicted_dev))\n"
   ]
  },
  {
   "cell_type": "code",
   "execution_count": null,
   "id": "b3f360d4-fcb6-4128-ab57-5675de9aff27",
   "metadata": {},
   "outputs": [],
   "source": []
  }
 ],
 "metadata": {
  "kernelspec": {
   "display_name": "Python 3 (ipykernel)",
   "language": "python",
   "name": "python3"
  },
  "language_info": {
   "codemirror_mode": {
    "name": "ipython",
    "version": 3
   },
   "file_extension": ".py",
   "mimetype": "text/x-python",
   "name": "python",
   "nbconvert_exporter": "python",
   "pygments_lexer": "ipython3",
   "version": "3.12.0"
  }
 },
 "nbformat": 4,
 "nbformat_minor": 5
}
