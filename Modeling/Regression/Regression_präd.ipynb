{
 "cells": [
  {
   "cell_type": "code",
   "execution_count": 1,
   "id": "d457e21f-2926-4fd1-a86c-a16815a6fc3f",
   "metadata": {},
   "outputs": [],
   "source": [
    "# Imports\n",
    "import matplotlib.pyplot as plt\n",
    "from sklearn.model_selection import train_test_split\n",
    "from sklearn.linear_model import LinearRegression\n",
    "from sklearn.metrics import mean_squared_error as RMSE\n",
    "from sklearn.preprocessing import LabelEncoder, PolynomialFeatures, StandardScaler\n",
    "import seaborn as sns\n",
    "\n",
    "import pandas as pd"
   ]
  },
  {
   "cell_type": "code",
   "execution_count": 2,
   "id": "f19d647b-ec36-4d8a-8d04-f266ed36523a",
   "metadata": {},
   "outputs": [],
   "source": [
    "accidents = pd.read_csv('../../data/MA3_finished.csv', index_col='ID')"
   ]
  },
  {
   "cell_type": "code",
   "execution_count": 3,
   "id": "51c6073f-4e3f-4987-b8c4-b79644ca6e16",
   "metadata": {},
   "outputs": [
    {
     "data": {
      "text/html": [
       "<div>\n",
       "<style scoped>\n",
       "    .dataframe tbody tr th:only-of-type {\n",
       "        vertical-align: middle;\n",
       "    }\n",
       "\n",
       "    .dataframe tbody tr th {\n",
       "        vertical-align: top;\n",
       "    }\n",
       "\n",
       "    .dataframe thead th {\n",
       "        text-align: right;\n",
       "    }\n",
       "</style>\n",
       "<table border=\"1\" class=\"dataframe\">\n",
       "  <thead>\n",
       "    <tr style=\"text-align: right;\">\n",
       "      <th></th>\n",
       "      <th>Unnamed: 0</th>\n",
       "      <th>Severity</th>\n",
       "      <th>Start_Lat</th>\n",
       "      <th>Start_Lng</th>\n",
       "      <th>Distance(mi)</th>\n",
       "      <th>Temperature(F)</th>\n",
       "      <th>Humidity(%)</th>\n",
       "      <th>Pressure(in)</th>\n",
       "      <th>Visibility(mi)</th>\n",
       "      <th>Wind_Speed(mph)</th>\n",
       "      <th>Year</th>\n",
       "      <th>Month</th>\n",
       "      <th>Day</th>\n",
       "      <th>Hour</th>\n",
       "      <th>Duration</th>\n",
       "    </tr>\n",
       "  </thead>\n",
       "  <tbody>\n",
       "    <tr>\n",
       "      <th>count</th>\n",
       "      <td>7.051556e+06</td>\n",
       "      <td>7.051556e+06</td>\n",
       "      <td>7.051556e+06</td>\n",
       "      <td>7.051556e+06</td>\n",
       "      <td>7.051556e+06</td>\n",
       "      <td>7.051556e+06</td>\n",
       "      <td>7.051556e+06</td>\n",
       "      <td>7.051556e+06</td>\n",
       "      <td>7.051556e+06</td>\n",
       "      <td>7.051556e+06</td>\n",
       "      <td>7.051556e+06</td>\n",
       "      <td>7.051556e+06</td>\n",
       "      <td>7.051556e+06</td>\n",
       "      <td>7.051556e+06</td>\n",
       "      <td>7.051556e+06</td>\n",
       "    </tr>\n",
       "    <tr>\n",
       "      <th>mean</th>\n",
       "      <td>3.525778e+06</td>\n",
       "      <td>2.202578e+00</td>\n",
       "      <td>3.618415e+01</td>\n",
       "      <td>-9.457055e+01</td>\n",
       "      <td>5.685456e-01</td>\n",
       "      <td>6.186961e+01</td>\n",
       "      <td>6.441538e+01</td>\n",
       "      <td>2.951444e+01</td>\n",
       "      <td>9.107071e+00</td>\n",
       "      <td>7.691129e+00</td>\n",
       "      <td>2.020027e+03</td>\n",
       "      <td>6.685881e+00</td>\n",
       "      <td>2.599904e+00</td>\n",
       "      <td>1.242746e+01</td>\n",
       "      <td>2.694761e+04</td>\n",
       "    </tr>\n",
       "    <tr>\n",
       "      <th>std</th>\n",
       "      <td>2.035609e+06</td>\n",
       "      <td>4.802376e-01</td>\n",
       "      <td>5.122709e+00</td>\n",
       "      <td>1.730333e+01</td>\n",
       "      <td>1.764164e+00</td>\n",
       "      <td>1.904205e+01</td>\n",
       "      <td>2.275718e+01</td>\n",
       "      <td>1.014852e+00</td>\n",
       "      <td>2.642265e+00</td>\n",
       "      <td>5.412225e+00</td>\n",
       "      <td>1.864212e+00</td>\n",
       "      <td>3.639135e+00</td>\n",
       "      <td>1.805649e+00</td>\n",
       "      <td>5.428667e+00</td>\n",
       "      <td>8.166324e+05</td>\n",
       "    </tr>\n",
       "    <tr>\n",
       "      <th>min</th>\n",
       "      <td>0.000000e+00</td>\n",
       "      <td>1.000000e+00</td>\n",
       "      <td>2.455480e+01</td>\n",
       "      <td>-1.246238e+02</td>\n",
       "      <td>0.000000e+00</td>\n",
       "      <td>-4.500000e+01</td>\n",
       "      <td>1.000000e+00</td>\n",
       "      <td>0.000000e+00</td>\n",
       "      <td>0.000000e+00</td>\n",
       "      <td>0.000000e+00</td>\n",
       "      <td>2.016000e+03</td>\n",
       "      <td>1.000000e+00</td>\n",
       "      <td>0.000000e+00</td>\n",
       "      <td>0.000000e+00</td>\n",
       "      <td>1.200000e+02</td>\n",
       "    </tr>\n",
       "    <tr>\n",
       "      <th>25%</th>\n",
       "      <td>1.762889e+06</td>\n",
       "      <td>2.000000e+00</td>\n",
       "      <td>3.329151e+01</td>\n",
       "      <td>-1.171585e+02</td>\n",
       "      <td>0.000000e+00</td>\n",
       "      <td>4.900000e+01</td>\n",
       "      <td>4.800000e+01</td>\n",
       "      <td>2.934000e+01</td>\n",
       "      <td>1.000000e+01</td>\n",
       "      <td>4.600000e+00</td>\n",
       "      <td>2.019000e+03</td>\n",
       "      <td>3.000000e+00</td>\n",
       "      <td>1.000000e+00</td>\n",
       "      <td>8.000000e+00</td>\n",
       "      <td>2.068000e+03</td>\n",
       "    </tr>\n",
       "    <tr>\n",
       "      <th>50%</th>\n",
       "      <td>3.525778e+06</td>\n",
       "      <td>2.000000e+00</td>\n",
       "      <td>3.581709e+01</td>\n",
       "      <td>-8.767776e+01</td>\n",
       "      <td>3.700000e-02</td>\n",
       "      <td>6.400000e+01</td>\n",
       "      <td>6.700000e+01</td>\n",
       "      <td>2.984000e+01</td>\n",
       "      <td>1.000000e+01</td>\n",
       "      <td>7.000000e+00</td>\n",
       "      <td>2.020000e+03</td>\n",
       "      <td>7.000000e+00</td>\n",
       "      <td>3.000000e+00</td>\n",
       "      <td>1.300000e+01</td>\n",
       "      <td>4.502000e+03</td>\n",
       "    </tr>\n",
       "    <tr>\n",
       "      <th>75%</th>\n",
       "      <td>5.288666e+06</td>\n",
       "      <td>2.000000e+00</td>\n",
       "      <td>4.011675e+01</td>\n",
       "      <td>-8.036947e+01</td>\n",
       "      <td>4.780000e-01</td>\n",
       "      <td>7.600000e+01</td>\n",
       "      <td>8.400000e+01</td>\n",
       "      <td>3.002000e+01</td>\n",
       "      <td>1.000000e+01</td>\n",
       "      <td>1.040000e+01</td>\n",
       "      <td>2.022000e+03</td>\n",
       "      <td>1.000000e+01</td>\n",
       "      <td>4.000000e+00</td>\n",
       "      <td>1.700000e+01</td>\n",
       "      <td>7.539000e+03</td>\n",
       "    </tr>\n",
       "    <tr>\n",
       "      <th>max</th>\n",
       "      <td>7.051555e+06</td>\n",
       "      <td>4.000000e+00</td>\n",
       "      <td>4.900220e+01</td>\n",
       "      <td>-6.711317e+01</td>\n",
       "      <td>4.417500e+02</td>\n",
       "      <td>1.960000e+02</td>\n",
       "      <td>1.000000e+02</td>\n",
       "      <td>5.863000e+01</td>\n",
       "      <td>1.400000e+02</td>\n",
       "      <td>1.087000e+03</td>\n",
       "      <td>2.023000e+03</td>\n",
       "      <td>1.200000e+01</td>\n",
       "      <td>6.000000e+00</td>\n",
       "      <td>2.300000e+01</td>\n",
       "      <td>1.687763e+08</td>\n",
       "    </tr>\n",
       "  </tbody>\n",
       "</table>\n",
       "</div>"
      ],
      "text/plain": [
       "         Unnamed: 0      Severity     Start_Lat     Start_Lng  Distance(mi)  \\\n",
       "count  7.051556e+06  7.051556e+06  7.051556e+06  7.051556e+06  7.051556e+06   \n",
       "mean   3.525778e+06  2.202578e+00  3.618415e+01 -9.457055e+01  5.685456e-01   \n",
       "std    2.035609e+06  4.802376e-01  5.122709e+00  1.730333e+01  1.764164e+00   \n",
       "min    0.000000e+00  1.000000e+00  2.455480e+01 -1.246238e+02  0.000000e+00   \n",
       "25%    1.762889e+06  2.000000e+00  3.329151e+01 -1.171585e+02  0.000000e+00   \n",
       "50%    3.525778e+06  2.000000e+00  3.581709e+01 -8.767776e+01  3.700000e-02   \n",
       "75%    5.288666e+06  2.000000e+00  4.011675e+01 -8.036947e+01  4.780000e-01   \n",
       "max    7.051555e+06  4.000000e+00  4.900220e+01 -6.711317e+01  4.417500e+02   \n",
       "\n",
       "       Temperature(F)   Humidity(%)  Pressure(in)  Visibility(mi)  \\\n",
       "count    7.051556e+06  7.051556e+06  7.051556e+06    7.051556e+06   \n",
       "mean     6.186961e+01  6.441538e+01  2.951444e+01    9.107071e+00   \n",
       "std      1.904205e+01  2.275718e+01  1.014852e+00    2.642265e+00   \n",
       "min     -4.500000e+01  1.000000e+00  0.000000e+00    0.000000e+00   \n",
       "25%      4.900000e+01  4.800000e+01  2.934000e+01    1.000000e+01   \n",
       "50%      6.400000e+01  6.700000e+01  2.984000e+01    1.000000e+01   \n",
       "75%      7.600000e+01  8.400000e+01  3.002000e+01    1.000000e+01   \n",
       "max      1.960000e+02  1.000000e+02  5.863000e+01    1.400000e+02   \n",
       "\n",
       "       Wind_Speed(mph)          Year         Month           Day  \\\n",
       "count     7.051556e+06  7.051556e+06  7.051556e+06  7.051556e+06   \n",
       "mean      7.691129e+00  2.020027e+03  6.685881e+00  2.599904e+00   \n",
       "std       5.412225e+00  1.864212e+00  3.639135e+00  1.805649e+00   \n",
       "min       0.000000e+00  2.016000e+03  1.000000e+00  0.000000e+00   \n",
       "25%       4.600000e+00  2.019000e+03  3.000000e+00  1.000000e+00   \n",
       "50%       7.000000e+00  2.020000e+03  7.000000e+00  3.000000e+00   \n",
       "75%       1.040000e+01  2.022000e+03  1.000000e+01  4.000000e+00   \n",
       "max       1.087000e+03  2.023000e+03  1.200000e+01  6.000000e+00   \n",
       "\n",
       "               Hour      Duration  \n",
       "count  7.051556e+06  7.051556e+06  \n",
       "mean   1.242746e+01  2.694761e+04  \n",
       "std    5.428667e+00  8.166324e+05  \n",
       "min    0.000000e+00  1.200000e+02  \n",
       "25%    8.000000e+00  2.068000e+03  \n",
       "50%    1.300000e+01  4.502000e+03  \n",
       "75%    1.700000e+01  7.539000e+03  \n",
       "max    2.300000e+01  1.687763e+08  "
      ]
     },
     "execution_count": 3,
     "metadata": {},
     "output_type": "execute_result"
    }
   ],
   "source": [
    "accidents.describe()"
   ]
  },
  {
   "cell_type": "code",
   "execution_count": 4,
   "id": "cbc0b827-7efc-4340-8345-eb594f11352c",
   "metadata": {},
   "outputs": [
    {
     "data": {
      "image/png": "[encoded data removed]",
      "text/plain": [
       "<Figure size 400x300 with 1 Axes>"
      ]
     },
     "metadata": {},
     "output_type": "display_data"
    }
   ],
   "source": [
    "plt.figure(figsize=(4, 3))\n",
    "plt.hist(accidents['Severity'])\n",
    "plt.xlabel('Severity')\n",
    "plt.ylabel('Amount')\n",
    "plt.xticks(range(int(accidents['Severity'].min()), int(accidents['Severity'].max()) + 1))\n",
    "plt.tight_layout()"
   ]
  },
  {
   "cell_type": "code",
   "execution_count": 5,
   "id": "74e2a6a5-6bdc-436c-9b8e-1af2d7e2cc69",
   "metadata": {},
   "outputs": [
    {
     "data": {
      "text/plain": [
       "Index(['Division', 'Region', 'State Name', 'Astronomical_Twilight',\n",
       "       'Nautical_Twilight', 'Civil_Twilight', 'Sunrise_Sunset',\n",
       "       'Weather_Condition', 'Airport_Code', 'Timezone', 'Country', 'Zipcode',\n",
       "       'State', 'County', 'City', 'Street', 'Description', 'Start_Time',\n",
       "       'End_Time', 'Amenity', 'Bump', 'Crossing', 'Give_Way', 'Junction',\n",
       "       'No_Exit', 'Railway', 'Roundabout', 'Station', 'Stop',\n",
       "       'Traffic_Calming', 'Traffic_Signal', 'Turning_Loop', 'Severity',\n",
       "       'Start_Lng', 'Start_Lat', 'Temperature(F)', 'Humidity(%)',\n",
       "       'Pressure(in)', 'Visibility(mi)', 'Wind_Speed(mph)'],\n",
       "      dtype='object')"
      ]
     },
     "execution_count": 5,
     "metadata": {},
     "output_type": "execute_result"
    }
   ],
   "source": [
    "#featureselection\n",
    "#features to encode\n",
    "obj_bool_features = accidents[['Division','Region','State Name','Astronomical_Twilight','Nautical_Twilight','Civil_Twilight',\n",
    "                               'Sunrise_Sunset','Weather_Condition','Sunrise_Sunset','Airport_Code','Timezone','Country','Zipcode',\n",
    "                               'State','County', 'City' ,'Street','Description','Start_Time', 'End_Time', 'Weather_Condition', \n",
    "                               'Amenity', 'Bump', 'Crossing', 'Give_Way', 'Junction', 'No_Exit', 'Railway', 'Roundabout', 'Station', \n",
    "                               'Stop', 'Traffic_Calming', 'Traffic_Signal', 'Turning_Loop', 'Sunrise_Sunset']]\n",
    "\n",
    "#encode features above\n",
    "le = LabelEncoder()\n",
    "#create copy of df\n",
    "accidents_encoded = pd.DataFrame()\n",
    "#LabelEncoder can only encode one column at a time --> forloop\n",
    "#obj_bool_feat = le.fit_transform(obj_bool_features)\n",
    "for features in obj_bool_features:\n",
    "    accidents_encoded[features] = le.fit_transform(accidents[features])\n",
    "\n",
    "#float/int features\n",
    "float_int_features = accidents[['Severity','Start_Lng', 'Start_Lat', 'Temperature(F)', 'Humidity(%)', \n",
    "                                'Pressure(in)', 'Visibility(mi)', 'Wind_Speed(mph)',]]\n",
    "\n",
    "for features in float_int_features:\n",
    "    accidents_encoded[features] = accidents[features]\n",
    "\n",
    "#check if combination worked \n",
    "accidents_encoded.columns"
   ]
  },
  {
   "cell_type": "code",
   "execution_count": 6,
   "id": "337aa0d7-fe8f-4539-9c54-4f2b6ff0839e",
   "metadata": {},
   "outputs": [],
   "source": [
    "#features = accidents[['Weather_Condition', 'Amenity', 'Bump', 'Crossing', 'Give_Way', 'Junction', 'No_Exit',\n",
    "#                         'Railway', 'Roundabout', 'Station', 'Stop', 'Traffic_Calming', 'Traffic_Signal', 'Turning_Loop']]\n",
    "\n",
    "features = accidents_encoded.drop(columns=['Severity'])\n",
    "#target         \n",
    "target = accidents_encoded['Severity']\n",
    "\n",
    "#scale features\n",
    "scaler = StandardScaler()\n",
    "features_scaled = scaler.fit_transform(features)"
   ]
  },
  {
   "cell_type": "code",
   "execution_count": 7,
   "id": "9c09267c-e126-4e0f-aeb3-884a3408661b",
   "metadata": {},
   "outputs": [
    {
     "name": "stdout",
     "output_type": "stream",
     "text": [
      "3966500 1322167 1762889\n"
     ]
    }
   ],
   "source": [
    "#(80/20 split)\n",
    "features_train, features_test, target_train, target_test = train_test_split(features_scaled, target)\n",
    "#weiteraufteiler\n",
    "features_train, features_dev, target_train, target_dev = train_test_split(features_train, target_train)\n",
    "\n",
    "print(len(features_train), len(features_dev), len(features_test))"
   ]
  },
  {
   "cell_type": "code",
   "execution_count": 8,
   "id": "1774b88f-866f-4724-838b-4a62b083425c",
   "metadata": {},
   "outputs": [
    {
     "data": {
      "text/html": [
       "<style>#sk-container-id-1 {color: black;}#sk-container-id-1 pre{padding: 0;}#sk-container-id-1 div.sk-toggleable {background-color: white;}#sk-container-id-1 label.sk-toggleable__label {cursor: pointer;display: block;width: 100%;margin-bottom: 0;padding: 0.3em;box-sizing: border-box;text-align: center;}#sk-container-id-1 label.sk-toggleable__label-arrow:before {content: \"▸\";float: left;margin-right: 0.25em;color: #696969;}#sk-container-id-1 label.sk-toggleable__label-arrow:hover:before {color: black;}#sk-container-id-1 div.sk-estimator:hover label.sk-toggleable__label-arrow:before {color: black;}#sk-container-id-1 div.sk-toggleable__content {max-height: 0;max-width: 0;overflow: hidden;text-align: left;background-color: #f0f8ff;}#sk-container-id-1 div.sk-toggleable__content pre {margin: 0.2em;color: black;border-radius: 0.25em;background-color: #f0f8ff;}#sk-container-id-1 input.sk-toggleable__control:checked~div.sk-toggleable__content {max-height: 200px;max-width: 100%;overflow: auto;}#sk-container-id-1 input.sk-toggleable__control:checked~label.sk-toggleable__label-arrow:before {content: \"▾\";}#sk-container-id-1 div.sk-estimator input.sk-toggleable__control:checked~label.sk-toggleable__label {background-color: #d4ebff;}#sk-container-id-1 div.sk-label input.sk-toggleable__control:checked~label.sk-toggleable__label {background-color: #d4ebff;}#sk-container-id-1 input.sk-hidden--visually {border: 0;clip: rect(1px 1px 1px 1px);clip: rect(1px, 1px, 1px, 1px);height: 1px;margin: -1px;overflow: hidden;padding: 0;position: absolute;width: 1px;}#sk-container-id-1 div.sk-estimator {font-family: monospace;background-color: #f0f8ff;border: 1px dotted black;border-radius: 0.25em;box-sizing: border-box;margin-bottom: 0.5em;}#sk-container-id-1 div.sk-estimator:hover {background-color: #d4ebff;}#sk-container-id-1 div.sk-parallel-item::after {content: \"\";width: 100%;border-bottom: 1px solid gray;flex-grow: 1;}#sk-container-id-1 div.sk-label:hover label.sk-toggleable__label {background-color: #d4ebff;}#sk-container-id-1 div.sk-serial::before {content: \"\";position: absolute;border-left: 1px solid gray;box-sizing: border-box;top: 0;bottom: 0;left: 50%;z-index: 0;}#sk-container-id-1 div.sk-serial {display: flex;flex-direction: column;align-items: center;background-color: white;padding-right: 0.2em;padding-left: 0.2em;position: relative;}#sk-container-id-1 div.sk-item {position: relative;z-index: 1;}#sk-container-id-1 div.sk-parallel {display: flex;align-items: stretch;justify-content: center;background-color: white;position: relative;}#sk-container-id-1 div.sk-item::before, #sk-container-id-1 div.sk-parallel-item::before {content: \"\";position: absolute;border-left: 1px solid gray;box-sizing: border-box;top: 0;bottom: 0;left: 50%;z-index: -1;}#sk-container-id-1 div.sk-parallel-item {display: flex;flex-direction: column;z-index: 1;position: relative;background-color: white;}#sk-container-id-1 div.sk-parallel-item:first-child::after {align-self: flex-end;width: 50%;}#sk-container-id-1 div.sk-parallel-item:last-child::after {align-self: flex-start;width: 50%;}#sk-container-id-1 div.sk-parallel-item:only-child::after {width: 0;}#sk-container-id-1 div.sk-dashed-wrapped {border: 1px dashed gray;margin: 0 0.4em 0.5em 0.4em;box-sizing: border-box;padding-bottom: 0.4em;background-color: white;}#sk-container-id-1 div.sk-label label {font-family: monospace;font-weight: bold;display: inline-block;line-height: 1.2em;}#sk-container-id-1 div.sk-label-container {text-align: center;}#sk-container-id-1 div.sk-container {/* jupyter's `normalize.less` sets `[hidden] { display: none; }` but bootstrap.min.css set `[hidden] { display: none !important; }` so we also need the `!important` here to be able to override the default hidden behavior on the sphinx rendered scikit-learn.org. See: https://github.com/scikit-learn/scikit-learn/issues/21755 */display: inline-block !important;position: relative;}#sk-container-id-1 div.sk-text-repr-fallback {display: none;}</style><div id=\"sk-container-id-1\" class=\"sk-top-container\"><div class=\"sk-text-repr-fallback\"><pre>LinearRegression()</pre><b>In a Jupyter environment, please rerun this cell to show the HTML representation or trust the notebook. <br />On GitHub, the HTML representation is unable to render, please try loading this page with nbviewer.org.</b></div><div class=\"sk-container\" hidden><div class=\"sk-item\"><div class=\"sk-estimator sk-toggleable\"><input class=\"sk-toggleable__control sk-hidden--visually\" id=\"sk-estimator-id-1\" type=\"checkbox\" checked><label for=\"sk-estimator-id-1\" class=\"sk-toggleable__label sk-toggleable__label-arrow\">LinearRegression</label><div class=\"sk-toggleable__content\"><pre>LinearRegression()</pre></div></div></div></div></div>"
      ],
      "text/plain": [
       "LinearRegression()"
      ]
     },
     "execution_count": 8,
     "metadata": {},
     "output_type": "execute_result"
    }
   ],
   "source": [
    "#Model trainieren\n",
    "clf = LinearRegression()\n",
    "clf.fit(features_train, target_train)"
   ]
  },
  {
   "cell_type": "code",
   "execution_count": 9,
   "id": "4143b2d6-c488-4fda-b953-d76c1040b728",
   "metadata": {},
   "outputs": [
    {
     "name": "stdout",
     "output_type": "stream",
     "text": [
      "2.2028209505598215 [-1.33148909e-02  6.51044049e-03 -2.81893432e-02  2.84733949e-05\n",
      "  6.19993304e-03  3.44387149e-03  3.02958816e-03  5.00889004e-03\n",
      "  1.35048331e-03 -1.72337610e-02 -6.24500451e-17  3.56867982e-02\n",
      "  9.98992808e-03 -2.03834998e-02 -3.76447231e-03 -1.98093807e-03\n",
      "  5.83208890e-02 -2.46650298e-01  9.42072875e-02 -4.87468395e-03\n",
      " -1.45509946e-03 -2.89066059e-02  9.59844430e-04  8.28139421e-03\n",
      " -1.30991127e-03  4.19538953e-03 -9.02427632e-04 -9.40095440e-03\n",
      " -1.57806035e-02  1.31479183e-03 -4.52891928e-02 -2.60208521e-17\n",
      "  6.10445329e-02  3.62669280e-02  7.64839255e-03  8.93777415e-05\n",
      " -1.17475046e-02 -7.02630845e-04  2.57340528e-03]\n"
     ]
    }
   ],
   "source": [
    "print(clf.intercept_, clf.coef_)"
   ]
  },
  {
   "cell_type": "code",
   "execution_count": 10,
   "id": "5285ffae-fa6c-4028-97c9-0e8f5fe7bbe9",
   "metadata": {},
   "outputs": [
    {
     "name": "stdout",
     "output_type": "stream",
     "text": [
      "RMSE: \n"
     ]
    },
    {
     "data": {
      "text/plain": [
       "0.20319363776932023"
      ]
     },
     "execution_count": 10,
     "metadata": {},
     "output_type": "execute_result"
    }
   ],
   "source": [
    "#Vorhersage\n",
    "predicted = clf.predict(features_dev)\n",
    "expected = target_dev\n",
    "\n",
    "print('RMSE: ')\n",
    "RMSE(expected, predicted)"
   ]
  },
  {
   "cell_type": "code",
   "execution_count": null,
   "id": "d6596ffc-5c23-44a6-bdab-c0dcecc4e6ea",
   "metadata": {},
   "outputs": [],
   "source": [
    "poly = PolynomialFeatures(2)\n",
    "features_train_polynom = poly.fit_transform(features_train)\n",
    "features_dev_polynom = poly.fit_transform(features_dev)"
   ]
  },
  {
   "cell_type": "code",
   "execution_count": null,
   "id": "6a331857-22ee-4399-baed-808c350fc6a3",
   "metadata": {},
   "outputs": [],
   "source": [
    "clf.fit(features_train_polynom, target_train)\n",
    "\n",
    "predicted = clf.predict(features_dev_polynom)\n",
    "expected = target_dev\n",
    "\n",
    "print('RMSE: ')\n",
    "RMSE(expected, predicted)"
   ]
  },
  {
   "cell_type": "code",
   "execution_count": null,
   "id": "5bcf905f-ec6f-4543-bd4d-e0f0579c09d4",
   "metadata": {},
   "outputs": [],
   "source": [
    "features.describe()"
   ]
  },
  {
   "cell_type": "code",
   "execution_count": null,
   "id": "92f620a6-8036-4ec4-866a-8f715b605253",
   "metadata": {},
   "outputs": [],
   "source": [
    "accidents['Severity'].head()"
   ]
  },
  {
   "cell_type": "code",
   "execution_count": null,
   "id": "32e8a625-3f7d-4de0-a641-71c00c1cefe9",
   "metadata": {},
   "outputs": [],
   "source": [
    "features.hist(figsize=(10,10), bins=30)\n",
    "plt.subplots_adjust(hspace=0.7, wspace=0.4)"
   ]
  },
  {
   "cell_type": "code",
   "execution_count": null,
   "id": "45949340-9450-4004-b9b4-d92a5864d41f",
   "metadata": {},
   "outputs": [],
   "source": [
    "features_of_interest=['Temperature(F)', 'Humidity(%)']\n",
    "accidents[features_of_interest].describe()"
   ]
  },
  {
   "cell_type": "code",
   "execution_count": null,
   "id": "fe1c600a-6aab-4274-9bc8-ce300fbc9002",
   "metadata": {},
   "outputs": [],
   "source": [
    "sns.scatterplot(\n",
    "    data = accidents,\n",
    "    x = 'Start_Lng',\n",
    "    y = 'Start_Lat',\n",
    "    size = 'Severity',\n",
    "    hue = 'Severity',\n",
    "    palette = 'viridis',\n",
    "    alpha = 0.5,\n",
    ")\n"
   ]
  },
  {
   "cell_type": "code",
   "execution_count": null,
   "id": "80105003-0484-4208-a5cd-d7440c29f726",
   "metadata": {},
   "outputs": [],
   "source": []
  }
 ],
 "metadata": {
  "kernelspec": {
   "display_name": "Python 3 (ipykernel)",
   "language": "python",
   "name": "python3"
  },
  "language_info": {
   "codemirror_mode": {
    "name": "ipython",
    "version": 3
   },
   "file_extension": ".py",
   "mimetype": "text/x-python",
   "name": "python",
   "nbconvert_exporter": "python",
   "pygments_lexer": "ipython3",
   "version": "3.12.0"
  }
 },
 "nbformat": 4,
 "nbformat_minor": 5
}
