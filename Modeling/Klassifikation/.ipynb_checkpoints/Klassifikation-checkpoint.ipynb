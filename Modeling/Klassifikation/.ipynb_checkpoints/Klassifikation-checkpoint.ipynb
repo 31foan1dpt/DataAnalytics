{
 "cells": [
  {
   "cell_type": "code",
   "execution_count": 18,
   "id": "fd5278b0-e9f6-41a7-a34e-c72e3ca109bf",
   "metadata": {},
   "outputs": [],
   "source": [
    "from sklearn.model_selection import train_test_split, GridSearchCV\n",
    "from sklearn.preprocessing import StandardScaler, LabelEncoder\n",
    "from sklearn.pipeline import Pipeline\n",
    "from sklearn.svm import LinearSVC, SVC\n",
    "from sklearn.feature_selection import SelectFromModel\n",
    "from sklearn.metrics import classification_report, confusion_matrix\n",
    "from sklearn.model_selection import cross_val_predict\n",
    "\n",
    "import pandas as pd \n",
    "#KLASSIFIKATION MIT SVM --> schlechtes Ergebnis --> LGBMClassifier file:classification_meth3 enthält die finale version"
   ]
  },
  {
   "cell_type": "code",
   "execution_count": 2,
   "id": "678ec37d-f975-4249-9a1e-ef895b008cc1",
   "metadata": {},
   "outputs": [],
   "source": [
    "#read-in data\n",
    "df_accidents = pd.read_csv('../../data/MA3_finished.csv', index_col='ID')"
   ]
  },
  {
   "cell_type": "code",
   "execution_count": 3,
   "id": "9b326737-0fb0-432e-9488-7fd49ad5bf00",
   "metadata": {},
   "outputs": [],
   "source": [
    "#verkleinern -> computional power reicht nur für frac der gesamten Daten aus\n",
    "df_accidents = df_accidents.sample(n=350000, random_state=1)"
   ]
  },
  {
   "cell_type": "code",
   "execution_count": 4,
   "id": "6d19ace5-5fa0-499b-ab2c-84e6a97aa88c",
   "metadata": {},
   "outputs": [
    {
     "data": {
      "text/html": [
       "<div>\n",
       "<style scoped>\n",
       "    .dataframe tbody tr th:only-of-type {\n",
       "        vertical-align: middle;\n",
       "    }\n",
       "\n",
       "    .dataframe tbody tr th {\n",
       "        vertical-align: top;\n",
       "    }\n",
       "\n",
       "    .dataframe thead th {\n",
       "        text-align: right;\n",
       "    }\n",
       "</style>\n",
       "<table border=\"1\" class=\"dataframe\">\n",
       "  <thead>\n",
       "    <tr style=\"text-align: right;\">\n",
       "      <th></th>\n",
       "      <th>Unnamed: 0</th>\n",
       "      <th>Severity</th>\n",
       "      <th>Start_Time</th>\n",
       "      <th>End_Time</th>\n",
       "      <th>Start_Lat</th>\n",
       "      <th>Start_Lng</th>\n",
       "      <th>Distance(mi)</th>\n",
       "      <th>Description</th>\n",
       "      <th>Street</th>\n",
       "      <th>City</th>\n",
       "      <th>...</th>\n",
       "      <th>Nautical_Twilight</th>\n",
       "      <th>Astronomical_Twilight</th>\n",
       "      <th>Year</th>\n",
       "      <th>Month</th>\n",
       "      <th>Day</th>\n",
       "      <th>Hour</th>\n",
       "      <th>Duration</th>\n",
       "      <th>State Name</th>\n",
       "      <th>Region</th>\n",
       "      <th>Division</th>\n",
       "    </tr>\n",
       "    <tr>\n",
       "      <th>ID</th>\n",
       "      <th></th>\n",
       "      <th></th>\n",
       "      <th></th>\n",
       "      <th></th>\n",
       "      <th></th>\n",
       "      <th></th>\n",
       "      <th></th>\n",
       "      <th></th>\n",
       "      <th></th>\n",
       "      <th></th>\n",
       "      <th></th>\n",
       "      <th></th>\n",
       "      <th></th>\n",
       "      <th></th>\n",
       "      <th></th>\n",
       "      <th></th>\n",
       "      <th></th>\n",
       "      <th></th>\n",
       "      <th></th>\n",
       "      <th></th>\n",
       "      <th></th>\n",
       "    </tr>\n",
       "  </thead>\n",
       "  <tbody>\n",
       "    <tr>\n",
       "      <th>4290480</th>\n",
       "      <td>4290480</td>\n",
       "      <td>2</td>\n",
       "      <td>2022-10-11 13:36:37</td>\n",
       "      <td>2022-10-11 14:14:48</td>\n",
       "      <td>31.668610</td>\n",
       "      <td>-106.230205</td>\n",
       "      <td>0.881</td>\n",
       "      <td>Slow traffic on FM-1281 from Darrington Rd (FM...</td>\n",
       "      <td>Horizon Blvd</td>\n",
       "      <td>Horizon City</td>\n",
       "      <td>...</td>\n",
       "      <td>Day</td>\n",
       "      <td>Day</td>\n",
       "      <td>2022</td>\n",
       "      <td>10</td>\n",
       "      <td>1</td>\n",
       "      <td>13</td>\n",
       "      <td>2291.0</td>\n",
       "      <td>Texas</td>\n",
       "      <td>South</td>\n",
       "      <td>West South Central</td>\n",
       "    </tr>\n",
       "    <tr>\n",
       "      <th>6794167</th>\n",
       "      <td>6794167</td>\n",
       "      <td>2</td>\n",
       "      <td>2019-01-26 08:49:31</td>\n",
       "      <td>2019-01-26 09:19:14</td>\n",
       "      <td>41.933060</td>\n",
       "      <td>-86.572470</td>\n",
       "      <td>0.245</td>\n",
       "      <td>At Red Arrow Hwy/Exit 16 - Accident. Left lane...</td>\n",
       "      <td>I-94 W</td>\n",
       "      <td>Bridgman</td>\n",
       "      <td>...</td>\n",
       "      <td>Day</td>\n",
       "      <td>Day</td>\n",
       "      <td>2019</td>\n",
       "      <td>1</td>\n",
       "      <td>5</td>\n",
       "      <td>8</td>\n",
       "      <td>1783.0</td>\n",
       "      <td>Michigan</td>\n",
       "      <td>Midwest</td>\n",
       "      <td>East North Central</td>\n",
       "    </tr>\n",
       "    <tr>\n",
       "      <th>869970</th>\n",
       "      <td>869970</td>\n",
       "      <td>2</td>\n",
       "      <td>2021-06-23 09:58:28</td>\n",
       "      <td>2021-06-23 11:14:07</td>\n",
       "      <td>32.863430</td>\n",
       "      <td>-96.896896</td>\n",
       "      <td>0.000</td>\n",
       "      <td>Right lane blocked due to accident on TX-12-LO...</td>\n",
       "      <td>Technology Blvd E</td>\n",
       "      <td>Dallas</td>\n",
       "      <td>...</td>\n",
       "      <td>Day</td>\n",
       "      <td>Day</td>\n",
       "      <td>2021</td>\n",
       "      <td>6</td>\n",
       "      <td>2</td>\n",
       "      <td>9</td>\n",
       "      <td>4539.0</td>\n",
       "      <td>Texas</td>\n",
       "      <td>South</td>\n",
       "      <td>West South Central</td>\n",
       "    </tr>\n",
       "    <tr>\n",
       "      <th>5308122</th>\n",
       "      <td>5308122</td>\n",
       "      <td>2</td>\n",
       "      <td>2021-06-18 15:58:35</td>\n",
       "      <td>2021-06-18 17:17:09</td>\n",
       "      <td>29.684696</td>\n",
       "      <td>-95.557997</td>\n",
       "      <td>0.337</td>\n",
       "      <td>Slow traffic from Greenfork Dr to W Sam Housto...</td>\n",
       "      <td>W Sam Houston Pkwy S</td>\n",
       "      <td>Houston</td>\n",
       "      <td>...</td>\n",
       "      <td>Day</td>\n",
       "      <td>Day</td>\n",
       "      <td>2021</td>\n",
       "      <td>6</td>\n",
       "      <td>4</td>\n",
       "      <td>15</td>\n",
       "      <td>4714.0</td>\n",
       "      <td>Texas</td>\n",
       "      <td>South</td>\n",
       "      <td>West South Central</td>\n",
       "    </tr>\n",
       "    <tr>\n",
       "      <th>6608662</th>\n",
       "      <td>6608662</td>\n",
       "      <td>2</td>\n",
       "      <td>2020-02-18 18:51:08</td>\n",
       "      <td>2020-02-19 00:00:00</td>\n",
       "      <td>41.142360</td>\n",
       "      <td>-73.426950</td>\n",
       "      <td>0.000</td>\n",
       "      <td>At Main Ave/Exit 40 - Accident.</td>\n",
       "      <td>CT-15 N</td>\n",
       "      <td>Norwalk</td>\n",
       "      <td>...</td>\n",
       "      <td>Night</td>\n",
       "      <td>Day</td>\n",
       "      <td>2020</td>\n",
       "      <td>2</td>\n",
       "      <td>1</td>\n",
       "      <td>18</td>\n",
       "      <td>18532.0</td>\n",
       "      <td>Connecticut</td>\n",
       "      <td>Northeast</td>\n",
       "      <td>New England</td>\n",
       "    </tr>\n",
       "    <tr>\n",
       "      <th>...</th>\n",
       "      <td>...</td>\n",
       "      <td>...</td>\n",
       "      <td>...</td>\n",
       "      <td>...</td>\n",
       "      <td>...</td>\n",
       "      <td>...</td>\n",
       "      <td>...</td>\n",
       "      <td>...</td>\n",
       "      <td>...</td>\n",
       "      <td>...</td>\n",
       "      <td>...</td>\n",
       "      <td>...</td>\n",
       "      <td>...</td>\n",
       "      <td>...</td>\n",
       "      <td>...</td>\n",
       "      <td>...</td>\n",
       "      <td>...</td>\n",
       "      <td>...</td>\n",
       "      <td>...</td>\n",
       "      <td>...</td>\n",
       "      <td>...</td>\n",
       "    </tr>\n",
       "    <tr>\n",
       "      <th>1807425</th>\n",
       "      <td>1807425</td>\n",
       "      <td>2</td>\n",
       "      <td>2019-07-09 17:20:59</td>\n",
       "      <td>2019-07-09 19:24:42</td>\n",
       "      <td>30.231575</td>\n",
       "      <td>-97.717468</td>\n",
       "      <td>0.000</td>\n",
       "      <td>Accident on Riverside Dr at Crossing Pl.</td>\n",
       "      <td>E Riverside Dr</td>\n",
       "      <td>Austin</td>\n",
       "      <td>...</td>\n",
       "      <td>Day</td>\n",
       "      <td>Day</td>\n",
       "      <td>2019</td>\n",
       "      <td>7</td>\n",
       "      <td>1</td>\n",
       "      <td>17</td>\n",
       "      <td>7423.0</td>\n",
       "      <td>Texas</td>\n",
       "      <td>South</td>\n",
       "      <td>West South Central</td>\n",
       "    </tr>\n",
       "    <tr>\n",
       "      <th>4986977</th>\n",
       "      <td>4986977</td>\n",
       "      <td>2</td>\n",
       "      <td>2021-03-29 15:35:00</td>\n",
       "      <td>2021-03-29 17:14:14</td>\n",
       "      <td>37.052561</td>\n",
       "      <td>-121.253260</td>\n",
       "      <td>1.724</td>\n",
       "      <td>Incident on CA-152 EB near HOUSE 16242 Drive w...</td>\n",
       "      <td>Pacheco Pass Hwy</td>\n",
       "      <td>Hollister</td>\n",
       "      <td>...</td>\n",
       "      <td>Day</td>\n",
       "      <td>Day</td>\n",
       "      <td>2021</td>\n",
       "      <td>3</td>\n",
       "      <td>0</td>\n",
       "      <td>15</td>\n",
       "      <td>5954.0</td>\n",
       "      <td>California</td>\n",
       "      <td>West</td>\n",
       "      <td>Pacific</td>\n",
       "    </tr>\n",
       "    <tr>\n",
       "      <th>5817276</th>\n",
       "      <td>5817276</td>\n",
       "      <td>2</td>\n",
       "      <td>2021-01-05 13:41:30</td>\n",
       "      <td>2021-01-05 19:14:30</td>\n",
       "      <td>33.995029</td>\n",
       "      <td>-118.280350</td>\n",
       "      <td>1.110</td>\n",
       "      <td>Slow traffic on I-110 N - Harbor Fwy N from Sl...</td>\n",
       "      <td>W 52nd Pl</td>\n",
       "      <td>Los Angeles</td>\n",
       "      <td>...</td>\n",
       "      <td>Day</td>\n",
       "      <td>Day</td>\n",
       "      <td>2021</td>\n",
       "      <td>1</td>\n",
       "      <td>1</td>\n",
       "      <td>13</td>\n",
       "      <td>19980.0</td>\n",
       "      <td>California</td>\n",
       "      <td>West</td>\n",
       "      <td>Pacific</td>\n",
       "    </tr>\n",
       "    <tr>\n",
       "      <th>936242</th>\n",
       "      <td>936242</td>\n",
       "      <td>2</td>\n",
       "      <td>2021-05-03 17:25:21</td>\n",
       "      <td>2021-05-03 19:54:50</td>\n",
       "      <td>34.704559</td>\n",
       "      <td>-82.642059</td>\n",
       "      <td>0.000</td>\n",
       "      <td>Accident on SC-88 at Slab Bridge Rd.</td>\n",
       "      <td>Slab Bridge Rd</td>\n",
       "      <td>Liberty</td>\n",
       "      <td>...</td>\n",
       "      <td>Day</td>\n",
       "      <td>Day</td>\n",
       "      <td>2021</td>\n",
       "      <td>5</td>\n",
       "      <td>0</td>\n",
       "      <td>17</td>\n",
       "      <td>8969.0</td>\n",
       "      <td>South Carolina</td>\n",
       "      <td>South</td>\n",
       "      <td>South Atlantic</td>\n",
       "    </tr>\n",
       "    <tr>\n",
       "      <th>1128252</th>\n",
       "      <td>1128252</td>\n",
       "      <td>2</td>\n",
       "      <td>2020-11-19 08:04:38</td>\n",
       "      <td>2020-11-19 08:49:09</td>\n",
       "      <td>42.377151</td>\n",
       "      <td>-83.039368</td>\n",
       "      <td>0.000</td>\n",
       "      <td>Accident on I-94 Westbound near I-94 Exits 217.</td>\n",
       "      <td>Edsel Ford Fwy W</td>\n",
       "      <td>Detroit</td>\n",
       "      <td>...</td>\n",
       "      <td>Day</td>\n",
       "      <td>Day</td>\n",
       "      <td>2020</td>\n",
       "      <td>11</td>\n",
       "      <td>3</td>\n",
       "      <td>8</td>\n",
       "      <td>2671.0</td>\n",
       "      <td>Michigan</td>\n",
       "      <td>Midwest</td>\n",
       "      <td>East North Central</td>\n",
       "    </tr>\n",
       "  </tbody>\n",
       "</table>\n",
       "<p>350000 rows × 48 columns</p>\n",
       "</div>"
      ],
      "text/plain": [
       "         Unnamed: 0  Severity           Start_Time             End_Time  \\\n",
       "ID                                                                        \n",
       "4290480     4290480         2  2022-10-11 13:36:37  2022-10-11 14:14:48   \n",
       "6794167     6794167         2  2019-01-26 08:49:31  2019-01-26 09:19:14   \n",
       "869970       869970         2  2021-06-23 09:58:28  2021-06-23 11:14:07   \n",
       "5308122     5308122         2  2021-06-18 15:58:35  2021-06-18 17:17:09   \n",
       "6608662     6608662         2  2020-02-18 18:51:08  2020-02-19 00:00:00   \n",
       "...             ...       ...                  ...                  ...   \n",
       "1807425     1807425         2  2019-07-09 17:20:59  2019-07-09 19:24:42   \n",
       "4986977     4986977         2  2021-03-29 15:35:00  2021-03-29 17:14:14   \n",
       "5817276     5817276         2  2021-01-05 13:41:30  2021-01-05 19:14:30   \n",
       "936242       936242         2  2021-05-03 17:25:21  2021-05-03 19:54:50   \n",
       "1128252     1128252         2  2020-11-19 08:04:38  2020-11-19 08:49:09   \n",
       "\n",
       "         Start_Lat   Start_Lng  Distance(mi)  \\\n",
       "ID                                             \n",
       "4290480  31.668610 -106.230205         0.881   \n",
       "6794167  41.933060  -86.572470         0.245   \n",
       "869970   32.863430  -96.896896         0.000   \n",
       "5308122  29.684696  -95.557997         0.337   \n",
       "6608662  41.142360  -73.426950         0.000   \n",
       "...            ...         ...           ...   \n",
       "1807425  30.231575  -97.717468         0.000   \n",
       "4986977  37.052561 -121.253260         1.724   \n",
       "5817276  33.995029 -118.280350         1.110   \n",
       "936242   34.704559  -82.642059         0.000   \n",
       "1128252  42.377151  -83.039368         0.000   \n",
       "\n",
       "                                               Description  \\\n",
       "ID                                                           \n",
       "4290480  Slow traffic on FM-1281 from Darrington Rd (FM...   \n",
       "6794167  At Red Arrow Hwy/Exit 16 - Accident. Left lane...   \n",
       "869970   Right lane blocked due to accident on TX-12-LO...   \n",
       "5308122  Slow traffic from Greenfork Dr to W Sam Housto...   \n",
       "6608662                    At Main Ave/Exit 40 - Accident.   \n",
       "...                                                    ...   \n",
       "1807425           Accident on Riverside Dr at Crossing Pl.   \n",
       "4986977  Incident on CA-152 EB near HOUSE 16242 Drive w...   \n",
       "5817276  Slow traffic on I-110 N - Harbor Fwy N from Sl...   \n",
       "936242                Accident on SC-88 at Slab Bridge Rd.   \n",
       "1128252    Accident on I-94 Westbound near I-94 Exits 217.   \n",
       "\n",
       "                        Street          City  ... Nautical_Twilight  \\\n",
       "ID                                            ...                     \n",
       "4290480           Horizon Blvd  Horizon City  ...               Day   \n",
       "6794167                 I-94 W      Bridgman  ...               Day   \n",
       "869970       Technology Blvd E        Dallas  ...               Day   \n",
       "5308122   W Sam Houston Pkwy S       Houston  ...               Day   \n",
       "6608662                CT-15 N       Norwalk  ...             Night   \n",
       "...                        ...           ...  ...               ...   \n",
       "1807425         E Riverside Dr        Austin  ...               Day   \n",
       "4986977       Pacheco Pass Hwy     Hollister  ...               Day   \n",
       "5817276              W 52nd Pl   Los Angeles  ...               Day   \n",
       "936242          Slab Bridge Rd       Liberty  ...               Day   \n",
       "1128252       Edsel Ford Fwy W       Detroit  ...               Day   \n",
       "\n",
       "        Astronomical_Twilight  Year Month Day Hour  Duration      State Name  \\\n",
       "ID                                                                             \n",
       "4290480                   Day  2022    10   1   13    2291.0           Texas   \n",
       "6794167                   Day  2019     1   5    8    1783.0        Michigan   \n",
       "869970                    Day  2021     6   2    9    4539.0           Texas   \n",
       "5308122                   Day  2021     6   4   15    4714.0           Texas   \n",
       "6608662                   Day  2020     2   1   18   18532.0     Connecticut   \n",
       "...                       ...   ...   ...  ..  ...       ...             ...   \n",
       "1807425                   Day  2019     7   1   17    7423.0           Texas   \n",
       "4986977                   Day  2021     3   0   15    5954.0      California   \n",
       "5817276                   Day  2021     1   1   13   19980.0      California   \n",
       "936242                    Day  2021     5   0   17    8969.0  South Carolina   \n",
       "1128252                   Day  2020    11   3    8    2671.0        Michigan   \n",
       "\n",
       "            Region            Division  \n",
       "ID                                      \n",
       "4290480      South  West South Central  \n",
       "6794167    Midwest  East North Central  \n",
       "869970       South  West South Central  \n",
       "5308122      South  West South Central  \n",
       "6608662  Northeast         New England  \n",
       "...            ...                 ...  \n",
       "1807425      South  West South Central  \n",
       "4986977       West             Pacific  \n",
       "5817276       West             Pacific  \n",
       "936242       South      South Atlantic  \n",
       "1128252    Midwest  East North Central  \n",
       "\n",
       "[350000 rows x 48 columns]"
      ]
     },
     "execution_count": 4,
     "metadata": {},
     "output_type": "execute_result"
    }
   ],
   "source": [
    "df_accidents"
   ]
  },
  {
   "cell_type": "code",
   "execution_count": 5,
   "id": "7b49d28d-6e0b-4322-a857-d19e608615ee",
   "metadata": {},
   "outputs": [],
   "source": [
    "#featureselection\n",
    "#features = df_accidents[['Temperature(F)', 'Wind_Chill(F)', 'Humidity(%)', 'Pressure(in)', 'Visibility(mi)', 'Wind_Speed(mph)',\n",
    "#               'Precipitation(in)', 'Weather_Condition', 'Amenity', 'Bump', 'Crossing', 'Give_Way', 'Junction', 'No_Exit',\n",
    "#               'Railway', 'Roundabout', 'Station', 'Stop', 'Traffic_Calming', 'Traffic_Signal', 'Turning_Loop']]\n",
    "\n",
    "features = df_accidents[['Weather_Condition', 'Amenity', 'Bump', 'Crossing', 'Give_Way', 'Junction', 'No_Exit',\n",
    "                         'Railway', 'Roundabout', 'Station', 'Stop', 'Traffic_Calming', 'Traffic_Signal', 'Turning_Loop']]"
   ]
  },
  {
   "cell_type": "code",
   "execution_count": 6,
   "id": "27b73880-ad31-4649-8fd5-4df486d6ad2b",
   "metadata": {},
   "outputs": [
    {
     "name": "stderr",
     "output_type": "stream",
     "text": [
      "C:\\Users\\forte\\AppData\\Local\\Temp\\ipykernel_16388\\1052699683.py:3: SettingWithCopyWarning: \n",
      "A value is trying to be set on a copy of a slice from a DataFrame.\n",
      "Try using .loc[row_indexer,col_indexer] = value instead\n",
      "\n",
      "See the caveats in the documentation: https://pandas.pydata.org/pandas-docs/stable/user_guide/indexing.html#returning-a-view-versus-a-copy\n",
      "  features['Weather_Condition']= le.fit_transform(features['Weather_Condition'])\n"
     ]
    }
   ],
   "source": [
    "#Encoding text/categorical variables\n",
    "le = LabelEncoder()\n",
    "features['Weather_Condition']= le.fit_transform(features['Weather_Condition'])"
   ]
  },
  {
   "cell_type": "code",
   "execution_count": 7,
   "id": "40c4f6ee-9efb-46b0-93f6-cc572ca8a4cf",
   "metadata": {},
   "outputs": [],
   "source": [
    "#target\n",
    "target = df_accidents['Severity']"
   ]
  },
  {
   "cell_type": "code",
   "execution_count": 8,
   "id": "babe412a-70eb-4d54-a993-0bf01cafaca4",
   "metadata": {},
   "outputs": [],
   "source": [
    "#(80/20 split)\n",
    "features_train, features_test, target_train, target_test = train_test_split(features, target, test_size=0.2, random_state=42)"
   ]
  },
  {
   "cell_type": "code",
   "execution_count": 9,
   "id": "7f289fa5-6c27-458b-b02e-20fe489842b3",
   "metadata": {},
   "outputs": [],
   "source": [
    "#Create a pipeline\n",
    "pipe = Pipeline([\n",
    "    ('scale', StandardScaler()),\n",
    "    ('feature_selection', SelectFromModel(LinearSVC(penalty=\"l1\", dual=False), threshold='mean')),\n",
    "    ('clf', SVC(max_iter=5000))  \n",
    "])"
   ]
  },
  {
   "cell_type": "code",
   "execution_count": 10,
   "id": "bce05011-beab-412e-b501-0bcf10c685d9",
   "metadata": {},
   "outputs": [
    {
     "name": "stdout",
     "output_type": "stream",
     "text": [
      "Fitting 5 folds for each of 4 candidates, totalling 20 fits\n",
      "[CV 1/5; 1/4] START clf__kernel=linear, feature_selection__threshold=None.......\n"
     ]
    },
    {
     "name": "stderr",
     "output_type": "stream",
     "text": [
      "C:\\Users\\forte\\AppData\\Local\\Programs\\Python\\Python312\\Lib\\site-packages\\sklearn\\svm\\_base.py:297: ConvergenceWarning: Solver terminated early (max_iter=5000).  Consider pre-processing your data with StandardScaler or MinMaxScaler.\n",
      "  warnings.warn(\n"
     ]
    },
    {
     "name": "stdout",
     "output_type": "stream",
     "text": [
      "[CV 1/5; 1/4] END clf__kernel=linear, feature_selection__threshold=None;, score=0.064 total time= 2.5min\n",
      "[CV 2/5; 1/4] START clf__kernel=linear, feature_selection__threshold=None.......\n"
     ]
    },
    {
     "name": "stderr",
     "output_type": "stream",
     "text": [
      "C:\\Users\\forte\\AppData\\Local\\Programs\\Python\\Python312\\Lib\\site-packages\\sklearn\\svm\\_base.py:297: ConvergenceWarning: Solver terminated early (max_iter=5000).  Consider pre-processing your data with StandardScaler or MinMaxScaler.\n",
      "  warnings.warn(\n"
     ]
    },
    {
     "name": "stdout",
     "output_type": "stream",
     "text": [
      "[CV 2/5; 1/4] END clf__kernel=linear, feature_selection__threshold=None;, score=0.131 total time= 2.2min\n",
      "[CV 3/5; 1/4] START clf__kernel=linear, feature_selection__threshold=None.......\n"
     ]
    },
    {
     "name": "stderr",
     "output_type": "stream",
     "text": [
      "C:\\Users\\forte\\AppData\\Local\\Programs\\Python\\Python312\\Lib\\site-packages\\sklearn\\svm\\_base.py:297: ConvergenceWarning: Solver terminated early (max_iter=5000).  Consider pre-processing your data with StandardScaler or MinMaxScaler.\n",
      "  warnings.warn(\n"
     ]
    },
    {
     "name": "stdout",
     "output_type": "stream",
     "text": [
      "[CV 3/5; 1/4] END clf__kernel=linear, feature_selection__threshold=None;, score=0.126 total time= 2.4min\n",
      "[CV 4/5; 1/4] START clf__kernel=linear, feature_selection__threshold=None.......\n"
     ]
    },
    {
     "name": "stderr",
     "output_type": "stream",
     "text": [
      "C:\\Users\\forte\\AppData\\Local\\Programs\\Python\\Python312\\Lib\\site-packages\\sklearn\\svm\\_base.py:297: ConvergenceWarning: Solver terminated early (max_iter=5000).  Consider pre-processing your data with StandardScaler or MinMaxScaler.\n",
      "  warnings.warn(\n"
     ]
    },
    {
     "name": "stdout",
     "output_type": "stream",
     "text": [
      "[CV 4/5; 1/4] END clf__kernel=linear, feature_selection__threshold=None;, score=0.216 total time= 2.6min\n",
      "[CV 5/5; 1/4] START clf__kernel=linear, feature_selection__threshold=None.......\n"
     ]
    },
    {
     "name": "stderr",
     "output_type": "stream",
     "text": [
      "C:\\Users\\forte\\AppData\\Local\\Programs\\Python\\Python312\\Lib\\site-packages\\sklearn\\svm\\_base.py:297: ConvergenceWarning: Solver terminated early (max_iter=5000).  Consider pre-processing your data with StandardScaler or MinMaxScaler.\n",
      "  warnings.warn(\n"
     ]
    },
    {
     "name": "stdout",
     "output_type": "stream",
     "text": [
      "[CV 5/5; 1/4] END clf__kernel=linear, feature_selection__threshold=None;, score=0.072 total time= 2.5min\n",
      "[CV 1/5; 2/4] START clf__kernel=linear, feature_selection__threshold=mean.......\n"
     ]
    },
    {
     "name": "stderr",
     "output_type": "stream",
     "text": [
      "C:\\Users\\forte\\AppData\\Local\\Programs\\Python\\Python312\\Lib\\site-packages\\sklearn\\svm\\_base.py:297: ConvergenceWarning: Solver terminated early (max_iter=5000).  Consider pre-processing your data with StandardScaler or MinMaxScaler.\n",
      "  warnings.warn(\n"
     ]
    },
    {
     "name": "stdout",
     "output_type": "stream",
     "text": [
      "[CV 1/5; 2/4] END clf__kernel=linear, feature_selection__threshold=mean;, score=0.147 total time= 1.8min\n",
      "[CV 2/5; 2/4] START clf__kernel=linear, feature_selection__threshold=mean.......\n"
     ]
    },
    {
     "name": "stderr",
     "output_type": "stream",
     "text": [
      "C:\\Users\\forte\\AppData\\Local\\Programs\\Python\\Python312\\Lib\\site-packages\\sklearn\\svm\\_base.py:297: ConvergenceWarning: Solver terminated early (max_iter=5000).  Consider pre-processing your data with StandardScaler or MinMaxScaler.\n",
      "  warnings.warn(\n"
     ]
    },
    {
     "name": "stdout",
     "output_type": "stream",
     "text": [
      "[CV 2/5; 2/4] END clf__kernel=linear, feature_selection__threshold=mean;, score=0.132 total time= 1.7min\n",
      "[CV 3/5; 2/4] START clf__kernel=linear, feature_selection__threshold=mean.......\n"
     ]
    },
    {
     "name": "stderr",
     "output_type": "stream",
     "text": [
      "C:\\Users\\forte\\AppData\\Local\\Programs\\Python\\Python312\\Lib\\site-packages\\sklearn\\svm\\_base.py:297: ConvergenceWarning: Solver terminated early (max_iter=5000).  Consider pre-processing your data with StandardScaler or MinMaxScaler.\n",
      "  warnings.warn(\n"
     ]
    },
    {
     "name": "stdout",
     "output_type": "stream",
     "text": [
      "[CV 3/5; 2/4] END clf__kernel=linear, feature_selection__threshold=mean;, score=0.121 total time= 1.7min\n",
      "[CV 4/5; 2/4] START clf__kernel=linear, feature_selection__threshold=mean.......\n"
     ]
    },
    {
     "name": "stderr",
     "output_type": "stream",
     "text": [
      "C:\\Users\\forte\\AppData\\Local\\Programs\\Python\\Python312\\Lib\\site-packages\\sklearn\\svm\\_base.py:297: ConvergenceWarning: Solver terminated early (max_iter=5000).  Consider pre-processing your data with StandardScaler or MinMaxScaler.\n",
      "  warnings.warn(\n"
     ]
    },
    {
     "name": "stdout",
     "output_type": "stream",
     "text": [
      "[CV 4/5; 2/4] END clf__kernel=linear, feature_selection__threshold=mean;, score=0.229 total time= 1.6min\n",
      "[CV 5/5; 2/4] START clf__kernel=linear, feature_selection__threshold=mean.......\n"
     ]
    },
    {
     "name": "stderr",
     "output_type": "stream",
     "text": [
      "C:\\Users\\forte\\AppData\\Local\\Programs\\Python\\Python312\\Lib\\site-packages\\sklearn\\svm\\_base.py:297: ConvergenceWarning: Solver terminated early (max_iter=5000).  Consider pre-processing your data with StandardScaler or MinMaxScaler.\n",
      "  warnings.warn(\n"
     ]
    },
    {
     "name": "stdout",
     "output_type": "stream",
     "text": [
      "[CV 5/5; 2/4] END clf__kernel=linear, feature_selection__threshold=mean;, score=0.083 total time= 1.6min\n",
      "[CV 1/5; 3/4] START clf__kernel=rbf, feature_selection__threshold=None..........\n"
     ]
    },
    {
     "name": "stderr",
     "output_type": "stream",
     "text": [
      "C:\\Users\\forte\\AppData\\Local\\Programs\\Python\\Python312\\Lib\\site-packages\\sklearn\\svm\\_base.py:297: ConvergenceWarning: Solver terminated early (max_iter=5000).  Consider pre-processing your data with StandardScaler or MinMaxScaler.\n",
      "  warnings.warn(\n"
     ]
    },
    {
     "name": "stdout",
     "output_type": "stream",
     "text": [
      "[CV 1/5; 3/4] END clf__kernel=rbf, feature_selection__threshold=None;, score=0.309 total time= 5.5min\n",
      "[CV 2/5; 3/4] START clf__kernel=rbf, feature_selection__threshold=None..........\n"
     ]
    },
    {
     "name": "stderr",
     "output_type": "stream",
     "text": [
      "C:\\Users\\forte\\AppData\\Local\\Programs\\Python\\Python312\\Lib\\site-packages\\sklearn\\svm\\_base.py:297: ConvergenceWarning: Solver terminated early (max_iter=5000).  Consider pre-processing your data with StandardScaler or MinMaxScaler.\n",
      "  warnings.warn(\n"
     ]
    },
    {
     "name": "stdout",
     "output_type": "stream",
     "text": [
      "[CV 2/5; 3/4] END clf__kernel=rbf, feature_selection__threshold=None;, score=0.309 total time= 5.4min\n",
      "[CV 3/5; 3/4] START clf__kernel=rbf, feature_selection__threshold=None..........\n"
     ]
    },
    {
     "name": "stderr",
     "output_type": "stream",
     "text": [
      "C:\\Users\\forte\\AppData\\Local\\Programs\\Python\\Python312\\Lib\\site-packages\\sklearn\\svm\\_base.py:297: ConvergenceWarning: Solver terminated early (max_iter=5000).  Consider pre-processing your data with StandardScaler or MinMaxScaler.\n",
      "  warnings.warn(\n"
     ]
    },
    {
     "name": "stdout",
     "output_type": "stream",
     "text": [
      "[CV 3/5; 3/4] END clf__kernel=rbf, feature_selection__threshold=None;, score=0.697 total time= 5.6min\n",
      "[CV 4/5; 3/4] START clf__kernel=rbf, feature_selection__threshold=None..........\n"
     ]
    },
    {
     "name": "stderr",
     "output_type": "stream",
     "text": [
      "C:\\Users\\forte\\AppData\\Local\\Programs\\Python\\Python312\\Lib\\site-packages\\sklearn\\svm\\_base.py:297: ConvergenceWarning: Solver terminated early (max_iter=5000).  Consider pre-processing your data with StandardScaler or MinMaxScaler.\n",
      "  warnings.warn(\n"
     ]
    },
    {
     "name": "stdout",
     "output_type": "stream",
     "text": [
      "[CV 4/5; 3/4] END clf__kernel=rbf, feature_selection__threshold=None;, score=0.312 total time= 5.5min\n",
      "[CV 5/5; 3/4] START clf__kernel=rbf, feature_selection__threshold=None..........\n"
     ]
    },
    {
     "name": "stderr",
     "output_type": "stream",
     "text": [
      "C:\\Users\\forte\\AppData\\Local\\Programs\\Python\\Python312\\Lib\\site-packages\\sklearn\\svm\\_base.py:297: ConvergenceWarning: Solver terminated early (max_iter=5000).  Consider pre-processing your data with StandardScaler or MinMaxScaler.\n",
      "  warnings.warn(\n"
     ]
    },
    {
     "name": "stdout",
     "output_type": "stream",
     "text": [
      "[CV 5/5; 3/4] END clf__kernel=rbf, feature_selection__threshold=None;, score=0.784 total time= 5.7min\n",
      "[CV 1/5; 4/4] START clf__kernel=rbf, feature_selection__threshold=mean..........\n"
     ]
    },
    {
     "name": "stderr",
     "output_type": "stream",
     "text": [
      "C:\\Users\\forte\\AppData\\Local\\Programs\\Python\\Python312\\Lib\\site-packages\\sklearn\\svm\\_base.py:297: ConvergenceWarning: Solver terminated early (max_iter=5000).  Consider pre-processing your data with StandardScaler or MinMaxScaler.\n",
      "  warnings.warn(\n"
     ]
    },
    {
     "name": "stdout",
     "output_type": "stream",
     "text": [
      "[CV 1/5; 4/4] END clf__kernel=rbf, feature_selection__threshold=mean;, score=0.634 total time= 4.5min\n",
      "[CV 2/5; 4/4] START clf__kernel=rbf, feature_selection__threshold=mean..........\n"
     ]
    },
    {
     "name": "stderr",
     "output_type": "stream",
     "text": [
      "C:\\Users\\forte\\AppData\\Local\\Programs\\Python\\Python312\\Lib\\site-packages\\sklearn\\svm\\_base.py:297: ConvergenceWarning: Solver terminated early (max_iter=5000).  Consider pre-processing your data with StandardScaler or MinMaxScaler.\n",
      "  warnings.warn(\n"
     ]
    },
    {
     "name": "stdout",
     "output_type": "stream",
     "text": [
      "[CV 2/5; 4/4] END clf__kernel=rbf, feature_selection__threshold=mean;, score=0.629 total time= 4.5min\n",
      "[CV 3/5; 4/4] START clf__kernel=rbf, feature_selection__threshold=mean..........\n"
     ]
    },
    {
     "name": "stderr",
     "output_type": "stream",
     "text": [
      "C:\\Users\\forte\\AppData\\Local\\Programs\\Python\\Python312\\Lib\\site-packages\\sklearn\\svm\\_base.py:297: ConvergenceWarning: Solver terminated early (max_iter=5000).  Consider pre-processing your data with StandardScaler or MinMaxScaler.\n",
      "  warnings.warn(\n"
     ]
    },
    {
     "name": "stdout",
     "output_type": "stream",
     "text": [
      "[CV 3/5; 4/4] END clf__kernel=rbf, feature_selection__threshold=mean;, score=0.657 total time= 4.5min\n",
      "[CV 4/5; 4/4] START clf__kernel=rbf, feature_selection__threshold=mean..........\n"
     ]
    },
    {
     "name": "stderr",
     "output_type": "stream",
     "text": [
      "C:\\Users\\forte\\AppData\\Local\\Programs\\Python\\Python312\\Lib\\site-packages\\sklearn\\svm\\_base.py:297: ConvergenceWarning: Solver terminated early (max_iter=5000).  Consider pre-processing your data with StandardScaler or MinMaxScaler.\n",
      "  warnings.warn(\n"
     ]
    },
    {
     "name": "stdout",
     "output_type": "stream",
     "text": [
      "[CV 4/5; 4/4] END clf__kernel=rbf, feature_selection__threshold=mean;, score=0.452 total time= 4.5min\n",
      "[CV 5/5; 4/4] START clf__kernel=rbf, feature_selection__threshold=mean..........\n"
     ]
    },
    {
     "name": "stderr",
     "output_type": "stream",
     "text": [
      "C:\\Users\\forte\\AppData\\Local\\Programs\\Python\\Python312\\Lib\\site-packages\\sklearn\\svm\\_base.py:297: ConvergenceWarning: Solver terminated early (max_iter=5000).  Consider pre-processing your data with StandardScaler or MinMaxScaler.\n",
      "  warnings.warn(\n"
     ]
    },
    {
     "name": "stdout",
     "output_type": "stream",
     "text": [
      "[CV 5/5; 4/4] END clf__kernel=rbf, feature_selection__threshold=mean;, score=0.803 total time= 4.5min\n"
     ]
    },
    {
     "name": "stderr",
     "output_type": "stream",
     "text": [
      "C:\\Users\\forte\\AppData\\Local\\Programs\\Python\\Python312\\Lib\\site-packages\\sklearn\\svm\\_base.py:297: ConvergenceWarning: Solver terminated early (max_iter=5000).  Consider pre-processing your data with StandardScaler or MinMaxScaler.\n",
      "  warnings.warn(\n"
     ]
    },
    {
     "data": {
      "text/html": [
       "<style>#sk-container-id-1 {color: black;}#sk-container-id-1 pre{padding: 0;}#sk-container-id-1 div.sk-toggleable {background-color: white;}#sk-container-id-1 label.sk-toggleable__label {cursor: pointer;display: block;width: 100%;margin-bottom: 0;padding: 0.3em;box-sizing: border-box;text-align: center;}#sk-container-id-1 label.sk-toggleable__label-arrow:before {content: \"▸\";float: left;margin-right: 0.25em;color: #696969;}#sk-container-id-1 label.sk-toggleable__label-arrow:hover:before {color: black;}#sk-container-id-1 div.sk-estimator:hover label.sk-toggleable__label-arrow:before {color: black;}#sk-container-id-1 div.sk-toggleable__content {max-height: 0;max-width: 0;overflow: hidden;text-align: left;background-color: #f0f8ff;}#sk-container-id-1 div.sk-toggleable__content pre {margin: 0.2em;color: black;border-radius: 0.25em;background-color: #f0f8ff;}#sk-container-id-1 input.sk-toggleable__control:checked~div.sk-toggleable__content {max-height: 200px;max-width: 100%;overflow: auto;}#sk-container-id-1 input.sk-toggleable__control:checked~label.sk-toggleable__label-arrow:before {content: \"▾\";}#sk-container-id-1 div.sk-estimator input.sk-toggleable__control:checked~label.sk-toggleable__label {background-color: #d4ebff;}#sk-container-id-1 div.sk-label input.sk-toggleable__control:checked~label.sk-toggleable__label {background-color: #d4ebff;}#sk-container-id-1 input.sk-hidden--visually {border: 0;clip: rect(1px 1px 1px 1px);clip: rect(1px, 1px, 1px, 1px);height: 1px;margin: -1px;overflow: hidden;padding: 0;position: absolute;width: 1px;}#sk-container-id-1 div.sk-estimator {font-family: monospace;background-color: #f0f8ff;border: 1px dotted black;border-radius: 0.25em;box-sizing: border-box;margin-bottom: 0.5em;}#sk-container-id-1 div.sk-estimator:hover {background-color: #d4ebff;}#sk-container-id-1 div.sk-parallel-item::after {content: \"\";width: 100%;border-bottom: 1px solid gray;flex-grow: 1;}#sk-container-id-1 div.sk-label:hover label.sk-toggleable__label {background-color: #d4ebff;}#sk-container-id-1 div.sk-serial::before {content: \"\";position: absolute;border-left: 1px solid gray;box-sizing: border-box;top: 0;bottom: 0;left: 50%;z-index: 0;}#sk-container-id-1 div.sk-serial {display: flex;flex-direction: column;align-items: center;background-color: white;padding-right: 0.2em;padding-left: 0.2em;position: relative;}#sk-container-id-1 div.sk-item {position: relative;z-index: 1;}#sk-container-id-1 div.sk-parallel {display: flex;align-items: stretch;justify-content: center;background-color: white;position: relative;}#sk-container-id-1 div.sk-item::before, #sk-container-id-1 div.sk-parallel-item::before {content: \"\";position: absolute;border-left: 1px solid gray;box-sizing: border-box;top: 0;bottom: 0;left: 50%;z-index: -1;}#sk-container-id-1 div.sk-parallel-item {display: flex;flex-direction: column;z-index: 1;position: relative;background-color: white;}#sk-container-id-1 div.sk-parallel-item:first-child::after {align-self: flex-end;width: 50%;}#sk-container-id-1 div.sk-parallel-item:last-child::after {align-self: flex-start;width: 50%;}#sk-container-id-1 div.sk-parallel-item:only-child::after {width: 0;}#sk-container-id-1 div.sk-dashed-wrapped {border: 1px dashed gray;margin: 0 0.4em 0.5em 0.4em;box-sizing: border-box;padding-bottom: 0.4em;background-color: white;}#sk-container-id-1 div.sk-label label {font-family: monospace;font-weight: bold;display: inline-block;line-height: 1.2em;}#sk-container-id-1 div.sk-label-container {text-align: center;}#sk-container-id-1 div.sk-container {/* jupyter's `normalize.less` sets `[hidden] { display: none; }` but bootstrap.min.css set `[hidden] { display: none !important; }` so we also need the `!important` here to be able to override the default hidden behavior on the sphinx rendered scikit-learn.org. See: https://github.com/scikit-learn/scikit-learn/issues/21755 */display: inline-block !important;position: relative;}#sk-container-id-1 div.sk-text-repr-fallback {display: none;}</style><div id=\"sk-container-id-1\" class=\"sk-top-container\"><div class=\"sk-text-repr-fallback\"><pre>GridSearchCV(estimator=Pipeline(steps=[(&#x27;scale&#x27;, StandardScaler()),\n",
       "                                       (&#x27;feature_selection&#x27;,\n",
       "                                        SelectFromModel(estimator=LinearSVC(dual=False,\n",
       "                                                                            penalty=&#x27;l1&#x27;),\n",
       "                                                        threshold=&#x27;mean&#x27;)),\n",
       "                                       (&#x27;clf&#x27;, SVC(max_iter=5000))]),\n",
       "             param_grid={&#x27;clf__kernel&#x27;: (&#x27;linear&#x27;, &#x27;rbf&#x27;),\n",
       "                         &#x27;feature_selection__threshold&#x27;: (None, &#x27;mean&#x27;)},\n",
       "             verbose=10)</pre><b>In a Jupyter environment, please rerun this cell to show the HTML representation or trust the notebook. <br />On GitHub, the HTML representation is unable to render, please try loading this page with nbviewer.org.</b></div><div class=\"sk-container\" hidden><div class=\"sk-item sk-dashed-wrapped\"><div class=\"sk-label-container\"><div class=\"sk-label sk-toggleable\"><input class=\"sk-toggleable__control sk-hidden--visually\" id=\"sk-estimator-id-1\" type=\"checkbox\" ><label for=\"sk-estimator-id-1\" class=\"sk-toggleable__label sk-toggleable__label-arrow\">GridSearchCV</label><div class=\"sk-toggleable__content\"><pre>GridSearchCV(estimator=Pipeline(steps=[(&#x27;scale&#x27;, StandardScaler()),\n",
       "                                       (&#x27;feature_selection&#x27;,\n",
       "                                        SelectFromModel(estimator=LinearSVC(dual=False,\n",
       "                                                                            penalty=&#x27;l1&#x27;),\n",
       "                                                        threshold=&#x27;mean&#x27;)),\n",
       "                                       (&#x27;clf&#x27;, SVC(max_iter=5000))]),\n",
       "             param_grid={&#x27;clf__kernel&#x27;: (&#x27;linear&#x27;, &#x27;rbf&#x27;),\n",
       "                         &#x27;feature_selection__threshold&#x27;: (None, &#x27;mean&#x27;)},\n",
       "             verbose=10)</pre></div></div></div><div class=\"sk-parallel\"><div class=\"sk-parallel-item\"><div class=\"sk-item\"><div class=\"sk-label-container\"><div class=\"sk-label sk-toggleable\"><input class=\"sk-toggleable__control sk-hidden--visually\" id=\"sk-estimator-id-2\" type=\"checkbox\" ><label for=\"sk-estimator-id-2\" class=\"sk-toggleable__label sk-toggleable__label-arrow\">estimator: Pipeline</label><div class=\"sk-toggleable__content\"><pre>Pipeline(steps=[(&#x27;scale&#x27;, StandardScaler()),\n",
       "                (&#x27;feature_selection&#x27;,\n",
       "                 SelectFromModel(estimator=LinearSVC(dual=False, penalty=&#x27;l1&#x27;),\n",
       "                                 threshold=&#x27;mean&#x27;)),\n",
       "                (&#x27;clf&#x27;, SVC(max_iter=5000))])</pre></div></div></div><div class=\"sk-serial\"><div class=\"sk-item\"><div class=\"sk-serial\"><div class=\"sk-item\"><div class=\"sk-estimator sk-toggleable\"><input class=\"sk-toggleable__control sk-hidden--visually\" id=\"sk-estimator-id-3\" type=\"checkbox\" ><label for=\"sk-estimator-id-3\" class=\"sk-toggleable__label sk-toggleable__label-arrow\">StandardScaler</label><div class=\"sk-toggleable__content\"><pre>StandardScaler()</pre></div></div></div><div class=\"sk-item sk-dashed-wrapped\"><div class=\"sk-label-container\"><div class=\"sk-label sk-toggleable\"><input class=\"sk-toggleable__control sk-hidden--visually\" id=\"sk-estimator-id-4\" type=\"checkbox\" ><label for=\"sk-estimator-id-4\" class=\"sk-toggleable__label sk-toggleable__label-arrow\">feature_selection: SelectFromModel</label><div class=\"sk-toggleable__content\"><pre>SelectFromModel(estimator=LinearSVC(dual=False, penalty=&#x27;l1&#x27;), threshold=&#x27;mean&#x27;)</pre></div></div></div><div class=\"sk-parallel\"><div class=\"sk-parallel-item\"><div class=\"sk-item\"><div class=\"sk-label-container\"><div class=\"sk-label sk-toggleable\"><input class=\"sk-toggleable__control sk-hidden--visually\" id=\"sk-estimator-id-5\" type=\"checkbox\" ><label for=\"sk-estimator-id-5\" class=\"sk-toggleable__label sk-toggleable__label-arrow\">estimator: LinearSVC</label><div class=\"sk-toggleable__content\"><pre>LinearSVC(dual=False, penalty=&#x27;l1&#x27;)</pre></div></div></div><div class=\"sk-serial\"><div class=\"sk-item\"><div class=\"sk-estimator sk-toggleable\"><input class=\"sk-toggleable__control sk-hidden--visually\" id=\"sk-estimator-id-6\" type=\"checkbox\" ><label for=\"sk-estimator-id-6\" class=\"sk-toggleable__label sk-toggleable__label-arrow\">LinearSVC</label><div class=\"sk-toggleable__content\"><pre>LinearSVC(dual=False, penalty=&#x27;l1&#x27;)</pre></div></div></div></div></div></div></div></div><div class=\"sk-item\"><div class=\"sk-estimator sk-toggleable\"><input class=\"sk-toggleable__control sk-hidden--visually\" id=\"sk-estimator-id-7\" type=\"checkbox\" ><label for=\"sk-estimator-id-7\" class=\"sk-toggleable__label sk-toggleable__label-arrow\">SVC</label><div class=\"sk-toggleable__content\"><pre>SVC(max_iter=5000)</pre></div></div></div></div></div></div></div></div></div></div></div></div>"
      ],
      "text/plain": [
       "GridSearchCV(estimator=Pipeline(steps=[('scale', StandardScaler()),\n",
       "                                       ('feature_selection',\n",
       "                                        SelectFromModel(estimator=LinearSVC(dual=False,\n",
       "                                                                            penalty='l1'),\n",
       "                                                        threshold='mean')),\n",
       "                                       ('clf', SVC(max_iter=5000))]),\n",
       "             param_grid={'clf__kernel': ('linear', 'rbf'),\n",
       "                         'feature_selection__threshold': (None, 'mean')},\n",
       "             verbose=10)"
      ]
     },
     "execution_count": 10,
     "metadata": {},
     "output_type": "execute_result"
    }
   ],
   "source": [
    "#parameters for gridSearch\n",
    "parameters = {\n",
    "    'feature_selection__threshold': (None, 'mean'), \n",
    "    'clf__kernel': ('linear', 'rbf')\n",
    "}\n",
    "\n",
    "#Perform GridSearch\n",
    "grid_search = GridSearchCV(pipe, param_grid=parameters, verbose=10)\n",
    "grid_search.fit(features_train, target_train)"
   ]
  },
  {
   "cell_type": "code",
   "execution_count": 11,
   "id": "22b31bc7-fa37-4805-a0b5-5bf63499a3bd",
   "metadata": {},
   "outputs": [],
   "source": [
    "target_predicted = grid_search.predict(features_test)"
   ]
  },
  {
   "cell_type": "code",
   "execution_count": 12,
   "id": "d87f1dc6-ebfe-489c-9153-f1ce6a2b71e0",
   "metadata": {},
   "outputs": [
    {
     "name": "stdout",
     "output_type": "stream",
     "text": [
      "Default-Score des Klassifizierers: Accuracy= 0.40694285714285716 \n",
      "\n",
      "              precision    recall  f1-score   support\n",
      "\n",
      "           1       0.00      0.00      0.00       648\n",
      "           2       0.82      0.44      0.58     56333\n",
      "           3       0.13      0.27      0.18     11278\n",
      "           4       0.03      0.24      0.05      1741\n",
      "\n",
      "    accuracy                           0.41     70000\n",
      "   macro avg       0.24      0.24      0.20     70000\n",
      "weighted avg       0.68      0.41      0.49     70000\n",
      "\n"
     ]
    },
    {
     "name": "stderr",
     "output_type": "stream",
     "text": [
      "C:\\Users\\forte\\AppData\\Local\\Programs\\Python\\Python312\\Lib\\site-packages\\sklearn\\metrics\\_classification.py:1471: UndefinedMetricWarning: Precision and F-score are ill-defined and being set to 0.0 in labels with no predicted samples. Use `zero_division` parameter to control this behavior.\n",
      "  _warn_prf(average, modifier, msg_start, len(result))\n",
      "C:\\Users\\forte\\AppData\\Local\\Programs\\Python\\Python312\\Lib\\site-packages\\sklearn\\metrics\\_classification.py:1471: UndefinedMetricWarning: Precision and F-score are ill-defined and being set to 0.0 in labels with no predicted samples. Use `zero_division` parameter to control this behavior.\n",
      "  _warn_prf(average, modifier, msg_start, len(result))\n",
      "C:\\Users\\forte\\AppData\\Local\\Programs\\Python\\Python312\\Lib\\site-packages\\sklearn\\metrics\\_classification.py:1471: UndefinedMetricWarning: Precision and F-score are ill-defined and being set to 0.0 in labels with no predicted samples. Use `zero_division` parameter to control this behavior.\n",
      "  _warn_prf(average, modifier, msg_start, len(result))\n"
     ]
    }
   ],
   "source": [
    "#Evaluate the model\n",
    "print(\"Default-Score des Klassifizierers: Accuracy=\", grid_search.score(features_test, target_test), \"\\n\")\n",
    "print(classification_report(target_test, target_predicted))"
   ]
  }
 ],
 "metadata": {
  "kernelspec": {
   "display_name": "Python 3 (ipykernel)",
   "language": "python",
   "name": "python3"
  },
  "language_info": {
   "codemirror_mode": {
    "name": "ipython",
    "version": 3
   },
   "file_extension": ".py",
   "mimetype": "text/x-python",
   "name": "python",
   "nbconvert_exporter": "python",
   "pygments_lexer": "ipython3",
   "version": "3.12.0"
  }
 },
 "nbformat": 4,
 "nbformat_minor": 5
}
