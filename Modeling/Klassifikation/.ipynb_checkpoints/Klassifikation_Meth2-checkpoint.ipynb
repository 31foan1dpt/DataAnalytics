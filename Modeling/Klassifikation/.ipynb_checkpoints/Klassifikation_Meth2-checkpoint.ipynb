{
 "cells": [
  {
   "cell_type": "code",
   "execution_count": 1,
   "id": "988d88ef-1315-47e6-bb02-0183d9ffdd5b",
   "metadata": {},
   "outputs": [],
   "source": [
    "#try out other model --> LogisticRegression\n",
    "\n",
    "import pandas as pd\n",
    "from sklearn.preprocessing import StandardScaler, LabelEncoder\n",
    "from sklearn.model_selection import train_test_split, GridSearchCV\n",
    "from sklearn.linear_model import LogisticRegression\n",
    "from sklearn.pipeline import Pipeline\n",
    "from sklearn.feature_selection import SelectFromModel\n",
    "from sklearn.metrics import classification_report, confusion_matrix\n",
    "from sklearn.model_selection import cross_val_predict\n",
    "from sklearn.svm import LinearSVC\n",
    "from imblearn.over_sampling import SMOTE"
   ]
  },
  {
   "cell_type": "code",
   "execution_count": 2,
   "id": "d536b5f0-8576-4966-bdb9-49084947912f",
   "metadata": {},
   "outputs": [],
   "source": [
    "df_accidents = pd.read_csv('data/MA3_finished.csv', index_col='ID')"
   ]
  },
  {
   "cell_type": "code",
   "execution_count": 3,
   "id": "3bf5905a-6b7c-40c9-ac00-5439d5162ad1",
   "metadata": {},
   "outputs": [],
   "source": [
    "df_accidents = df_accidents.sample(n=1000000, random_state=1)"
   ]
  },
  {
   "cell_type": "code",
   "execution_count": 4,
   "id": "574fc082-a3a7-45e5-adaf-bb517c9e4105",
   "metadata": {},
   "outputs": [],
   "source": [
    "features = df_accidents[['Weather_Condition', 'Amenity', 'Bump', 'Crossing', 'Give_Way', 'Junction', 'No_Exit',\n",
    "                         'Railway', 'Roundabout', 'Station', 'Stop', 'Traffic_Calming', 'Traffic_Signal', 'Turning_Loop']]"
   ]
  },
  {
   "cell_type": "code",
   "execution_count": 5,
   "id": "84d2c669-8628-41ed-a298-0c430786d40d",
   "metadata": {},
   "outputs": [
    {
     "name": "stderr",
     "output_type": "stream",
     "text": [
      "C:\\Users\\forte\\AppData\\Local\\Temp\\ipykernel_18500\\1052699683.py:3: SettingWithCopyWarning: \n",
      "A value is trying to be set on a copy of a slice from a DataFrame.\n",
      "Try using .loc[row_indexer,col_indexer] = value instead\n",
      "\n",
      "See the caveats in the documentation: https://pandas.pydata.org/pandas-docs/stable/user_guide/indexing.html#returning-a-view-versus-a-copy\n",
      "  features['Weather_Condition']= le.fit_transform(features['Weather_Condition'])\n"
     ]
    }
   ],
   "source": [
    "#Encoding text/categorical variables\n",
    "le = LabelEncoder()\n",
    "features['Weather_Condition']= le.fit_transform(features['Weather_Condition'])"
   ]
  },
  {
   "cell_type": "code",
   "execution_count": 6,
   "id": "eade4bb5-d007-4216-8f88-d0502160a969",
   "metadata": {},
   "outputs": [],
   "source": [
    "#target\n",
    "target = df_accidents['Severity']"
   ]
  },
  {
   "cell_type": "code",
   "execution_count": 7,
   "id": "d94b80b3-3583-4c83-b360-8a555024b948",
   "metadata": {},
   "outputs": [],
   "source": [
    "#(80/20 split)\n",
    "features_train, features_test, target_train, target_test = train_test_split(features, target, test_size=0.2, random_state=42)"
   ]
  },
  {
   "cell_type": "code",
   "execution_count": 8,
   "id": "43c0d474-c2f2-4c35-9248-8cb9f8af8883",
   "metadata": {},
   "outputs": [],
   "source": [
    "smote = SMOTE(sampling_strategy='auto', random_state=42)\n",
    "features_train, target_train = smote.fit_resample(features_train, target_train)"
   ]
  },
  {
   "cell_type": "code",
   "execution_count": 9,
   "id": "33b9a9e1-f1e7-4930-a3df-d393357b0e09",
   "metadata": {},
   "outputs": [],
   "source": [
    "pipe = Pipeline([\n",
    "    ('scale', StandardScaler()),\n",
    "    ('feature_selection', SelectFromModel(LinearSVC(penalty=\"l1\", dual=False), threshold='mean')),\n",
    "    ('clf', LogisticRegression())  \n",
    "])"
   ]
  },
  {
   "cell_type": "code",
   "execution_count": null,
   "id": "0913567c-e1d9-4261-88bc-7aaa8b2f7ea5",
   "metadata": {},
   "outputs": [
    {
     "name": "stdout",
     "output_type": "stream",
     "text": [
      "Fitting 5 folds for each of 4 candidates, totalling 20 fits\n",
      "[CV 1/5; 1/4] START clf__fit_intercept=True, clf__n_jobs=-1, feature_selection__threshold=None\n",
      "[CV 1/5; 1/4] END clf__fit_intercept=True, clf__n_jobs=-1, feature_selection__threshold=None;, score=0.365 total time=  21.3s\n",
      "[CV 2/5; 1/4] START clf__fit_intercept=True, clf__n_jobs=-1, feature_selection__threshold=None\n",
      "[CV 2/5; 1/4] END clf__fit_intercept=True, clf__n_jobs=-1, feature_selection__threshold=None;, score=0.364 total time=  15.5s\n",
      "[CV 3/5; 1/4] START clf__fit_intercept=True, clf__n_jobs=-1, feature_selection__threshold=None\n",
      "[CV 3/5; 1/4] END clf__fit_intercept=True, clf__n_jobs=-1, feature_selection__threshold=None;, score=0.366 total time=  17.0s\n",
      "[CV 4/5; 1/4] START clf__fit_intercept=True, clf__n_jobs=-1, feature_selection__threshold=None\n",
      "[CV 4/5; 1/4] END clf__fit_intercept=True, clf__n_jobs=-1, feature_selection__threshold=None;, score=0.365 total time=  15.1s\n",
      "[CV 5/5; 1/4] START clf__fit_intercept=True, clf__n_jobs=-1, feature_selection__threshold=None\n",
      "[CV 5/5; 1/4] END clf__fit_intercept=True, clf__n_jobs=-1, feature_selection__threshold=None;, score=0.365 total time=  15.5s\n",
      "[CV 1/5; 2/4] START clf__fit_intercept=True, clf__n_jobs=-1, feature_selection__threshold=mean\n",
      "[CV 1/5; 2/4] END clf__fit_intercept=True, clf__n_jobs=-1, feature_selection__threshold=mean;, score=0.361 total time=  14.7s\n",
      "[CV 2/5; 2/4] START clf__fit_intercept=True, clf__n_jobs=-1, feature_selection__threshold=mean\n",
      "[CV 2/5; 2/4] END clf__fit_intercept=True, clf__n_jobs=-1, feature_selection__threshold=mean;, score=0.360 total time=  12.5s\n",
      "[CV 3/5; 2/4] START clf__fit_intercept=True, clf__n_jobs=-1, feature_selection__threshold=mean\n",
      "[CV 3/5; 2/4] END clf__fit_intercept=True, clf__n_jobs=-1, feature_selection__threshold=mean;, score=0.363 total time=  12.7s\n",
      "[CV 4/5; 2/4] START clf__fit_intercept=True, clf__n_jobs=-1, feature_selection__threshold=mean\n",
      "[CV 4/5; 2/4] END clf__fit_intercept=True, clf__n_jobs=-1, feature_selection__threshold=mean;, score=0.362 total time=  13.1s\n",
      "[CV 5/5; 2/4] START clf__fit_intercept=True, clf__n_jobs=-1, feature_selection__threshold=mean\n",
      "[CV 5/5; 2/4] END clf__fit_intercept=True, clf__n_jobs=-1, feature_selection__threshold=mean;, score=0.361 total time=  12.8s\n",
      "[CV 1/5; 3/4] START clf__fit_intercept=False, clf__n_jobs=-1, feature_selection__threshold=None\n",
      "[CV 1/5; 3/4] END clf__fit_intercept=False, clf__n_jobs=-1, feature_selection__threshold=None;, score=0.364 total time=  23.9s\n",
      "[CV 2/5; 3/4] START clf__fit_intercept=False, clf__n_jobs=-1, feature_selection__threshold=None\n",
      "[CV 2/5; 3/4] END clf__fit_intercept=False, clf__n_jobs=-1, feature_selection__threshold=None;, score=0.364 total time=  13.7s\n",
      "[CV 3/5; 3/4] START clf__fit_intercept=False, clf__n_jobs=-1, feature_selection__threshold=None\n",
      "[CV 3/5; 3/4] END clf__fit_intercept=False, clf__n_jobs=-1, feature_selection__threshold=None;, score=0.367 total time=  13.7s\n",
      "[CV 4/5; 3/4] START clf__fit_intercept=False, clf__n_jobs=-1, feature_selection__threshold=None\n",
      "[CV 4/5; 3/4] END clf__fit_intercept=False, clf__n_jobs=-1, feature_selection__threshold=None;, score=0.365 total time=  15.3s\n",
      "[CV 5/5; 3/4] START clf__fit_intercept=False, clf__n_jobs=-1, feature_selection__threshold=None\n",
      "[CV 5/5; 3/4] END clf__fit_intercept=False, clf__n_jobs=-1, feature_selection__threshold=None;, score=0.365 total time=  14.6s\n",
      "[CV 1/5; 4/4] START clf__fit_intercept=False, clf__n_jobs=-1, feature_selection__threshold=mean\n",
      "[CV 1/5; 4/4] END clf__fit_intercept=False, clf__n_jobs=-1, feature_selection__threshold=mean;, score=0.363 total time=  14.0s\n",
      "[CV 2/5; 4/4] START clf__fit_intercept=False, clf__n_jobs=-1, feature_selection__threshold=mean\n",
      "[CV 2/5; 4/4] END clf__fit_intercept=False, clf__n_jobs=-1, feature_selection__threshold=mean;, score=0.362 total time=  12.4s\n",
      "[CV 3/5; 4/4] START clf__fit_intercept=False, clf__n_jobs=-1, feature_selection__threshold=mean\n",
      "[CV 3/5; 4/4] END clf__fit_intercept=False, clf__n_jobs=-1, feature_selection__threshold=mean;, score=0.364 total time=  12.4s\n",
      "[CV 4/5; 4/4] START clf__fit_intercept=False, clf__n_jobs=-1, feature_selection__threshold=mean\n",
      "[CV 4/5; 4/4] END clf__fit_intercept=False, clf__n_jobs=-1, feature_selection__threshold=mean;, score=0.363 total time=  11.9s\n",
      "[CV 5/5; 4/4] START clf__fit_intercept=False, clf__n_jobs=-1, feature_selection__threshold=mean\n",
      "[CV 5/5; 4/4] END clf__fit_intercept=False, clf__n_jobs=-1, feature_selection__threshold=mean;, score=0.363 total time=  12.0s\n"
     ]
    }
   ],
   "source": [
    "#parameters for gridSearch\n",
    "parameters = {\n",
    "    'feature_selection__threshold': (None, 'mean'), \n",
    "    'clf__fit_intercept': [True, False],\n",
    "    'clf__n_jobs': [-1]\n",
    "}\n",
    "\n",
    "#Perform GridSearch\n",
    "grid_search = GridSearchCV(pipe, param_grid=parameters, verbose=10)\n",
    "grid_search.fit(features_train, target_train)\n"
   ]
  },
  {
   "cell_type": "code",
   "execution_count": null,
   "id": "2d28cc90-0797-4696-a691-342838bfdca4",
   "metadata": {},
   "outputs": [],
   "source": [
    "target_predicted = grid_search.predict(features_test)"
   ]
  },
  {
   "cell_type": "code",
   "execution_count": null,
   "id": "5eb8bf1e-0336-4b06-80d3-77942f9961ed",
   "metadata": {},
   "outputs": [],
   "source": [
    "#Evaluate the model\n",
    "print(\"Default-Score des Klassifizierers: Accuracy=\", grid_search.score(features_test, target_test), \"\\n\")\n",
    "print(classification_report(target_test, target_predicted))\n",
    "print(confusion_matrix(target_test,target_predicted))"
   ]
  },
  {
   "cell_type": "code",
   "execution_count": null,
   "id": "1c55944d-de2c-4311-9531-fa9fea347c6d",
   "metadata": {},
   "outputs": [],
   "source": []
  }
 ],
 "metadata": {
  "kernelspec": {
   "display_name": "Python 3 (ipykernel)",
   "language": "python",
   "name": "python3"
  },
  "language_info": {
   "codemirror_mode": {
    "name": "ipython",
    "version": 3
   },
   "file_extension": ".py",
   "mimetype": "text/x-python",
   "name": "python",
   "nbconvert_exporter": "python",
   "pygments_lexer": "ipython3",
   "version": "3.12.0"
  }
 },
 "nbformat": 4,
 "nbformat_minor": 5
}
