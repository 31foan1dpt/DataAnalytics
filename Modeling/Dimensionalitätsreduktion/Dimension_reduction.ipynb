{
 "cells": [
  {
   "cell_type": "code",
   "execution_count": 1,
   "id": "4a7740c1-5897-4a43-8f7f-1fcbf170fa1a",
   "metadata": {},
   "outputs": [],
   "source": [
    "from sklearn import svm, metrics\n",
    "from sklearn.pipeline import Pipeline\n",
    "from sklearn.feature_selection import VarianceThreshold\n",
    "from sklearn.model_selection import train_test_split\n",
    "from sklearn.preprocessing import LabelEncoder, StandardScaler\n",
    "import pandas as pd\n",
    "from imblearn.over_sampling import SMOTE"
   ]
  },
  {
   "cell_type": "code",
   "execution_count": 2,
   "id": "a631738d-51cc-418b-a30c-3735cba8e7ee",
   "metadata": {},
   "outputs": [],
   "source": [
    "accidents = pd.read_csv('../../data/MA3_finished.csv', index_col='ID')\n",
    "accidents = accidents.dropna()\n",
    "accidents = accidents.sample(n=70000, random_state=1)"
   ]
  },
  {
   "cell_type": "code",
   "execution_count": 3,
   "id": "9aa4ea5e-3fab-4eb3-be8a-a705cc6e2a24",
   "metadata": {},
   "outputs": [
    {
     "name": "stdout",
     "output_type": "stream",
     "text": [
      "         Unnamed: 0      Severity     Start_Lat     Start_Lng  Distance(mi)  \\\n",
      "count  7.000000e+04  70000.000000  70000.000000  70000.000000  70000.000000   \n",
      "mean   3.511065e+06      2.203957     36.194397    -94.511348      0.567594   \n",
      "std    2.042222e+06      0.482484      5.121751     17.269038      1.842401   \n",
      "min    2.400000e+01      1.000000     24.599692   -124.471670      0.000000   \n",
      "25%    1.740537e+06      2.000000     33.277239   -117.132985      0.000000   \n",
      "50%    3.504510e+06      2.000000     35.834835    -87.653003      0.035000   \n",
      "75%    5.291416e+06      2.000000     40.121849    -80.365944      0.483000   \n",
      "max    7.051429e+06      4.000000     48.986462    -69.220414    176.279999   \n",
      "\n",
      "       Temperature(F)   Humidity(%)  Pressure(in)  Visibility(mi)  \\\n",
      "count    70000.000000  70000.000000  70000.000000    70000.000000   \n",
      "mean        61.824187     64.411800     29.514970        9.102158   \n",
      "std         19.054524     22.805129      1.022298        2.571070   \n",
      "min        -27.000000      1.000000     19.860000        0.000000   \n",
      "25%         49.000000     48.000000     29.340000       10.000000   \n",
      "50%         64.000000     67.000000     29.840000       10.000000   \n",
      "75%         76.000000     84.000000     30.020000       10.000000   \n",
      "max        172.000000    100.000000     56.540000       80.000000   \n",
      "\n",
      "       Wind_Speed(mph)          Year         Month           Day  \\\n",
      "count     70000.000000  70000.000000  70000.000000  70000.000000   \n",
      "mean          7.710206   2020.020257      6.680114      2.597886   \n",
      "std           6.212866      1.862812      3.636950      1.807874   \n",
      "min           0.000000   2016.000000      1.000000      0.000000   \n",
      "25%           4.600000   2019.000000      3.000000      1.000000   \n",
      "50%           7.000000   2020.000000      7.000000      3.000000   \n",
      "75%          10.400000   2022.000000     10.000000      4.000000   \n",
      "max         822.800000   2023.000000     12.000000      6.000000   \n",
      "\n",
      "               Hour      Duration  \n",
      "count  70000.000000  7.000000e+04  \n",
      "mean      12.423086  2.694178e+04  \n",
      "std        5.444609  7.813946e+05  \n",
      "min        0.000000  3.300000e+02  \n",
      "25%        8.000000  2.010000e+03  \n",
      "50%       13.000000  4.501000e+03  \n",
      "75%       17.000000  7.512000e+03  \n",
      "max       23.000000  3.154536e+07  \n"
     ]
    }
   ],
   "source": [
    "print(accidents.describe())\n",
    "\n",
    "#count = Anzahl der Daten\n",
    "#mean = Mittelwert\n",
    "#std = Standardabweichung\n",
    "#Min & Max werte\n",
    "#Quartile (25%, 50%, 75%):"
   ]
  },
  {
   "cell_type": "code",
   "execution_count": 4,
   "id": "f799a18b-9e3b-477e-a888-3d42e00dad4d",
   "metadata": {},
   "outputs": [
    {
     "name": "stdout",
     "output_type": "stream",
     "text": [
      "       Temperature(F)   Humidity(%)  Pressure(in)  Visibility(mi)  \\\n",
      "count    70000.000000  70000.000000  70000.000000    70000.000000   \n",
      "mean        61.824187     64.411800     29.514970        9.102158   \n",
      "std         19.054524     22.805129      1.022298        2.571070   \n",
      "min        -27.000000      1.000000     19.860000        0.000000   \n",
      "25%         49.000000     48.000000     29.340000       10.000000   \n",
      "50%         64.000000     67.000000     29.840000       10.000000   \n",
      "75%         76.000000     84.000000     30.020000       10.000000   \n",
      "max        172.000000    100.000000     56.540000       80.000000   \n",
      "\n",
      "       Wind_Speed(mph)  \n",
      "count     70000.000000  \n",
      "mean          7.710206  \n",
      "std           6.212866  \n",
      "min           0.000000  \n",
      "25%           4.600000  \n",
      "50%           7.000000  \n",
      "75%          10.400000  \n",
      "max         822.800000  \n"
     ]
    }
   ],
   "source": [
    "#featureselection\n",
    "X = accidents[['Temperature(F)', 'Humidity(%)', 'Pressure(in)', 'Visibility(mi)', 'Wind_Speed(mph)',\n",
    "               'Weather_Condition', 'Amenity', 'Bump', 'Crossing', 'Give_Way', 'Junction', 'No_Exit',\n",
    "               'Railway', 'Roundabout', 'Station', 'Stop', 'Traffic_Calming', 'Traffic_Signal', 'Turning_Loop']]\n",
    "\n",
    "y = accidents['Severity']\n",
    "\n",
    "#Encoding text/categorical variables\n",
    "le = LabelEncoder()\n",
    "X.loc[:,'Weather_Condition']= le.fit_transform(X['Weather_Condition'])\n",
    "\n",
    "print(X.describe())"
   ]
  },
  {
   "cell_type": "code",
   "execution_count": 5,
   "id": "e68760c1-3b57-4d32-bafa-87fcdea0d08f",
   "metadata": {},
   "outputs": [
    {
     "name": "stdout",
     "output_type": "stream",
     "text": [
      "X_train Shape: (35000, 19)\n",
      "y_train Shape: (35000,)\n"
     ]
    }
   ],
   "source": [
    "# Feature-Selection und SVC-Classifier\n",
    "dim_reduction = VarianceThreshold(0.1)\n",
    "classifier = svm.SVC()\n",
    "\n",
    "# Trainings- und Testdaten aufteilen\n",
    "X_train, X_test1, y_train, y_test1 = train_test_split(X, y, test_size=0.5, random_state=42)\n",
    "X_dev, X_test, y_dev, y_test = train_test_split(X_test1, y_test1, test_size=0.5, random_state=42)\n",
    "\n",
    "print(\"X_train Shape:\", X_train.shape)\n",
    "print(\"y_train Shape:\", y_train.shape)"
   ]
  },
  {
   "cell_type": "code",
   "execution_count": 6,
   "id": "365fa4a5-131b-48e0-8807-c18186134968",
   "metadata": {},
   "outputs": [],
   "source": [
    "#Balancing severity\n",
    "smote = SMOTE(sampling_strategy='auto', random_state=42)\n",
    "X_train, y_train = smote.fit_resample(X_train, y_train)"
   ]
  },
  {
   "cell_type": "code",
   "execution_count": 7,
   "id": "3475ffe2-9abf-4241-977b-e660879e6815",
   "metadata": {},
   "outputs": [
    {
     "name": "stdout",
     "output_type": "stream",
     "text": [
      "Index(['Unnamed: 0', 'Severity', 'Start_Time', 'End_Time', 'Start_Lat',\n",
      "       'Start_Lng', 'Distance(mi)', 'Description', 'Street', 'City', 'County',\n",
      "       'State', 'Zipcode', 'Country', 'Timezone', 'Airport_Code',\n",
      "       'Temperature(F)', 'Humidity(%)', 'Pressure(in)', 'Visibility(mi)',\n",
      "       'Wind_Direction', 'Wind_Speed(mph)', 'Weather_Condition', 'Amenity',\n",
      "       'Bump', 'Crossing', 'Give_Way', 'Junction', 'No_Exit', 'Railway',\n",
      "       'Roundabout', 'Station', 'Stop', 'Traffic_Calming', 'Traffic_Signal',\n",
      "       'Turning_Loop', 'Sunrise_Sunset', 'Civil_Twilight', 'Nautical_Twilight',\n",
      "       'Astronomical_Twilight', 'Year', 'Month', 'Day', 'Hour', 'Duration',\n",
      "       'State Name', 'Region', 'Division'],\n",
      "      dtype='object')\n"
     ]
    }
   ],
   "source": [
    "print(accidents.columns)"
   ]
  },
  {
   "cell_type": "code",
   "execution_count": null,
   "id": "213369a9-0150-437a-9d29-1f8ca47d45ef",
   "metadata": {},
   "outputs": [],
   "source": [
    "# Pipeline erstellen\n",
    "pipeline = Pipeline([\n",
    "    ('dim_reduction', dim_reduction),\n",
    "    ('classifier', classifier)\n",
    "])\n",
    "\n",
    "# Trainieren der Pipeline\n",
    "pipeline.fit(X_train, y_train)\n",
    "\n",
    "# Vorhersagen machen\n",
    "predicted_dev = pipeline.predict(X_dev)\n",
    "\n",
    "# Varianz der einzelnen Features ausgeben\n",
    "print(\"Varianzen der Features nach VarianceThreshold:\")\n",
    "print(dim_reduction.variances_)\n",
    "print(\"-----------------------------------------------------------------------\")\n",
    "# Bericht für die Pipeline ausgeben\n",
    "print(\"Classification Report für die Pipeline (VarianceThreshold + SVC):\")\n",
    "print(metrics.classification_report(y_dev, predicted_dev))\n"
   ]
  },
  {
   "cell_type": "code",
   "execution_count": null,
   "id": "b3f360d4-fcb6-4128-ab57-5675de9aff27",
   "metadata": {},
   "outputs": [],
   "source": [
    "#Ergebnise mit dem Classifier viel zu schlecht (nur Severity: 2) , weil man sich auf 70.0000 Daten begrenzen musste aufgrund der Durchlaufzeit.\n",
    "#Lösung: Einen anderen Classifier benutzen, womit man den ganzen Datensatz benutzen kann (siehe: Dimension_reduction_LGBM)"
   ]
  }
 ],
 "metadata": {
  "kernelspec": {
   "display_name": "Python 3 (ipykernel)",
   "language": "python",
   "name": "python3"
  },
  "language_info": {
   "codemirror_mode": {
    "name": "ipython",
    "version": 3
   },
   "file_extension": ".py",
   "mimetype": "text/x-python",
   "name": "python",
   "nbconvert_exporter": "python",
   "pygments_lexer": "ipython3",
   "version": "3.12.0"
  }
 },
 "nbformat": 4,
 "nbformat_minor": 5
}
