{
 "cells": [
  {
   "cell_type": "code",
   "execution_count": 1,
   "id": "0b6d3582-93cd-46fa-89f6-b7747f044b2a",
   "metadata": {},
   "outputs": [],
   "source": [
    "from sklearn import svm, metrics\n",
    "from sklearn.pipeline import Pipeline\n",
    "from sklearn.feature_selection import VarianceThreshold\n",
    "from sklearn.model_selection import train_test_split\n",
    "from sklearn.preprocessing import LabelEncoder, StandardScaler\n",
    "from lightgbm import LGBMClassifier\n",
    "import pandas as pd"
   ]
  },
  {
   "cell_type": "code",
   "execution_count": 2,
   "id": "2a23492e-ab8b-40ae-b57f-e1dc39161af0",
   "metadata": {},
   "outputs": [],
   "source": [
    "accidents = pd.read_csv('../../data/MA3_finished.csv', index_col='ID')"
   ]
  },
  {
   "cell_type": "code",
   "execution_count": 3,
   "id": "febf0bef-e1b8-410a-8e7e-02ad3b9c8183",
   "metadata": {},
   "outputs": [
    {
     "data": {
      "text/plain": [
       "Unnamed: 0                 int64\n",
       "Severity                   int64\n",
       "Start_Time                object\n",
       "End_Time                  object\n",
       "Start_Lat                float64\n",
       "Start_Lng                float64\n",
       "Distance(mi)             float64\n",
       "Description               object\n",
       "Street                    object\n",
       "City                      object\n",
       "County                    object\n",
       "State                     object\n",
       "Zipcode                   object\n",
       "Country                   object\n",
       "Timezone                  object\n",
       "Airport_Code              object\n",
       "Temperature(F)           float64\n",
       "Humidity(%)              float64\n",
       "Pressure(in)             float64\n",
       "Visibility(mi)           float64\n",
       "Wind_Direction            object\n",
       "Wind_Speed(mph)          float64\n",
       "Weather_Condition         object\n",
       "Amenity                     bool\n",
       "Bump                        bool\n",
       "Crossing                    bool\n",
       "Give_Way                    bool\n",
       "Junction                    bool\n",
       "No_Exit                     bool\n",
       "Railway                     bool\n",
       "Roundabout                  bool\n",
       "Station                     bool\n",
       "Stop                        bool\n",
       "Traffic_Calming             bool\n",
       "Traffic_Signal              bool\n",
       "Turning_Loop                bool\n",
       "Sunrise_Sunset            object\n",
       "Civil_Twilight            object\n",
       "Nautical_Twilight         object\n",
       "Astronomical_Twilight     object\n",
       "Year                       int64\n",
       "Month                      int64\n",
       "Day                        int64\n",
       "Hour                       int64\n",
       "Duration                 float64\n",
       "State Name                object\n",
       "Region                    object\n",
       "Division                  object\n",
       "dtype: object"
      ]
     },
     "execution_count": 3,
     "metadata": {},
     "output_type": "execute_result"
    }
   ],
   "source": [
    "accidents.dtypes"
   ]
  },
  {
   "cell_type": "code",
   "execution_count": 4,
   "id": "0853ccda-61e8-41f5-bc13-0e3b23fb5141",
   "metadata": {},
   "outputs": [
    {
     "data": {
      "text/plain": [
       "Index(['Weather_Condition', 'Amenity', 'Bump', 'Crossing', 'Give_Way',\n",
       "       'Junction', 'No_Exit', 'Railway', 'Roundabout', 'Station', 'Stop',\n",
       "       'Traffic_Calming', 'Traffic_Signal', 'Turning_Loop', 'Sunrise_Sunset',\n",
       "       'Severity', 'Start_Lng', 'Start_Lat', 'Temperature(F)', 'Humidity(%)',\n",
       "       'Pressure(in)', 'Visibility(mi)', 'Wind_Speed(mph)'],\n",
       "      dtype='object')"
      ]
     },
     "execution_count": 4,
     "metadata": {},
     "output_type": "execute_result"
    }
   ],
   "source": [
    "#featureselection\n",
    "#features to encode\n",
    "obj_bool_features = accidents[['Weather_Condition', 'Amenity', 'Bump', 'Crossing', 'Give_Way', 'Junction', 'No_Exit',\n",
    "                         'Railway', 'Roundabout', 'Station', 'Stop', 'Traffic_Calming', 'Traffic_Signal', 'Turning_Loop',\n",
    "                         'Sunrise_Sunset']]\n",
    "\n",
    "#encode features above\n",
    "le = LabelEncoder()\n",
    "#create copy of df\n",
    "accidents_encoded = pd.DataFrame()\n",
    "#LabelEncoder can only encode one column at a time --> forloop\n",
    "#obj_bool_feat = le.fit_transform(obj_bool_features)\n",
    "for X in obj_bool_features:\n",
    "    accidents_encoded[X] = le.fit_transform(accidents[X])\n",
    "\n",
    "#float/int features\n",
    "float_int_features = accidents[['Severity','Start_Lng', 'Start_Lat', 'Temperature(F)', 'Humidity(%)', \n",
    "                                'Pressure(in)', 'Visibility(mi)', 'Wind_Speed(mph)',]]\n",
    "\n",
    "for X in float_int_features:\n",
    "    accidents_encoded[X] = accidents[X]\n",
    "\n",
    "#check if combination worked \n",
    "accidents_encoded.columns"
   ]
  },
  {
   "cell_type": "code",
   "execution_count": 5,
   "id": "1ad069ec-a537-41b6-a7e2-b603345c3f2f",
   "metadata": {},
   "outputs": [
    {
     "name": "stdout",
     "output_type": "stream",
     "text": [
      "         Weather_Condition  Amenity  Bump  Crossing  Give_Way  Junction  \\\n",
      "0                       86        0     0         0         0         0   \n",
      "1                       83        0     0         0         0         0   \n",
      "2                       83        0     0         0         0         0   \n",
      "3                       60        0     0         0         0         0   \n",
      "4                       86        0     0         0         0         0   \n",
      "...                    ...      ...   ...       ...       ...       ...   \n",
      "7051551                 15        0     0         0         0         0   \n",
      "7051552                 15        0     0         0         0         0   \n",
      "7051553                 89        0     0         0         0         1   \n",
      "7051554                 15        0     0         0         0         0   \n",
      "7051555                 15        0     0         0         0         0   \n",
      "\n",
      "         No_Exit  Railway  Roundabout  Station  ...  Turning_Loop  \\\n",
      "0              0        0           0        0  ...             0   \n",
      "1              0        0           0        0  ...             0   \n",
      "2              0        0           0        0  ...             0   \n",
      "3              0        0           0        0  ...             0   \n",
      "4              0        0           0        0  ...             0   \n",
      "...          ...      ...         ...      ...  ...           ...   \n",
      "7051551        0        0           0        0  ...             0   \n",
      "7051552        0        0           0        0  ...             0   \n",
      "7051553        0        0           0        0  ...             0   \n",
      "7051554        0        0           0        0  ...             0   \n",
      "7051555        0        0           0        0  ...             0   \n",
      "\n",
      "         Sunrise_Sunset  Severity   Start_Lng  Start_Lat  Temperature(F)  \\\n",
      "0                     1         2  -84.032608  39.063148            36.0   \n",
      "1                     1         3  -84.205582  39.747753            35.1   \n",
      "2                     0         2  -84.188354  39.627781            36.0   \n",
      "3                     0         3  -82.925194  40.100590            37.9   \n",
      "4                     0         2  -84.230507  39.758274            34.0   \n",
      "...                 ...       ...         ...        ...             ...   \n",
      "7051551               0         2 -117.379360  34.002480            86.0   \n",
      "7051552               0         2 -117.148060  32.766960            70.0   \n",
      "7051553               0         2 -117.847790  33.775450            73.0   \n",
      "7051554               0         2 -118.403020  33.992460            71.0   \n",
      "7051555               0         2 -117.230920  34.133930            79.0   \n",
      "\n",
      "         Humidity(%)  Pressure(in)  Visibility(mi)  Wind_Speed(mph)  \n",
      "0              100.0         29.67            10.0              3.5  \n",
      "1               96.0         29.64             9.0              4.6  \n",
      "2               89.0         29.65             6.0              3.5  \n",
      "3               97.0         29.63             7.0              3.5  \n",
      "4              100.0         29.66             7.0              3.5  \n",
      "...              ...           ...             ...              ...  \n",
      "7051551         40.0         28.92            10.0             13.0  \n",
      "7051552         73.0         29.39            10.0              6.0  \n",
      "7051553         64.0         29.74            10.0             10.0  \n",
      "7051554         81.0         29.62            10.0              8.0  \n",
      "7051555         47.0         28.63             7.0              7.0  \n",
      "\n",
      "[7051556 rows x 23 columns]\n"
     ]
    }
   ],
   "source": [
    "#check if encoding worked \n",
    "print(accidents_encoded)"
   ]
  },
  {
   "cell_type": "code",
   "execution_count": 6,
   "id": "6fd46302-8646-4bcd-a94a-63f23129c79e",
   "metadata": {},
   "outputs": [
    {
     "name": "stdout",
     "output_type": "stream",
     "text": [
      "Severity\n",
      "2    5671502\n",
      "3    1136465\n",
      "4     178538\n",
      "1      65051\n",
      "Name: count, dtype: int64\n"
     ]
    }
   ],
   "source": [
    "#check amount of severity for each level\n",
    "print(accidents_encoded['Severity'].value_counts())"
   ]
  },
  {
   "cell_type": "code",
   "execution_count": 7,
   "id": "ddda19a8-5980-4188-9e40-e6cc148b875b",
   "metadata": {},
   "outputs": [
    {
     "name": "stdout",
     "output_type": "stream",
     "text": [
      "Weather_Condition    0\n",
      "Amenity              0\n",
      "Bump                 0\n",
      "Crossing             0\n",
      "Give_Way             0\n",
      "Junction             0\n",
      "No_Exit              0\n",
      "Railway              0\n",
      "Roundabout           0\n",
      "Station              0\n",
      "Stop                 0\n",
      "Traffic_Calming      0\n",
      "Traffic_Signal       0\n",
      "Turning_Loop         0\n",
      "Sunrise_Sunset       0\n",
      "Severity             0\n",
      "Start_Lng            0\n",
      "Start_Lat            0\n",
      "Temperature(F)       0\n",
      "Humidity(%)          0\n",
      "Pressure(in)         0\n",
      "Visibility(mi)       0\n",
      "Wind_Speed(mph)      0\n",
      "dtype: int64\n"
     ]
    }
   ],
   "source": [
    "\n",
    "# Zählen Sie NaN-Werte in jedem Feature\n",
    "nan_counts = accidents_encoded.isna().sum()\n",
    "\n",
    "# Ergebnis anzeigen\n",
    "print(nan_counts)\n"
   ]
  },
  {
   "cell_type": "code",
   "execution_count": 8,
   "id": "a26a67a3-092b-4aa2-ac7e-65de8bf672bb",
   "metadata": {},
   "outputs": [],
   "source": [
    "#Features alles außer Severity\n",
    "X = accidents_encoded.drop(columns=['Severity'])\n",
    "#target         \n",
    "y = accidents_encoded['Severity']\n",
    "\n",
    "\n",
    "#scale features\n",
    "scaler = StandardScaler()\n",
    "X_scaled = scaler.fit_transform(X)"
   ]
  },
  {
   "cell_type": "code",
   "execution_count": 9,
   "id": "64215f53-255b-4403-8edc-09acda0d085f",
   "metadata": {},
   "outputs": [
    {
     "name": "stdout",
     "output_type": "stream",
     "text": [
      "X_train Shape: (3525778, 22)\n",
      "y_train Shape: (3525778,)\n"
     ]
    }
   ],
   "source": [
    "# Feature-Selection und LGBM Classifier\n",
    "dim_reduction = VarianceThreshold(0.1)\n",
    "lgbm_classifier = LGBMClassifier(n_estimator = 50, random_state=42)\n",
    "\n",
    "# Trainings- und Testdaten aufteilen\n",
    "X_train, X_test1, y_train, y_test1 = train_test_split(X_scaled, y, test_size=0.5, random_state=42)\n",
    "X_dev, X_test, y_dev, y_test = train_test_split(X_test1, y_test1, test_size=0.5, random_state=42)\n",
    "\n",
    "print(\"X_train Shape:\", X_train.shape)\n",
    "print(\"y_train Shape:\", y_train.shape)"
   ]
  },
  {
   "cell_type": "code",
   "execution_count": 10,
   "id": "9846d328-35cc-4362-92ec-3c94f479b8e5",
   "metadata": {},
   "outputs": [
    {
     "name": "stdout",
     "output_type": "stream",
     "text": [
      "[LightGBM] [Warning] Unknown parameter: n_estimator\n",
      "[LightGBM] [Warning] Unknown parameter: n_estimator\n",
      "[LightGBM] [Info] Auto-choosing row-wise multi-threading, the overhead of testing was 0.120750 seconds.\n",
      "You can set `force_row_wise=true` to remove the overhead.\n",
      "And if memory is not enough, you can set `force_col_wise=true`.\n",
      "[LightGBM] [Info] Total Bins 1266\n",
      "[LightGBM] [Info] Number of data points in the train set: 3525778, number of used features: 21\n",
      "[LightGBM] [Info] Start training from score -4.684127\n",
      "[LightGBM] [Info] Start training from score -0.217535\n",
      "[LightGBM] [Info] Start training from score -1.826797\n",
      "[LightGBM] [Info] Start training from score -3.675698\n",
      "[LightGBM] [Warning] Unknown parameter: n_estimator\n",
      "Varianzen der Features nach VarianceThreshold:\n",
      "[1.00039496 1.00046077 1.01980163 1.00113702 1.00100431 0.99898987\n",
      " 1.00159693 0.99970538 1.02564015 1.00198833 1.00105405 1.01087735\n",
      " 1.00113847 0.         0.99998773 0.99998511 1.00103585 1.00006534\n",
      " 1.00022519 0.99975995 1.00407491 0.99257392]\n",
      "-----------------------------------------------------------------------\n",
      "Classification Report für die Pipeline (VarianceThreshold + SVC):\n",
      "              precision    recall  f1-score   support\n",
      "\n",
      "           1       0.41      0.02      0.04     16366\n",
      "           2       0.83      0.98      0.90   1417902\n",
      "           3       0.62      0.18      0.28    284020\n",
      "           4       0.63      0.01      0.02     44601\n",
      "\n",
      "    accuracy                           0.82   1762889\n",
      "   macro avg       0.62      0.30      0.31   1762889\n",
      "weighted avg       0.78      0.82      0.77   1762889\n",
      "\n"
     ]
    }
   ],
   "source": [
    "# Pipeline erstellen\n",
    "pipeline = Pipeline([\n",
    "    ('dim_reduction', dim_reduction),\n",
    "    ('classifier', lgbm_classifier)\n",
    "])\n",
    "\n",
    "# Trainieren der Pipeline\n",
    "pipeline.fit(X_train, y_train)\n",
    "\n",
    "# Vorhersagen machen\n",
    "predicted_dev = pipeline.predict(X_dev)\n",
    "\n",
    "# Varianz der einzelnen Features ausgeben\n",
    "print(\"Varianzen der Features nach VarianceThreshold:\")\n",
    "print(dim_reduction.variances_)\n",
    "print(\"-----------------------------------------------------------------------\")\n",
    "# Bericht für die Pipeline ausgeben\n",
    "print(\"Classification Report für die Pipeline (VarianceThreshold + SVC):\")\n",
    "print(metrics.classification_report(y_dev, predicted_dev))\n"
   ]
  },
  {
   "cell_type": "code",
   "execution_count": 11,
   "id": "69502961-f703-42bf-9f3c-852bb9641a43",
   "metadata": {},
   "outputs": [],
   "source": [
    "#Identifizierung von Features mit unter 0.1 Variance:\n",
    "\n",
    "X = accidents_encoded.drop(columns=['Severity'])\n",
    "                           \n",
    "y = accidents_encoded['Severity']\n",
    "#set features\n",
    "\n",
    "#scale features\n",
    "scaler = StandardScaler()\n",
    "X_scaled = scaler.fit_transform(X)"
   ]
  },
  {
   "cell_type": "code",
   "execution_count": 12,
   "id": "63779db5-fb26-4cc4-ac38-23449c9b4796",
   "metadata": {},
   "outputs": [],
   "source": [
    "#Ausselektiert 'Amenity' (Varianz: 0.0123) 'Bump' (Varianz: 0.000474) \n",
    "#'Give_Way' (Varianz: 0.101) 'Junction' (Varianz: 0.00462) 'No_Exit' (Varianz: 0.0676) \n",
    "#'Railway' (Varianz: 0.00257) 'Roundabout' (Varianz: 0.00851) 'Stop' (Varianz: 3.40e-05) \n",
    "#'Traffic_Calming' (Varianz: 0.0258) 'Traffic_Signal' (Varianz: 0.0269) \n",
    "#'Turning_Loop' (Varianz: 0.001) 'Sunrise_Sunset' (Varianz: 0.126)\n",
    "\n",
    "X_selected = accidents_encoded.drop(columns=['Severity', 'Amenity', 'Bump', 'Give_Way','Junction', 'No_Exit' , 'Railway',\n",
    "                                   'Roundabout','Stop', 'Traffic_Calming', 'Traffic_Signal', 'Turning_Loop', 'Sunrise_Sunset'])\n",
    "\n",
    "y_selected = accidents['Severity']\n",
    "\n",
    "\n",
    "#scale features\n",
    "scaler = StandardScaler()\n",
    "X_selected_scaled = scaler.fit_transform(X_selected)"
   ]
  },
  {
   "cell_type": "code",
   "execution_count": 13,
   "id": "4c927fe4-79dc-42da-a6fa-3818d025b803",
   "metadata": {},
   "outputs": [
    {
     "name": "stdout",
     "output_type": "stream",
     "text": [
      "X_selected_train Shape: (3525778, 10)\n",
      "Y_selected_train Shape: (3525778,)\n"
     ]
    }
   ],
   "source": [
    "# Trainings- und Testdaten aufteilen\n",
    "X_selected_train, X_selected_test1, y_selected_train, y_selected_test1 = train_test_split(X_selected_scaled, y_selected, test_size=0.5, random_state=42)\n",
    "X_selected_dev, X_selected_test, y_selected_dev, y_selected_test = train_test_split(X_selected_test1, y_selected_test1, test_size=0.5, random_state=42)\n",
    "\n",
    "print(\"X_selected_train Shape:\", X_selected_train.shape)\n",
    "print(\"Y_selected_train Shape:\", y_selected_train.shape)\n"
   ]
  },
  {
   "cell_type": "code",
   "execution_count": 14,
   "id": "c27a0804-5e69-4529-83f5-91671fa60565",
   "metadata": {},
   "outputs": [
    {
     "name": "stdout",
     "output_type": "stream",
     "text": [
      "[LightGBM] [Warning] Unknown parameter: n_estimator\n",
      "[LightGBM] [Warning] Unknown parameter: n_estimator\n",
      "[LightGBM] [Info] Auto-choosing row-wise multi-threading, the overhead of testing was 0.069272 seconds.\n",
      "You can set `force_row_wise=true` to remove the overhead.\n",
      "And if memory is not enough, you can set `force_col_wise=true`.\n",
      "[LightGBM] [Info] Total Bins 1233\n",
      "[LightGBM] [Info] Number of data points in the train set: 3525778, number of used features: 10\n",
      "[LightGBM] [Info] Start training from score -4.684127\n",
      "[LightGBM] [Info] Start training from score -0.217535\n",
      "[LightGBM] [Info] Start training from score -1.826797\n",
      "[LightGBM] [Info] Start training from score -3.675698\n",
      "[LightGBM] [Warning] Unknown parameter: n_estimator\n",
      "Varianzen der Features nach VarianceThreshold:\n",
      "[1.00039496 1.00113702 1.00198833 0.99998511 1.00103585 1.00006534\n",
      " 1.00022519 0.99975995 1.00407491 0.99257392]\n",
      "-----------------------------------------------------------------------\n",
      "Classification Report für die Pipeline (VarianceThreshold + SVC):\n",
      "              precision    recall  f1-score   support\n",
      "\n",
      "           1       0.14      0.00      0.00     16366\n",
      "           2       0.82      0.98      0.90   1417902\n",
      "           3       0.63      0.16      0.25    284020\n",
      "           4       0.65      0.01      0.02     44601\n",
      "\n",
      "    accuracy                           0.82   1762889\n",
      "   macro avg       0.56      0.29      0.29   1762889\n",
      "weighted avg       0.78      0.82      0.76   1762889\n",
      "\n"
     ]
    }
   ],
   "source": [
    "# Pipeline erstellen\n",
    "pipeline_selected = Pipeline([\n",
    "    ('dim_reduction', dim_reduction),\n",
    "    ('classifier', lgbm_classifier)\n",
    "])\n",
    "\n",
    "# Trainieren der Pipeline\n",
    "pipeline_selected.fit(X_selected_train, y_selected_train)\n",
    "\n",
    "# Vorhersagen machen\n",
    "selected_predicted_dev = pipeline_selected.predict(X_selected_dev)\n",
    "\n",
    "# Varianz der einzelnen Features ausgeben\n",
    "print(\"Varianzen der Features nach VarianceThreshold:\")\n",
    "print(dim_reduction.variances_)\n",
    "print(\"-----------------------------------------------------------------------\")\n",
    "# Bericht für die Pipeline ausgeben\n",
    "print(\"Classification Report für die Pipeline (VarianceThreshold + SVC):\")\n",
    "print(metrics.classification_report(y_selected_dev, selected_predicted_dev))\n"
   ]
  },
  {
   "cell_type": "code",
   "execution_count": null,
   "id": "499ccfc2-5a16-43c1-b136-c77e1aea6c73",
   "metadata": {},
   "outputs": [],
   "source": [
    "#Das Ziel wurde nicht erreicht. vorallem die recall-werte und der f1-score haben sich verschlechtert"
   ]
  }
 ],
 "metadata": {
  "kernelspec": {
   "display_name": "Python 3 (ipykernel)",
   "language": "python",
   "name": "python3"
  },
  "language_info": {
   "codemirror_mode": {
    "name": "ipython",
    "version": 3
   },
   "file_extension": ".py",
   "mimetype": "text/x-python",
   "name": "python",
   "nbconvert_exporter": "python",
   "pygments_lexer": "ipython3",
   "version": "3.12.0"
  }
 },
 "nbformat": 4,
 "nbformat_minor": 5
}
