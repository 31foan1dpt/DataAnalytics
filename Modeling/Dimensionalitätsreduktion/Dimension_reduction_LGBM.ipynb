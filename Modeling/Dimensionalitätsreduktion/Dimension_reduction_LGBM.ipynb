{
 "cells": [
  {
   "cell_type": "code",
   "execution_count": 1,
   "id": "0b6d3582-93cd-46fa-89f6-b7747f044b2a",
   "metadata": {},
   "outputs": [],
   "source": [
    "from sklearn import svm, metrics\n",
    "from sklearn.pipeline import Pipeline\n",
    "from sklearn.feature_selection import VarianceThreshold\n",
    "from sklearn.model_selection import train_test_split\n",
    "from sklearn.preprocessing import LabelEncoder, StandardScaler\n",
    "from lightgbm import LGBMClassifier\n",
    "import pandas as pd"
   ]
  },
  {
   "cell_type": "code",
   "execution_count": 2,
   "id": "2a23492e-ab8b-40ae-b57f-e1dc39161af0",
   "metadata": {},
   "outputs": [],
   "source": [
    "accidents = pd.read_csv('../../data/MA3_finished.csv', index_col='ID')"
   ]
  },
  {
   "cell_type": "code",
   "execution_count": 3,
   "id": "febf0bef-e1b8-410a-8e7e-02ad3b9c8183",
   "metadata": {},
   "outputs": [
    {
     "data": {
      "text/plain": [
       "Unnamed: 0                 int64\n",
       "Severity                   int64\n",
       "Start_Time                object\n",
       "End_Time                  object\n",
       "Start_Lat                float64\n",
       "Start_Lng                float64\n",
       "Distance(mi)             float64\n",
       "Description               object\n",
       "Street                    object\n",
       "City                      object\n",
       "County                    object\n",
       "State                     object\n",
       "Zipcode                   object\n",
       "Country                   object\n",
       "Timezone                  object\n",
       "Airport_Code              object\n",
       "Temperature(F)           float64\n",
       "Humidity(%)              float64\n",
       "Pressure(in)             float64\n",
       "Visibility(mi)           float64\n",
       "Wind_Direction            object\n",
       "Wind_Speed(mph)          float64\n",
       "Weather_Condition         object\n",
       "Amenity                     bool\n",
       "Bump                        bool\n",
       "Crossing                    bool\n",
       "Give_Way                    bool\n",
       "Junction                    bool\n",
       "No_Exit                     bool\n",
       "Railway                     bool\n",
       "Roundabout                  bool\n",
       "Station                     bool\n",
       "Stop                        bool\n",
       "Traffic_Calming             bool\n",
       "Traffic_Signal              bool\n",
       "Turning_Loop                bool\n",
       "Sunrise_Sunset            object\n",
       "Civil_Twilight            object\n",
       "Nautical_Twilight         object\n",
       "Astronomical_Twilight     object\n",
       "Year                       int64\n",
       "Month                      int64\n",
       "Day                        int64\n",
       "Hour                       int64\n",
       "Duration                 float64\n",
       "State Name                object\n",
       "Region                    object\n",
       "Division                  object\n",
       "dtype: object"
      ]
     },
     "execution_count": 3,
     "metadata": {},
     "output_type": "execute_result"
    }
   ],
   "source": [
    "accidents.dtypes"
   ]
  },
  {
   "cell_type": "code",
   "execution_count": 4,
   "id": "0853ccda-61e8-41f5-bc13-0e3b23fb5141",
   "metadata": {},
   "outputs": [
    {
     "data": {
      "text/plain": [
       "Index(['Division', 'Region', 'State Name', 'Astronomical_Twilight',\n",
       "       'Nautical_Twilight', 'Civil_Twilight', 'Sunrise_Sunset',\n",
       "       'Weather_Condition', 'Airport_Code', 'Timezone', 'Country', 'Zipcode',\n",
       "       'State', 'County', 'City', 'Street', 'Description', 'Start_Time',\n",
       "       'End_Time', 'Amenity', 'Bump', 'Crossing', 'Give_Way', 'Junction',\n",
       "       'No_Exit', 'Railway', 'Roundabout', 'Station', 'Stop',\n",
       "       'Traffic_Calming', 'Traffic_Signal', 'Turning_Loop', 'Severity',\n",
       "       'Start_Lng', 'Start_Lat', 'Temperature(F)', 'Humidity(%)',\n",
       "       'Pressure(in)', 'Visibility(mi)', 'Wind_Speed(mph)'],\n",
       "      dtype='object')"
      ]
     },
     "execution_count": 4,
     "metadata": {},
     "output_type": "execute_result"
    }
   ],
   "source": [
    "#featureselection\n",
    "#features to encode\n",
    "obj_bool_features = accidents[['Division','Region','State Name','Astronomical_Twilight','Nautical_Twilight','Civil_Twilight',\n",
    "                               'Sunrise_Sunset','Weather_Condition','Sunrise_Sunset','Airport_Code','Timezone','Country','Zipcode',\n",
    "                               'State','County', 'City' ,'Street','Description','Start_Time', 'End_Time', 'Weather_Condition', \n",
    "                               'Amenity', 'Bump', 'Crossing', 'Give_Way', 'Junction', 'No_Exit', 'Railway', 'Roundabout', 'Station', \n",
    "                               'Stop', 'Traffic_Calming', 'Traffic_Signal', 'Turning_Loop', 'Sunrise_Sunset']]\n",
    "\n",
    "#encode features above\n",
    "le = LabelEncoder()\n",
    "#create copy of df\n",
    "accidents_encoded = pd.DataFrame()\n",
    "#LabelEncoder can only encode one column at a time --> forloop\n",
    "#obj_bool_feat = le.fit_transform(obj_bool_features)\n",
    "for X in obj_bool_features:\n",
    "    accidents_encoded[X] = le.fit_transform(accidents[X])\n",
    "\n",
    "#float/int features\n",
    "float_int_features = accidents[['Severity','Start_Lng', 'Start_Lat', 'Temperature(F)', 'Humidity(%)', \n",
    "                                'Pressure(in)', 'Visibility(mi)', 'Wind_Speed(mph)',]]\n",
    "\n",
    "for X in float_int_features:\n",
    "    accidents_encoded[X] = accidents[X]\n",
    "\n",
    "#check if combination worked \n",
    "accidents_encoded.columns"
   ]
  },
  {
   "cell_type": "code",
   "execution_count": 5,
   "id": "1ad069ec-a537-41b6-a7e2-b603345c3f2f",
   "metadata": {},
   "outputs": [
    {
     "name": "stdout",
     "output_type": "stream",
     "text": [
      "         Division  Region  State Name  Astronomical_Twilight  \\\n",
      "0               0       0          33                      0   \n",
      "1               0       0          33                      0   \n",
      "2               0       0          33                      0   \n",
      "3               0       0          33                      0   \n",
      "4               0       0          33                      0   \n",
      "...           ...     ...         ...                    ...   \n",
      "7051551         5       3           3                      0   \n",
      "7051552         5       3           3                      0   \n",
      "7051553         5       3           3                      0   \n",
      "7051554         5       3           3                      0   \n",
      "7051555         5       3           3                      0   \n",
      "\n",
      "         Nautical_Twilight  Civil_Twilight  Sunrise_Sunset  Weather_Condition  \\\n",
      "0                        0               1               1                 86   \n",
      "1                        0               0               1                 83   \n",
      "2                        0               0               0                 83   \n",
      "3                        0               0               0                 60   \n",
      "4                        0               0               0                 86   \n",
      "...                    ...             ...             ...                ...   \n",
      "7051551                  0               0               0                 15   \n",
      "7051552                  0               0               0                 15   \n",
      "7051553                  0               0               0                 89   \n",
      "7051554                  0               0               0                 15   \n",
      "7051555                  0               0               0                 15   \n",
      "\n",
      "         Airport_Code  Timezone  ...  Traffic_Signal  Turning_Loop  Severity  \\\n",
      "0                 956         1  ...               1             0         2   \n",
      "1                 505         1  ...               0             0         3   \n",
      "2                1222         1  ...               1             0         2   \n",
      "3                 417         1  ...               0             0         3   \n",
      "4                 505         1  ...               0             0         2   \n",
      "...               ...       ...  ...             ...           ...       ...   \n",
      "7051551          1580         3  ...               0             0         2   \n",
      "7051552          1326         3  ...               0             0         2   \n",
      "7051553          1749         3  ...               0             0         2   \n",
      "7051554          1744         3  ...               0             0         2   \n",
      "7051555          1681         3  ...               0             0         2   \n",
      "\n",
      "          Start_Lng  Start_Lat  Temperature(F)  Humidity(%)  Pressure(in)  \\\n",
      "0        -84.032608  39.063148            36.0        100.0         29.67   \n",
      "1        -84.205582  39.747753            35.1         96.0         29.64   \n",
      "2        -84.188354  39.627781            36.0         89.0         29.65   \n",
      "3        -82.925194  40.100590            37.9         97.0         29.63   \n",
      "4        -84.230507  39.758274            34.0        100.0         29.66   \n",
      "...             ...        ...             ...          ...           ...   \n",
      "7051551 -117.379360  34.002480            86.0         40.0         28.92   \n",
      "7051552 -117.148060  32.766960            70.0         73.0         29.39   \n",
      "7051553 -117.847790  33.775450            73.0         64.0         29.74   \n",
      "7051554 -118.403020  33.992460            71.0         81.0         29.62   \n",
      "7051555 -117.230920  34.133930            79.0         47.0         28.63   \n",
      "\n",
      "         Visibility(mi)  Wind_Speed(mph)  \n",
      "0                  10.0              3.5  \n",
      "1                   9.0              4.6  \n",
      "2                   6.0              3.5  \n",
      "3                   7.0              3.5  \n",
      "4                   7.0              3.5  \n",
      "...                 ...              ...  \n",
      "7051551            10.0             13.0  \n",
      "7051552            10.0              6.0  \n",
      "7051553            10.0             10.0  \n",
      "7051554            10.0              8.0  \n",
      "7051555             7.0              7.0  \n",
      "\n",
      "[7051556 rows x 40 columns]\n"
     ]
    }
   ],
   "source": [
    "#check if encoding worked \n",
    "print(accidents_encoded)"
   ]
  },
  {
   "cell_type": "code",
   "execution_count": 6,
   "id": "6fd46302-8646-4bcd-a94a-63f23129c79e",
   "metadata": {},
   "outputs": [
    {
     "name": "stdout",
     "output_type": "stream",
     "text": [
      "Severity\n",
      "2    5671502\n",
      "3    1136465\n",
      "4     178538\n",
      "1      65051\n",
      "Name: count, dtype: int64\n"
     ]
    }
   ],
   "source": [
    "#check amount of severity for each level\n",
    "print(accidents_encoded['Severity'].value_counts())"
   ]
  },
  {
   "cell_type": "code",
   "execution_count": 7,
   "id": "ddda19a8-5980-4188-9e40-e6cc148b875b",
   "metadata": {},
   "outputs": [
    {
     "name": "stdout",
     "output_type": "stream",
     "text": [
      "Division                 0\n",
      "Region                   0\n",
      "State Name               0\n",
      "Astronomical_Twilight    0\n",
      "Nautical_Twilight        0\n",
      "Civil_Twilight           0\n",
      "Sunrise_Sunset           0\n",
      "Weather_Condition        0\n",
      "Airport_Code             0\n",
      "Timezone                 0\n",
      "Country                  0\n",
      "Zipcode                  0\n",
      "State                    0\n",
      "County                   0\n",
      "City                     0\n",
      "Street                   0\n",
      "Description              0\n",
      "Start_Time               0\n",
      "End_Time                 0\n",
      "Amenity                  0\n",
      "Bump                     0\n",
      "Crossing                 0\n",
      "Give_Way                 0\n",
      "Junction                 0\n",
      "No_Exit                  0\n",
      "Railway                  0\n",
      "Roundabout               0\n",
      "Station                  0\n",
      "Stop                     0\n",
      "Traffic_Calming          0\n",
      "Traffic_Signal           0\n",
      "Turning_Loop             0\n",
      "Severity                 0\n",
      "Start_Lng                0\n",
      "Start_Lat                0\n",
      "Temperature(F)           0\n",
      "Humidity(%)              0\n",
      "Pressure(in)             0\n",
      "Visibility(mi)           0\n",
      "Wind_Speed(mph)          0\n",
      "dtype: int64\n"
     ]
    }
   ],
   "source": [
    "# Zählen Sie NaN-Werte in jedem Feature\n",
    "nan_counts = accidents_encoded.isna().sum()\n",
    "# Ergebnis anzeigen\n",
    "print(nan_counts)"
   ]
  },
  {
   "cell_type": "code",
   "execution_count": 8,
   "id": "a26a67a3-092b-4aa2-ac7e-65de8bf672bb",
   "metadata": {},
   "outputs": [],
   "source": [
    "#Features alles außer Severity\n",
    "X = accidents_encoded.drop(columns=['Severity'])\n",
    "#target         \n",
    "y = accidents_encoded['Severity']\n",
    "\n",
    "#scale features\n",
    "scaler = StandardScaler()\n",
    "X_scaled = scaler.fit_transform(X)"
   ]
  },
  {
   "cell_type": "code",
   "execution_count": 19,
   "id": "64215f53-255b-4403-8edc-09acda0d085f",
   "metadata": {},
   "outputs": [
    {
     "name": "stdout",
     "output_type": "stream",
     "text": [
      "X_train Shape: (3525778, 39)\n",
      "y_train Shape: (3525778,)\n",
      "X_dev Shape: (1762889, 39)\n",
      "y_dev Shape: (1762889,)\n"
     ]
    }
   ],
   "source": [
    "# Feature-Selection und LGBM Classifier\n",
    "dim_reduction = VarianceThreshold(0.1)\n",
    "lgbm_classifier = LGBMClassifier(random_state=42)\n",
    "\n",
    "# Trainings- und Testdaten aufteilen\n",
    "#Test_size = 0.5 -> 0.2 kein Unterschied im Ergebnis\n",
    "X_train, X_test1, y_train, y_test1 = train_test_split(X_scaled, y, test_size=0.5, stratify=y, random_state=42)\n",
    "X_dev, X_test, y_dev, y_test = train_test_split(X_test1, y_test1, test_size=0.5, stratify=y_test1, random_state=42)\n",
    "\n",
    "print(\"X_train Shape:\", X_train.shape)\n",
    "print(\"y_train Shape:\", y_train.shape)\n",
    "print(\"X_dev Shape:\",X_dev.shape)\n",
    "print(\"y_dev Shape:\",y_dev.shape)"
   ]
  },
  {
   "cell_type": "code",
   "execution_count": 20,
   "id": "e788ca65-d8d3-42f1-8409-05ff2197ea0a",
   "metadata": {},
   "outputs": [
    {
     "name": "stdout",
     "output_type": "stream",
     "text": [
      "[LightGBM] [Info] Auto-choosing row-wise multi-threading, the overhead of testing was 0.631483 seconds.\n",
      "You can set `force_row_wise=true` to remove the overhead.\n",
      "And if memory is not enough, you can set `force_col_wise=true`.\n",
      "[LightGBM] [Info] Total Bins 3425\n",
      "[LightGBM] [Info] Number of data points in the train set: 3525778, number of used features: 37\n",
      "[LightGBM] [Info] Start training from score -4.685847\n",
      "[LightGBM] [Info] Start training from score -0.217794\n",
      "[LightGBM] [Info] Start training from score -1.825325\n",
      "[LightGBM] [Info] Start training from score -3.676202\n",
      "Classification report for classifier LGBMClassifier(random_state=42):\n",
      "              precision    recall  f1-score   support\n",
      "\n",
      "           1       0.76      0.64      0.70     16263\n",
      "           2       0.94      0.97      0.96   1417875\n",
      "           3       0.86      0.78      0.82    284116\n",
      "           4       0.96      0.47      0.63     44635\n",
      "\n",
      "    accuracy                           0.93   1762889\n",
      "   macro avg       0.88      0.72      0.78   1762889\n",
      "weighted avg       0.93      0.93      0.92   1762889\n",
      "\n",
      "\n"
     ]
    }
   ],
   "source": [
    "# Auf den Trainingsdaten lernen\n",
    "lgbm_classifier.fit(X_train, y_train)\n",
    "\n",
    "# Vorhersagen für die Testdaten machen und berichten\n",
    "predicted = lgbm_classifier.predict(X_dev)\n",
    "\n",
    "print(f\"Classification report for classifier {lgbm_classifier}:\\n\"\n",
    "      f\"{metrics.classification_report(y_dev, predicted)}\\n\")"
   ]
  },
  {
   "cell_type": "code",
   "execution_count": 21,
   "id": "9846d328-35cc-4362-92ec-3c94f479b8e5",
   "metadata": {},
   "outputs": [
    {
     "name": "stdout",
     "output_type": "stream",
     "text": [
      "[LightGBM] [Info] Auto-choosing row-wise multi-threading, the overhead of testing was 0.203714 seconds.\n",
      "You can set `force_row_wise=true` to remove the overhead.\n",
      "And if memory is not enough, you can set `force_col_wise=true`.\n",
      "[LightGBM] [Info] Total Bins 3425\n",
      "[LightGBM] [Info] Number of data points in the train set: 3525778, number of used features: 37\n",
      "[LightGBM] [Info] Start training from score -4.685847\n",
      "[LightGBM] [Info] Start training from score -0.217794\n",
      "[LightGBM] [Info] Start training from score -1.825325\n",
      "[LightGBM] [Info] Start training from score -3.676202\n",
      "Varianzen der Features nach VarianceThreshold:\n",
      "[0.99821092 1.0001091  0.99943914 1.00015535 0.99978423 0.99976302\n",
      " 0.99973105 1.00045253 0.99974606 0.9996395  0.         1.0005977\n",
      " 0.99935362 0.99965903 1.00040312 0.99972947 0.99996265 1.00053347\n",
      " 1.00051734 1.00241615 0.99603963 1.00056802 1.01293362 1.00098845\n",
      " 0.99763211 1.00422275 0.89743895 1.00205095 1.00070603 0.99169871\n",
      " 0.99941941 0.         1.00037448 0.99969215 1.00052408 0.99962956\n",
      " 1.00207655 1.00211405 0.98489932]\n",
      "-----------------------------------------------------------------------\n",
      "Classification report for VarianceThreshold dimensionality reduction:\n",
      "              precision    recall  f1-score   support\n",
      "\n",
      "           1       0.76      0.64      0.70     16263\n",
      "           2       0.94      0.97      0.96   1417875\n",
      "           3       0.86      0.78      0.82    284116\n",
      "           4       0.96      0.47      0.63     44635\n",
      "\n",
      "    accuracy                           0.93   1762889\n",
      "   macro avg       0.88      0.72      0.78   1762889\n",
      "weighted avg       0.93      0.93      0.92   1762889\n",
      "\n",
      "\n"
     ]
    }
   ],
   "source": [
    "# Pipeline erstellen\n",
    "pipeline = Pipeline([\n",
    "    ('dim_reduction', dim_reduction),\n",
    "    ('classifier', lgbm_classifier)\n",
    "])\n",
    "\n",
    "# Trainieren der Pipeline\n",
    "pipeline.fit(X_train, y_train)\n",
    "\n",
    "# Vorhersagen machen\n",
    "predicted_dev = pipeline.predict(X_dev)\n",
    "\n",
    "# Varianz der einzelnen Features ausgeben\n",
    "print(\"Varianzen der Features nach VarianceThreshold:\")\n",
    "print(dim_reduction.variances_)\n",
    "\n",
    "print(\"-----------------------------------------------------------------------\")\n",
    "\n",
    "# Bericht für die Pipeline ausgeben\n",
    "print(f\"Classification report for VarianceThreshold dimensionality reduction:\\n\"\n",
    "      f\"{metrics.classification_report(y_dev, predicted)}\\n\")\n",
    "\n"
   ]
  },
  {
   "cell_type": "code",
   "execution_count": 12,
   "id": "499ccfc2-5a16-43c1-b136-c77e1aea6c73",
   "metadata": {},
   "outputs": [],
   "source": [
    "#Die 0. representiert ausgeschlossene Features in unserem Fall sind es die Features 'Turning Loop' und 'Timezone'\n",
    "#Start mit 39 Columns - Ende mit 37 Columns\n",
    "#Before VarianceThreshold :the overhead of testing was 0.631483 seconds.\n",
    "#After Variance Threshold :the overhead of testing was 0.203714 seconds. \n",
    "\n",
    "#Unser Ziel war es die Features zu identifizieren, die eine niedrige Varianz haben und ausgeschlossen werden kann um mögliche \n",
    "#Leistung zu steigern\n",
    "\n",
    "\n",
    "#Es konnten folgende Ziele erreicht werden:\n",
    "\n",
    "#Analyse: Durch das Entfernen der Features 'Turning Loop' und 'Timezone' \n",
    "#konzentrieren Sie sich auf relevantere und variablere Merkmale, was die Analyse verbessert.\n",
    "\n",
    "#Effizienz: Die Reduzierung der Feature-Anzahl von 39 auf 37 und die verkürzte Testzeit deuten darauf hin,\n",
    "#dass das Training effizienter wurde, ohne die Aussagekraft der Features zu beeinträchtigen.\n",
    "\n",
    "#Rauschen reduzieren: Rauschen zu minimieren, indem Features mit geringer Varianz entfernt werden. \n",
    "#Dies kann zu einem präziseren Modell beitragen."
   ]
  }
 ],
 "metadata": {
  "kernelspec": {
   "display_name": "Python 3 (ipykernel)",
   "language": "python",
   "name": "python3"
  },
  "language_info": {
   "codemirror_mode": {
    "name": "ipython",
    "version": 3
   },
   "file_extension": ".py",
   "mimetype": "text/x-python",
   "name": "python",
   "nbconvert_exporter": "python",
   "pygments_lexer": "ipython3",
   "version": "3.12.0"
  }
 },
 "nbformat": 4,
 "nbformat_minor": 5
}
